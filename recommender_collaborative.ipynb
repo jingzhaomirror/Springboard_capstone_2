{
 "cells": [
  {
   "cell_type": "markdown",
   "metadata": {},
   "source": [
    "# Recommender system - personalized collaborative recommender module\n",
    "\n",
    "## Introduction ##\n",
    "With user x restaurant rating matrix, a collaborative recommender module is built here to recommend restaurants that are highly rated by users sharing similar preference.<br>\n",
    "\n",
    "In this case, the Yelp dataset has a total of 1,518,169 users, 188,593 businesses and 5,996,995 reviews, resulting in a very sparse user x restaurant matrix (99.997% empty). Therefore, matrix factorization algorithm is chosed for matrix completion and generate recommendations.<br>\n",
    "\n",
    "## Summary ##\n",
    "\n",
    "### 1. Various matrix factorization algorithms are experimented: (section \\#2)\n",
    "\n",
    "* SVD (single value decomposition): The user x business matrix is factorized into user latent matrix and business latent matrix using single value decomposition algorithm.\n",
    "* SVD with bias: a user bias vector and a business bias vector are introduced to the original SVD. The user x business matrix is factorized into user latent matrix, business latent matrix, plus the two bias vector terms; the predicted rating can then be calculated as user_matrix x business_matrix + user_bias + business_bias + global_mean.\n",
    "* NMF (non-negative matrix factorization): The user x business matrix is factorized into non-negative user latent matrix and non-negative business latent matrix using non-negative matrix factorization algorithm. Different from SVD, all the fitted values in the user and business latent matrix are non-negative. \n",
    "* NMF with bias terms: similar to SVD with bias, a user bias vector and a business bias vector are introduced to the original NMF. The user x business matrix is factorized into non-negative user latent matrix, non-negative business latent matrix, plus the two bias vector terms.\n",
    "\n",
    "Instead of starting from scratch, both scikit-surprise package and scikit-learn are used to handle many of the implementation details. In particular, the scikit-surprise package is a toolkit built on scikit-learn for building and analyzing recommender systems in particular, and it covers all the four algorithms above. In addition, the NMF module from sklearn.decomposition is also used for prototyping the basic NMF algorithm. <br>\n",
    "\n",
    "The prototyping results suggest that among the four, both SVD with bias and the basic NMF (no bias) provide reasonable rating predictions, SVD with bias being the most flexible and best performing among all.<br> \n",
    "\n",
    "### 2. Optimization and Evaluation of matrix factorization using SVD with bias:  (section \\#3)\n",
    "\n",
    "**Gridsearch CV:** <br>\n",
    "Based on the insights from prototyping, both SVD with bias model and basic NMF model are further optimized via gridsearch cross validation. The SVD with bias model with the optimized parameters give the best RMSE results.<br>\n",
    "\n",
    "**RMSE of the best model:**<br>\n",
    "RMSEs of the best model are 1.277, 1.244, and 1.188, for testset with new user/business, testset with no new user/business, and testset with only user/business of more than 5 historical ratings, respectively.<br>\n",
    "\n",
    "**NDCG of the best model:**<br>\n",
    "Recommendation ranking can be generated for all users in testset based on the predicted ratings from the best model. To evaluate the ranking quality, NDCG (normalized discounted cumulative gain) scores (NDCG@10 and NDCG@5) are computed, with the average NDCG@10 and NDCG@5 scores being 0.905 and 0.908, respectively, higher than the average NDCG scores (~0.86) obtained by the content-based recommender module.<br>\n",
    "\n",
    "### 3. Implementation & testing of the collaborative recommender module: (section \\#4)\n",
    "\n",
    "The best-performing SVD with bias maxtrix factorization model are chosen for implementing the collaborative recommender module. Prior to implementation, the model with the optimized parameters is re-trained taking advantage of the entire review dataset and saved to file for later use in the module.<br>\n",
    "\n",
    "**Implementaion of content-based recommender module:**<br> \n",
    "The user latent feature matrix and bias vector, the business latent feature and bias vector, along with other necessary information of the trained SVD with bias model are loaded into the module first; given the user_id of interest, personalized ratings are predicted for all businesses in the catalog and paired with corresponding business_id; the list of predicted ratings are then filtered to unrated businesses only based on the user_id of interest, and merged with the restaurant recommendation list based on business_id to filter out non-restaurant businesses; lastly, the resulting recommendation is ranked by predicted rating in descending order to produce the final recommendation for the given user.<br>\n",
    "\n",
    "**Testing:**<br>\n",
    "Module testing shows that the average time for computing and returning the recommendation for a given user only takes 2 seconds. The returned results are indeed personalized based on similar users, and the module can also return a general recommendation for new users.<br>"
   ]
  },
  {
   "cell_type": "code",
   "execution_count": 1,
   "metadata": {},
   "outputs": [],
   "source": [
    "import warnings\n",
    "warnings.filterwarnings('ignore')\n",
    "\n",
    "import pandas as pd\n",
    "import numpy as np\n",
    "\n",
    "import pickle\n",
    "from tqdm import tqdm\n",
    "\n",
    "%matplotlib inline\n",
    "import matplotlib.pyplot as plt\n",
    "\n",
    "business = pd.read_csv('business_clean.csv')  # contains business data including location data, attributes and categories\n",
    "review = pd.read_csv('review_clean.csv') # contains full review text data including the user_id that wrote the review and the business_id the review is written for"
   ]
  },
  {
   "cell_type": "markdown",
   "metadata": {},
   "source": [
    "# 1. Preparation"
   ]
  },
  {
   "cell_type": "markdown",
   "metadata": {},
   "source": [
    "## 1.1. Check unique business"
   ]
  },
  {
   "cell_type": "code",
   "execution_count": 2,
   "metadata": {},
   "outputs": [
    {
     "name": "stdout",
     "output_type": "stream",
     "text": [
      "# of restaurants in the business dataset:  47553\n",
      "# of businesses in the review dataset:  188593\n"
     ]
    }
   ],
   "source": [
    "print(\"# of restaurants in the business dataset: \", business.business_id.nunique())\n",
    "print(\"# of businesses in the review dataset: \", review.business_id.nunique())"
   ]
  },
  {
   "cell_type": "code",
   "execution_count": 3,
   "metadata": {},
   "outputs": [
    {
     "data": {
      "text/plain": [
       "True"
      ]
     },
     "execution_count": 3,
     "metadata": {},
     "output_type": "execute_result"
    }
   ],
   "source": [
    "b_bid = set(business.business_id.values) # set of unique business_id in the 'business' dataset\n",
    "r_bid = set(review.business_id.values) # set of unique business_id in the 'review' dataset\n",
    "len(b_bid) == len(b_bid.intersection(r_bid))"
   ]
  },
  {
   "cell_type": "markdown",
   "metadata": {},
   "source": [
    "As shown, all the restaurant 'business_id' from the 'business' dataset can be found in the 'review' dataset, that is, every restaurant in the catalog has rated by at least one user. "
   ]
  },
  {
   "cell_type": "markdown",
   "metadata": {},
   "source": [
    "# 1.2 Check restaurant-related reviews"
   ]
  },
  {
   "cell_type": "code",
   "execution_count": 4,
   "metadata": {},
   "outputs": [
    {
     "name": "stdout",
     "output_type": "stream",
     "text": [
      "Number of reviews in 'review' dataset vs. 'review_s' dataset:\n",
      " 5996995 3469589\n",
      "Number of unique users in 'review' dataset vs. 'review_s' dataset:\n",
      " 1518168 988296\n"
     ]
    }
   ],
   "source": [
    "# subset of 'review' containing only restaurant-related reviews\n",
    "review_s = review[review.business_id.isin(list(business.business_id.unique()))].reset_index(drop=True)\n",
    "print(\"Number of reviews in 'review' dataset vs. 'review_s' dataset:\\n\", len(review), len(review_s))\n",
    "print(\"Number of unique users in 'review' dataset vs. 'review_s' dataset:\\n\", review.user_id.nunique(),review_s.user_id.nunique())"
   ]
  },
  {
   "cell_type": "markdown",
   "metadata": {},
   "source": [
    "**As shown, the 'review' dataframe contains many reviews on non-restaurant businesses. But if filtering the 'review' df by only restaurant related reviews, then the user coverage drops significantly to only 65% of the original coverage. Therefore, the entire 'review' dataframe will be used in collaborative filtering for the maximum user coverage.**"
   ]
  },
  {
   "cell_type": "markdown",
   "metadata": {},
   "source": [
    "## 1.3 check unique user-restaurant combination in 'review' dataset"
   ]
  },
  {
   "cell_type": "code",
   "execution_count": 5,
   "metadata": {},
   "outputs": [
    {
     "data": {
      "text/html": [
       "<div>\n",
       "<style scoped>\n",
       "    .dataframe tbody tr th:only-of-type {\n",
       "        vertical-align: middle;\n",
       "    }\n",
       "\n",
       "    .dataframe tbody tr th {\n",
       "        vertical-align: top;\n",
       "    }\n",
       "\n",
       "    .dataframe thead th {\n",
       "        text-align: right;\n",
       "    }\n",
       "</style>\n",
       "<table border=\"1\" class=\"dataframe\">\n",
       "  <thead>\n",
       "    <tr style=\"text-align: right;\">\n",
       "      <th></th>\n",
       "      <th>funny</th>\n",
       "      <th>stars</th>\n",
       "      <th>useful</th>\n",
       "      <th>cool</th>\n",
       "      <th>text</th>\n",
       "      <th>business_id</th>\n",
       "      <th>user_id</th>\n",
       "      <th>review_id</th>\n",
       "      <th>date</th>\n",
       "    </tr>\n",
       "  </thead>\n",
       "  <tbody>\n",
       "    <tr>\n",
       "      <th>2055037</th>\n",
       "      <td>0</td>\n",
       "      <td>1</td>\n",
       "      <td>0</td>\n",
       "      <td>0</td>\n",
       "      <td>This place continues to be a shit hole, with P...</td>\n",
       "      <td>xKQVtEWiPK6hq0DljVnAfg</td>\n",
       "      <td>XNzChtoNOw706kps82x0Kg</td>\n",
       "      <td>1l-mU-BwQsZRW7BKdHVwZw</td>\n",
       "      <td>2017-05-02</td>\n",
       "    </tr>\n",
       "    <tr>\n",
       "      <th>2055038</th>\n",
       "      <td>0</td>\n",
       "      <td>1</td>\n",
       "      <td>8</td>\n",
       "      <td>0</td>\n",
       "      <td>My mother recently spent a good deal of time i...</td>\n",
       "      <td>xKQVtEWiPK6hq0DljVnAfg</td>\n",
       "      <td>XNzChtoNOw706kps82x0Kg</td>\n",
       "      <td>IcpPtd37iJEthZybuasS4g</td>\n",
       "      <td>2015-02-06</td>\n",
       "    </tr>\n",
       "    <tr>\n",
       "      <th>4591943</th>\n",
       "      <td>0</td>\n",
       "      <td>5</td>\n",
       "      <td>0</td>\n",
       "      <td>0</td>\n",
       "      <td>I had someone give me a facial and ruined my f...</td>\n",
       "      <td>V_oOjMVRXnr_t_9i1CSivw</td>\n",
       "      <td>8GpM-QUlb0V9DP56Xse3EA</td>\n",
       "      <td>I8v-5jfkBluyN5kT8ha0bA</td>\n",
       "      <td>2016-08-26</td>\n",
       "    </tr>\n",
       "    <tr>\n",
       "      <th>4591944</th>\n",
       "      <td>1</td>\n",
       "      <td>5</td>\n",
       "      <td>2</td>\n",
       "      <td>0</td>\n",
       "      <td>I had someone give me a facial and ruined my f...</td>\n",
       "      <td>V_oOjMVRXnr_t_9i1CSivw</td>\n",
       "      <td>8GpM-QUlb0V9DP56Xse3EA</td>\n",
       "      <td>6vc4tqVh9_tbMRtFeS4pIw</td>\n",
       "      <td>2016-07-09</td>\n",
       "    </tr>\n",
       "    <tr>\n",
       "      <th>5154278</th>\n",
       "      <td>0</td>\n",
       "      <td>5</td>\n",
       "      <td>0</td>\n",
       "      <td>1</td>\n",
       "      <td>I always stop by DFEF for my morning fix every...</td>\n",
       "      <td>7MacgLhLGiXvZoZdhgeKPw</td>\n",
       "      <td>lLF9x4I41LFFKa_FX-lkbQ</td>\n",
       "      <td>HFgn9Wz2jydIZLtqUeGu0Q</td>\n",
       "      <td>2017-06-03</td>\n",
       "    </tr>\n",
       "    <tr>\n",
       "      <th>5154279</th>\n",
       "      <td>0</td>\n",
       "      <td>5</td>\n",
       "      <td>1</td>\n",
       "      <td>0</td>\n",
       "      <td>I always stop by DFEF for my morning fix every...</td>\n",
       "      <td>7MacgLhLGiXvZoZdhgeKPw</td>\n",
       "      <td>lLF9x4I41LFFKa_FX-lkbQ</td>\n",
       "      <td>HR1JWyemX-kmNFaQ5LxR2g</td>\n",
       "      <td>2017-01-03</td>\n",
       "    </tr>\n",
       "  </tbody>\n",
       "</table>\n",
       "</div>"
      ],
      "text/plain": [
       "         funny  stars  useful  cool  \\\n",
       "2055037      0      1       0     0   \n",
       "2055038      0      1       8     0   \n",
       "4591943      0      5       0     0   \n",
       "4591944      1      5       2     0   \n",
       "5154278      0      5       0     1   \n",
       "5154279      0      5       1     0   \n",
       "\n",
       "                                                      text  \\\n",
       "2055037  This place continues to be a shit hole, with P...   \n",
       "2055038  My mother recently spent a good deal of time i...   \n",
       "4591943  I had someone give me a facial and ruined my f...   \n",
       "4591944  I had someone give me a facial and ruined my f...   \n",
       "5154278  I always stop by DFEF for my morning fix every...   \n",
       "5154279  I always stop by DFEF for my morning fix every...   \n",
       "\n",
       "                    business_id                 user_id  \\\n",
       "2055037  xKQVtEWiPK6hq0DljVnAfg  XNzChtoNOw706kps82x0Kg   \n",
       "2055038  xKQVtEWiPK6hq0DljVnAfg  XNzChtoNOw706kps82x0Kg   \n",
       "4591943  V_oOjMVRXnr_t_9i1CSivw  8GpM-QUlb0V9DP56Xse3EA   \n",
       "4591944  V_oOjMVRXnr_t_9i1CSivw  8GpM-QUlb0V9DP56Xse3EA   \n",
       "5154278  7MacgLhLGiXvZoZdhgeKPw  lLF9x4I41LFFKa_FX-lkbQ   \n",
       "5154279  7MacgLhLGiXvZoZdhgeKPw  lLF9x4I41LFFKa_FX-lkbQ   \n",
       "\n",
       "                      review_id        date  \n",
       "2055037  1l-mU-BwQsZRW7BKdHVwZw  2017-05-02  \n",
       "2055038  IcpPtd37iJEthZybuasS4g  2015-02-06  \n",
       "4591943  I8v-5jfkBluyN5kT8ha0bA  2016-08-26  \n",
       "4591944  6vc4tqVh9_tbMRtFeS4pIw  2016-07-09  \n",
       "5154278  HFgn9Wz2jydIZLtqUeGu0Q  2017-06-03  \n",
       "5154279  HR1JWyemX-kmNFaQ5LxR2g  2017-01-03  "
      ]
     },
     "execution_count": 5,
     "metadata": {},
     "output_type": "execute_result"
    }
   ],
   "source": [
    "# doublecheck that there is only one review for each user_id, business_id combinations before pivoting to user x restaurant matrix\n",
    "review[review.duplicated(['user_id','business_id'], keep=False)]"
   ]
  },
  {
   "cell_type": "markdown",
   "metadata": {},
   "source": [
    "As shown, there are three user, restaurant combinations having two reviews each (at different timestamp with different text contents) instead of one. This means that Yelp allows a user  to review a business multiple times. In this case, the repeated reviews share the same star ratings as the originial, therefore, we only need the keep the first rating. (Otherwise, we need to replace it with the averaged rating instead)."
   ]
  },
  {
   "cell_type": "code",
   "execution_count": 6,
   "metadata": {},
   "outputs": [
    {
     "name": "stdout",
     "output_type": "stream",
     "text": [
      "5996995 5996992\n"
     ]
    }
   ],
   "source": [
    "# create a reduced copy by removing the duplicated user, restaurant rating combinations\n",
    "review_r = review[~review.duplicated(['user_id','business_id'], keep='first')]\n",
    "review_r.reset_index(inplace=True, drop=True)\n",
    "print(len(review), len(review_r))"
   ]
  },
  {
   "cell_type": "code",
   "execution_count": 7,
   "metadata": {},
   "outputs": [],
   "source": [
    "# free up temporary variables to save memory\n",
    "review, review_s, b_bid, r_bid = 0,0,0,0"
   ]
  },
  {
   "cell_type": "markdown",
   "metadata": {},
   "source": [
    "# 2. User-restaurant matrix factorization"
   ]
  },
  {
   "cell_type": "markdown",
   "metadata": {},
   "source": [
    "## 2.1 Train-test split"
   ]
  },
  {
   "cell_type": "code",
   "execution_count": 8,
   "metadata": {},
   "outputs": [
    {
     "name": "stdout",
     "output_type": "stream",
     "text": [
      "# of users in total: 1518168\n",
      "# of users in the training set:  1435095\n",
      "# of restaurants in total: 188593\n",
      "# of restaurants in the training set:  188558\n"
     ]
    }
   ],
   "source": [
    "# train-test split by randomly split on 'review_r' dataset (random split on user-restaurant rating combination)\n",
    "idx = list(review_r.index)\n",
    "np.random.seed(42)\n",
    "np.random.shuffle(idx) # shuffle the list of index\n",
    "\n",
    "# 90% trainset, 10% testset\n",
    "threshold = int(0.9 * len(review_r))                                    \n",
    "trainset = review_r.loc[idx[:threshold],['user_id','business_id','stars']]                             \n",
    "testset = review_r.loc[idx[threshold:],['user_id','business_id','stars']]\n",
    "\n",
    "print(\"# of users in total:\" , review_r.user_id.nunique())\n",
    "print(\"# of users in the training set: \", trainset.user_id.nunique())\n",
    "print(\"# of restaurants in total:\" , review_r.business_id.nunique())\n",
    "print(\"# of restaurants in the training set: \", trainset.business_id.nunique())"
   ]
  },
  {
   "cell_type": "markdown",
   "metadata": {},
   "source": [
    "Note: the training data doesn't include all users and all restaurants either. But this be handled by returning the global mean of the training data if the user_id or the business_id to be predicted is not found in the training data."
   ]
  },
  {
   "cell_type": "markdown",
   "metadata": {},
   "source": [
    "## 2.2 Matrix factorization using scikit-surprise package\n",
    "\n",
    "Here, instead of starting from scratch, scikit-surprise package is used to handle some of the implementation details. \n",
    "Surprise is a Python scikit building and analyzing recommender systems. http://surpriselib.com/"
   ]
  },
  {
   "cell_type": "code",
   "execution_count": 9,
   "metadata": {},
   "outputs": [],
   "source": [
    "from surprise import Dataset, Reader\n",
    "from surprise import NMF, SVD\n",
    "from surprise.model_selection import cross_validate, GridSearchCV, KFold\n",
    "from surprise import accuracy"
   ]
  },
  {
   "cell_type": "code",
   "execution_count": 10,
   "metadata": {},
   "outputs": [],
   "source": [
    "# load trainset and testset into Surprise\n",
    "\n",
    "# create a Reader object with the rating_scale from 1 to 5\n",
    "reader = Reader(rating_scale=(1, 5))\n",
    "\n",
    "# load trainset, note: the columns must correspond to user id, item id and ratings in the exact order\n",
    "data_train = Dataset.load_from_df(trainset, reader)\n",
    "training = data_train.build_full_trainset() # prepare a trainset object out of the training data to feed to .fit() method\n",
    "\n",
    "# load testset\n",
    "data_test = Dataset.load_from_df(testset, reader)\n",
    "testing = data_test.construct_testset(data_test.raw_ratings) # prepare a testset object out of the test data to feed to .test() method"
   ]
  },
  {
   "cell_type": "markdown",
   "metadata": {},
   "source": [
    "### 2.2.1 SVD without bias for matrix factorization\n",
    "\n",
    "The simple SVD (single value decomposition) matrix factorization is achieved by using the SVD algorithm from the scikit-surprise package and setting the biased parameter to False. \n",
    "The user x restaurant matrix is factorized into user latent matrix and restaurant latent matrix, the rating is then predicted as: \n",
    "$$r̂_ui=q^T_ip_u$$\n",
    "where $p_u$ is the user latent factor matrix, $q_i$ is the item latent factor matrix.\n",
    "https://surprise.readthedocs.io/en/stable/matrix_factorization.html#surprise.prediction_algorithms.matrix_factorization.SVD"
   ]
  },
  {
   "cell_type": "code",
   "execution_count": 11,
   "metadata": {},
   "outputs": [
    {
     "name": "stdout",
     "output_type": "stream",
     "text": [
      "RMSE: 1.6213\n",
      "(1435095, 20) (188558, 20)\n",
      "CPU times: user 4min 9s, sys: 3.8 s, total: 4min 13s\n",
      "Wall time: 4min 16s\n"
     ]
    }
   ],
   "source": [
    "%%time\n",
    "# simple SVD model\n",
    "svd = SVD(n_factors=20, n_epochs = 30, biased=False) # initiate a SVD algorithm object\n",
    "svd.fit(training) # training on the trainset\n",
    "pred_svd = svd.test(testing) # predict ratings for the testset\n",
    "accuracy.rmse(pred_svd) # compute RMSE score\n",
    "\n",
    "# user and item matrix with latent features\n",
    "mean = svd.trainset.global_mean # global mean rating of the trainset\n",
    "user_latent, item_latent = svd.pu, svd.qi\n",
    "print(user_latent.shape, item_latent.shape)"
   ]
  },
  {
   "cell_type": "code",
   "execution_count": 12,
   "metadata": {},
   "outputs": [
    {
     "data": {
      "image/png": "[encoded data removed]",
      "text/plain": [
       "<Figure size 432x288 with 2 Axes>"
      ]
     },
     "metadata": {},
     "output_type": "display_data"
    }
   ],
   "source": [
    "# spot check on known user with many reviews (>3000) in trainset\n",
    "\n",
    "u_id = training.to_inner_uid('CxDOIDnH8gp9KXzpBHJYXw')\n",
    "prediction = np.dot(user_latent[u_id,:],item_latent.T) # compute all predictions for the user of interest\n",
    "if svd.trainset.offset != 0: # adjust for rating offset if offset is not 0, here offset = 0\n",
    "    prediction -= svd.trainset.offset \n",
    "\n",
    "# plot the distribution of predicted ratings for all businesses\n",
    "_, (ax1, ax2) = plt.subplots(1, 2);\n",
    "ax1.hist(prediction, color='blue')\n",
    "\n",
    "# compare ratings for the rated businesses only\n",
    "comparison = review_r[review_r.user_id == 'CxDOIDnH8gp9KXzpBHJYXw'].set_index('business_id')\n",
    "comparison['rating_predict'] = np.nan\n",
    "for b_id in comparison.index:\n",
    "    b_idx = training.to_inner_iid(b_id) # convert 'business_id' to item latent feature matrix indice\n",
    "    comparison.loc[b_id,'rating_predict'] = prediction[b_idx] # extract the corresponding prediction\n",
    "comparison[['stars','rating_predict']].plot(kind='hist', alpha=0.5, ax=ax2);"
   ]
  },
  {
   "cell_type": "markdown",
   "metadata": {},
   "source": [
    "As shown, although for a subset of businesses actually rated by the user of interest, the distribution of predicted ratings are similar to reality. But the overall distribution of predicted ratings for all businesses is centered around -0.5 to 1.5, with a mean of 0.86 and a range of -6.1 to 7.1, which is not ideal given that the actual rating takes integer values of 1-5 only. "
   ]
  },
  {
   "cell_type": "code",
   "execution_count": 13,
   "metadata": {},
   "outputs": [
    {
     "data": {
      "image/png": "[encoded data removed]",
      "text/plain": [
       "<Figure size 432x288 with 2 Axes>"
      ]
     },
     "metadata": {},
     "output_type": "display_data"
    }
   ],
   "source": [
    "# unknown user (user with no review in trainset)\n",
    "\n",
    "prediction = [mean] * item_latent.shape[0]\n",
    "\n",
    "# plot the distribution of predicted ratings for all businesses\n",
    "_, (ax1, ax2) = plt.subplots(1, 2);\n",
    "ax1.hist(prediction, color='blue')\n",
    "\n",
    "# compare ratings for the rated businesses only\n",
    "comparison = review_r[review_r.user_id == 'bSHpGSRn91ohVTmnyyEsdg'].set_index('business_id')\n",
    "comparison['rating_predict'] = np.nan\n",
    "for b_id in comparison.index:\n",
    "    b_idx = training.to_inner_iid(b_id) # convert 'business_id' to item latent feature matrix indice\n",
    "    comparison.loc[b_id,'rating_predict'] = prediction[b_idx] # extract the corresponding prediction\n",
    "comparison[['stars','rating_predict']].plot(kind='hist', alpha=0.5, ax=ax2);"
   ]
  },
  {
   "cell_type": "markdown",
   "metadata": {},
   "source": [
    "For unknow user, this model only returns the same global mean rating computed based on the trainset as the predicted rating for all business. "
   ]
  },
  {
   "cell_type": "markdown",
   "metadata": {},
   "source": [
    "### 2.2.2 SVD algorithm with bias\n",
    "Similar to 2.2.1, scikit-surprise package is used to handle some of the implementation details.\n",
    "\n",
    "The matrix factorization with bias is achieved by using the SVD algorithm and setting the biased parameter to True. \n",
    "That is the rating is predicted as: \n",
    "$$r̂_ui=μ+b_u+b_i+q^T_ip_u$$\n",
    "where $p_u$ is the user latent factor matrix, $q_i$ is the item latent factor matrix, b_u is the bias terms for users, b_i is the bias terms for items, and $\\mu$ is global mean rating.\n",
    "https://surprise.readthedocs.io/en/stable/matrix_factorization.html#surprise.prediction_algorithms.matrix_factorization.SVD"
   ]
  },
  {
   "cell_type": "code",
   "execution_count": 14,
   "metadata": {},
   "outputs": [
    {
     "name": "stdout",
     "output_type": "stream",
     "text": [
      "RMSE: 1.2758\n",
      "(1435095, 20) (188558, 20)\n",
      "(1435095,) (188558,)\n",
      "CPU times: user 3min 57s, sys: 1.79 s, total: 3min 59s\n",
      "Wall time: 3min 59s\n"
     ]
    }
   ],
   "source": [
    "%%time\n",
    "# SVD bias model with defaults\n",
    "svd_bias = SVD(n_factors=20, n_epochs = 30, biased=True) # initiate a SVD algorithm object with the bias terms\n",
    "svd_bias.fit(training) # training on the trainset\n",
    "pred_svd_bias = svd_bias.test(testing) # predict ratings for the testset\n",
    "accuracy.rmse(pred_svd_bias) # compute RMSE score\n",
    "\n",
    "# extract useful information from the fitted model\n",
    "mean = svd_bias.trainset.global_mean # global mean rating of the trainset\n",
    "# user and item matrix with latent features\n",
    "user_latent, item_latent = svd_bias.pu, svd_bias.qi\n",
    "print(user_latent.shape, item_latent.shape)\n",
    "# user and item bias vector\n",
    "user_bias, item_bias = svd_bias.bu, svd_bias.bi\n",
    "print(user_bias.shape, item_bias.shape)"
   ]
  },
  {
   "cell_type": "code",
   "execution_count": 15,
   "metadata": {},
   "outputs": [
    {
     "data": {
      "image/png": "[encoded data removed]",
      "text/plain": [
       "<Figure size 432x288 with 2 Axes>"
      ]
     },
     "metadata": {},
     "output_type": "display_data"
    }
   ],
   "source": [
    "# spot check on known user with many reviews (>3000) in trainset\n",
    "\n",
    "u_id = training.to_inner_uid('CxDOIDnH8gp9KXzpBHJYXw')\n",
    "# compute all predictions for the user of interest\n",
    "prediction = mean + user_bias[u_id] + item_bias + np.dot(user_latent[u_id,:],item_latent.T)\n",
    "if svd_bias.trainset.offset != 0: # adjust for rating offset if offset is not 0, here offset = 0\n",
    "    prediction -= svd_bias.trainset.offset \n",
    "\n",
    "# plot the distribution of predicted ratings for all businesses\n",
    "_, (ax1, ax2) = plt.subplots(1, 2);\n",
    "ax1.hist(prediction, color='blue')\n",
    "\n",
    "# compare ratings for the rated businesses only\n",
    "comparison = review_r[review_r.user_id == 'CxDOIDnH8gp9KXzpBHJYXw'].set_index('business_id')\n",
    "comparison['rating_predict'] = np.nan\n",
    "for b_id in comparison.index:\n",
    "    b_idx = training.to_inner_iid(b_id) # convert 'business_id' to item latent feature matrix indice\n",
    "    comparison.loc[b_id,'rating_predict'] = prediction[b_idx] # extract the corresponding prediction\n",
    "comparison[['stars','rating_predict']].plot(kind='hist', alpha=0.5, ax=ax2);"
   ]
  },
  {
   "cell_type": "markdown",
   "metadata": {},
   "source": [
    "As shown, the predicted ratings from the SVD with bias model show a much better improvement:<br>\n",
    "1) for the subset of businesses actually rated by the user of interest, the distribution of predicted ratings better resembles the reality. <br>\n",
    "2) the overall distribution of predicted ratings for all businesses is centered around rating of 3-4, with a mean of 3.36 and a range of 0.53 to 4.94, a much better match to the expected values (1,2,3,4 or 5). <br>"
   ]
  },
  {
   "cell_type": "code",
   "execution_count": 16,
   "metadata": {},
   "outputs": [
    {
     "data": {
      "image/png": "[encoded data removed]",
      "text/plain": [
       "<Figure size 432x288 with 2 Axes>"
      ]
     },
     "metadata": {},
     "output_type": "display_data"
    }
   ],
   "source": [
    "# unknown user (user with no review in trainset)\n",
    "\n",
    "# compute prediction\n",
    "prediction = mean + item_bias\n",
    "\n",
    "# plot the distribution of predicted ratings for all businesses\n",
    "_, (ax1, ax2) = plt.subplots(1, 2);\n",
    "ax1.hist(prediction, color='blue')\n",
    "\n",
    "# compare ratings for the rated businesses only\n",
    "comparison = review_r[review_r.user_id == 'bSHpGSRn91ohVTmnyyEsdg'].set_index('business_id')\n",
    "comparison['rating_predict'] = np.nan\n",
    "for b_id in comparison.index:\n",
    "    b_idx = training.to_inner_iid(b_id) # convert 'business_id' to item latent feature matrix indice\n",
    "    comparison.loc[b_id,'rating_predict'] = prediction[b_idx] # extract the corresponding prediction\n",
    "comparison[['stars','rating_predict']].plot(kind='hist', alpha=0.5, ax=ax2);"
   ]
  },
  {
   "cell_type": "markdown",
   "metadata": {},
   "source": [
    "In addition, as shown above, the predicted ratings for unseen user is not just the global mean, instead, it returns the global mean plus the item bias vector (global item preference based on the trainset) as the predicted ratings for all businesses. This enables an unique predicted rating for each business even for unseen users. As shown, the rating distribution for unseen users is centered around 3-4.5 with a mean of 3.68 and a range of 1.11-5.05. This is a very realistic range and the mean matches well with the global mean rating of 3.74 as well."
   ]
  },
  {
   "cell_type": "markdown",
   "metadata": {},
   "source": [
    "### 2.2.3 NMF algorithm (without bias)\n",
    "\n",
    "Similar to 2.2.1, scikit-surprise package is used to handle some of the implementation details.\n",
    "\n",
    "The non-negative matrix factorization (NMF) is achieved by using the NMF algorithm. The default without user and item bias terms is used here. \n",
    "https://surprise.readthedocs.io/en/stable/matrix_factorization.html#surprise.prediction_algorithms.matrix_factorization.NMF"
   ]
  },
  {
   "cell_type": "code",
   "execution_count": 17,
   "metadata": {},
   "outputs": [
    {
     "name": "stdout",
     "output_type": "stream",
     "text": [
      "RMSE: 1.4282\n",
      "(1435095, 20) (188558, 20)\n",
      "CPU times: user 5min 58s, sys: 8.28 s, total: 6min 6s\n",
      "Wall time: 6min 7s\n"
     ]
    }
   ],
   "source": [
    "%%time\n",
    "# simple NMF model\n",
    "nmf = NMF(n_factors=20, n_epochs = 30, biased=False) # initiate a NMF algorithm object\n",
    "nmf.fit(training) # training on the trainset\n",
    "pred_nmf = nmf.test(testing) # predict ratings for the testset\n",
    "accuracy.rmse(pred_nmf) # compute RMSE score\n",
    "\n",
    "# user and item matrix with latent features\n",
    "mean = nmf.trainset.global_mean # global mean rating of the trainset\n",
    "user_latent, item_latent = nmf.pu, nmf.qi\n",
    "print(user_latent.shape, item_latent.shape)"
   ]
  },
  {
   "cell_type": "code",
   "execution_count": 18,
   "metadata": {},
   "outputs": [
    {
     "data": {
      "image/png": "[encoded data removed]",
      "text/plain": [
       "<Figure size 432x288 with 2 Axes>"
      ]
     },
     "metadata": {},
     "output_type": "display_data"
    }
   ],
   "source": [
    "# spot check on known user with many reviews (>3000) in trainset\n",
    "\n",
    "u_id = training.to_inner_uid('CxDOIDnH8gp9KXzpBHJYXw')\n",
    "prediction = np.dot(user_latent[u_id,:],item_latent.T) # compute all predictions for the user of interest\n",
    "if nmf.trainset.offset != 0: # adjust for rating offset if offset is not 0, here offset = 0\n",
    "    prediction -= nmf.trainset.offset \n",
    "\n",
    "# plot the distribution of predicted ratings for all businesses\n",
    "_, (ax1, ax2) = plt.subplots(1, 2);\n",
    "ax1.hist(prediction, color='blue')\n",
    "\n",
    "# compare ratings for the rated businesses only\n",
    "comparison = review_r[review_r.user_id == 'CxDOIDnH8gp9KXzpBHJYXw'].set_index('business_id')\n",
    "comparison['rating_predict'] = np.nan\n",
    "for b_id in comparison.index:\n",
    "    b_idx = training.to_inner_iid(b_id) # convert 'business_id' to item latent feature matrix indice\n",
    "    comparison.loc[b_id,'rating_predict'] = prediction[b_idx] # extract the corresponding prediction\n",
    "comparison[['stars','rating_predict']].plot(kind='hist', alpha=0.5, ax=ax2);"
   ]
  },
  {
   "cell_type": "markdown",
   "metadata": {},
   "source": [
    "As shown, the predicted ratings from NMF without bias also show reasonable results:<br> \n",
    "1) for a subset of businesses actually rated by the user of interest, the distribution of predicted ratings are similar to reality. <br>\n",
    "2) The distribution of predicted ratings for all businesses centers around rating of 3-4.5, with a mean of 3.41 and a range of 0.54 to 6.84. Both the mean and the range are considered reasonable.<br>"
   ]
  },
  {
   "cell_type": "code",
   "execution_count": 19,
   "metadata": {},
   "outputs": [
    {
     "data": {
      "image/png": "[encoded data removed]",
      "text/plain": [
       "<Figure size 432x288 with 2 Axes>"
      ]
     },
     "metadata": {},
     "output_type": "display_data"
    }
   ],
   "source": [
    "# unknown user (user with no review in trainset)\n",
    "\n",
    "prediction = [mean] * item_latent.shape[0]\n",
    "\n",
    "# plot the distribution of predicted ratings for all businesses\n",
    "_, (ax1, ax2) = plt.subplots(1, 2);\n",
    "ax1.hist(prediction, color='blue')\n",
    "\n",
    "# compare ratings for the rated businesses only\n",
    "comparison = review_r[review_r.user_id == 'bSHpGSRn91ohVTmnyyEsdg'].set_index('business_id')\n",
    "comparison['rating_predict'] = np.nan\n",
    "for b_id in comparison.index:\n",
    "    b_idx = training.to_inner_iid(b_id) # convert 'business_id' to item latent feature matrix indice\n",
    "    comparison.loc[b_id,'rating_predict'] = prediction[b_idx] # extract the corresponding prediction\n",
    "comparison[['stars','rating_predict']].plot(kind='hist', alpha=0.5, ax=ax2);"
   ]
  },
  {
   "cell_type": "markdown",
   "metadata": {},
   "source": [
    "Similar to the simple SVD model, for unknow user, this simple NMF model only returns the same global mean rating computed based on the trainset as the predicted rating for all business. "
   ]
  },
  {
   "cell_type": "markdown",
   "metadata": {},
   "source": [
    "### 2.2.4 NMF with bias terms\n",
    "\n",
    "Similar to the SVD model with bias terms, the bias terms can also be added to the non-negative matrix factorization (NMF) algorithm by setting 'biased=True' argument. https://surprise.readthedocs.io/en/stable/matrix_factorization.html#surprise.prediction_algorithms.matrix_factorization.NMF"
   ]
  },
  {
   "cell_type": "code",
   "execution_count": 20,
   "metadata": {},
   "outputs": [
    {
     "name": "stdout",
     "output_type": "stream",
     "text": [
      "RMSE: 1.9529\n",
      "(1435095, 20) (188558, 20)\n",
      "(1435095,) (188558,)\n",
      "CPU times: user 5min 56s, sys: 7.9 s, total: 6min 4s\n",
      "Wall time: 6min 5s\n"
     ]
    }
   ],
   "source": [
    "%%time\n",
    "# NMF bias model with defaults\n",
    "nmf_bias = NMF(n_factors=20, n_epochs = 30, biased=True) # initiate a NMF algorithm object with the bias terms\n",
    "nmf_bias.fit(training) # training on the trainset\n",
    "pred_nmf_bias = nmf_bias.test(testing) # predict ratings for the testset\n",
    "accuracy.rmse(pred_nmf_bias) # compute RMSE score\n",
    "\n",
    "# extract useful information from the fitted model\n",
    "mean = nmf_bias.trainset.global_mean # global mean rating of the trainset\n",
    "# user and item matrix with latent features\n",
    "user_latent, item_latent = nmf_bias.pu, nmf_bias.qi\n",
    "print(user_latent.shape, item_latent.shape)\n",
    "# user and item bias vector\n",
    "user_bias, item_bias = nmf_bias.bu, nmf_bias.bi\n",
    "print(user_bias.shape, item_bias.shape)"
   ]
  },
  {
   "cell_type": "code",
   "execution_count": 21,
   "metadata": {},
   "outputs": [
    {
     "name": "stdout",
     "output_type": "stream",
     "text": [
      "count    188558.000000\n",
      "mean          0.009477\n",
      "std         350.394261\n",
      "min      -88786.793987\n",
      "25%           1.075281\n",
      "50%           1.994412\n",
      "75%           3.202989\n",
      "max       26454.570770\n",
      "dtype: float64\n",
      "             stars  rating_predict\n",
      "count  3739.000000     3739.000000\n",
      "mean      3.218775        2.204241\n",
      "std       0.719119       36.145137\n",
      "min       1.000000     -980.597190\n",
      "25%       3.000000        1.268623\n",
      "50%       3.000000        2.156666\n",
      "75%       4.000000        3.331386\n",
      "max       5.000000     1064.024028\n"
     ]
    }
   ],
   "source": [
    "# spot check on known user with many reviews (>3000) in trainset\n",
    "\n",
    "u_id = training.to_inner_uid('CxDOIDnH8gp9KXzpBHJYXw')\n",
    "# compute all predictions for the user of interest\n",
    "prediction = mean + user_bias[u_id] + item_bias + np.dot(user_latent[u_id,:],item_latent.T)\n",
    "if nmf.trainset.offset != 0: # adjust for rating offset if offset is not 0, here offset = 0\n",
    "    prediction -= nmf_bias.trainset.offset \n",
    "\n",
    "# plot the distribution of predicted ratings for all businesses\n",
    "print(pd.Series(prediction).describe())\n",
    "\n",
    "# compare ratings for the rated businesses only\n",
    "comparison = review_r[review_r.user_id == 'CxDOIDnH8gp9KXzpBHJYXw'].set_index('business_id')\n",
    "comparison['rating_predict'] = np.nan\n",
    "for b_id in comparison.index:\n",
    "    b_idx = training.to_inner_iid(b_id) # convert 'business_id' to item latent feature matrix indice\n",
    "    comparison.loc[b_id,'rating_predict'] = prediction[b_idx] # extract the corresponding prediction\n",
    "print(comparison[['stars','rating_predict']].describe())"
   ]
  },
  {
   "cell_type": "markdown",
   "metadata": {},
   "source": [
    "As shown, non-negative matrix factorization with bias terms actually give much worse predictions: <br> \n",
    "not only is the distribution of predicted ratings for all businesses spreading over a much wider range from -88786 to 26454, with a mean of 0.009, but also the distribution of predicted ratings for the actual rated businesses are far off from reality."
   ]
  },
  {
   "cell_type": "code",
   "execution_count": 22,
   "metadata": {},
   "outputs": [
    {
     "data": {
      "image/png": "[encoded data removed]",
      "text/plain": [
       "<Figure size 432x288 with 2 Axes>"
      ]
     },
     "metadata": {},
     "output_type": "display_data"
    }
   ],
   "source": [
    "# unknown user (user with no review in trainset)\n",
    "\n",
    "# compute prediction\n",
    "prediction = mean + item_bias\n",
    "\n",
    "# plot the distribution of predicted ratings for all businesses\n",
    "_, (ax1, ax2) = plt.subplots(1, 2);\n",
    "ax1.hist(prediction, color='blue')\n",
    "\n",
    "# compare ratings for the rated businesses only\n",
    "comparison = review_r[review_r.user_id == 'bSHpGSRn91ohVTmnyyEsdg'].set_index('business_id')\n",
    "comparison['rating_predict'] = np.nan\n",
    "for b_id in comparison.index:\n",
    "    b_idx = training.to_inner_iid(b_id) # convert 'business_id' to item latent feature matrix indice\n",
    "    comparison.loc[b_id,'rating_predict'] = prediction[b_idx] # extract the corresponding prediction\n",
    "comparison[['stars','rating_predict']].plot(kind='hist', alpha=0.5, ax=ax2);"
   ]
  },
  {
   "cell_type": "markdown",
   "metadata": {},
   "source": [
    "For unseen users, the predicted ratings also distribute in an unrealistic wide range of -88785 to 26456, with a mean of 1.63, off from the global mean of 3.74.<br>\n",
    "\n",
    "This suggests that the benefit of non-negative matrix factorization is thrown off by having additional bias items, especially the large item bias terms. As a result, the predicted ratings are no longer non-negative. Having a large regularization terms on user and item bias parameters will help, but this will just push it back to the NMF algorithm without bias. Therefore, NMF with bias terms is definitely not suitable for the matrix factorization purpose here. "
   ]
  },
  {
   "cell_type": "markdown",
   "metadata": {},
   "source": [
    "### 2.3 NMF using scikit-learn\n",
    "\n",
    "The NMF module from sklearn.decomposition.NMF is also experimented for completing the user x business matrix for rating prediction. To apply the sklearn NMF module, the user x business rating matrix needs to be extracted from the review dataframe first.<br>\n",
    "\n",
    "Attempting to use Pandas pivot method to convert 'review' dataframe to the user x business matrix did not work out, as the resulting user x business matrix in the dense form takes up too much memory, which is unrealistic on any personal computers. <br>\n",
    "\n",
    "Alternatively, the target matrix is very sparse, therefore to make it work with the memory constrain, the 'stars' rating in the 'review' dataframe needs to be pivoted into a sparse matrix directly by 'user_id' and 'business_id', and the available star ratings are stored as values in the sparse matrix."
   ]
  },
  {
   "cell_type": "code",
   "execution_count": 23,
   "metadata": {},
   "outputs": [],
   "source": [
    "from sklearn.decomposition import NMF\n",
    "from sklearn.metrics import mean_squared_error\n",
    "from sklearn.model_selection import train_test_split"
   ]
  },
  {
   "cell_type": "code",
   "execution_count": 24,
   "metadata": {},
   "outputs": [],
   "source": [
    "# define method for pivoting dataframe into a sparse matrix directly\n",
    "\n",
    "from scipy.sparse import csr_matrix\n",
    "from pandas.api.types import CategoricalDtype\n",
    "\n",
    "# return the resulting sparse matrix along with the mapping dictionaries of matrix indices to the orignial values in the corresponding columns of df\n",
    "def df_pivot_sparse_matrix(df, idx, col, val):\n",
    "    \"\"\"pivot a pandas dataframe into sparse matrix directly using scipy.sparse.csr_matrix and return the resulting sparse matrix, \n",
    "    necessary when the df is large and pandas pivot (dense matrix) doesn't work due to space (memory) constrain. \n",
    "    ---\n",
    "    input\n",
    "    df: the pandas dataframe of interest\n",
    "    idx: the column name of the df to be used as the index in the sparse matrix;\n",
    "    col: the column name of the df to be used as the column in the sparse matrix;\n",
    "    val: the column name of the df to be used as the actual value in the sparse matrix;\n",
    "    ---\n",
    "    return:\n",
    "    sparse_matrix: the resulting sparse matrix\n",
    "    map_idx: the dictionary to map the unique values in the idx column of the original df to the numerical row indices of the sparse matrix \n",
    "    map_col: the dictionary to map the uniqe values in the col column of the original df to the numerical column indices of the sparse matrix \n",
    "    ---\n",
    "    note: there should be only one unique value of each idx, col combination\n",
    "    \"\"\"\n",
    "    idx_c = CategoricalDtype(sorted(df[idx].unique()),ordered=True) # find unique values in the idx column and define as a categorical type\n",
    "    col_c = CategoricalDtype(sorted(df[col].unique()),ordered=True) # find unique values in the col column and define as a categorical type\n",
    "\n",
    "    x = df[idx].astype(idx_c).cat.codes # cast columns to the newly created categorical type and access the underlying integer codes (corresponding numbering of the categories)\n",
    "    y = df[col].astype(col_c).cat.codes \n",
    "    sparse_matrix = csr_matrix((df[val].values, (x, y)), \\\n",
    "                           shape=(len(idx_c.categories), len(col_c.categories))) # map to the sparse matrix\n",
    "    \n",
    "    map_idx = dict(zip(list(idx_c.categories),np.arange(len(idx_c.categories)))) # create the mapping dictionaries\n",
    "    map_col = dict(zip(list(col_c.categories),np.arange(len(col_c.categories))))\n",
    "                               \n",
    "    return sparse_matrix, map_idx, map_col"
   ]
  },
  {
   "cell_type": "code",
   "execution_count": 25,
   "metadata": {},
   "outputs": [
    {
     "name": "stdout",
     "output_type": "stream",
     "text": [
      "matrix shape: (1435095, 188558)\n",
      "memory use: 8.813486 Mb\n",
      "int64\n",
      "[('---1lKK3aKOuomHnwAkAow', 0), ('---89pEy_h9PvHwcHNbpyg', 1), ('---94vtJ_5o_nikEs6hUjg', 2)]\n",
      "[('--1UhMGODdWsrMastO9DZw', 0), ('--6MefnULPED_I942VcFNA', 1), ('--7zmmkVg-IMGaXbuVd0SQ', 2), ('--8LPVSo5i0Oo61X01sV9A', 3), ('--9QQLMTbFzLJ_oT-ON3Xw', 4)]\n"
     ]
    }
   ],
   "source": [
    "# convert trainset to sparse matrix\n",
    "trainset_m, train_map_user, train_map_business = df_pivot_sparse_matrix(trainset, 'user_id', 'business_id', 'stars')\n",
    "\n",
    "# inspect the returned sparse matrix\n",
    "print(\"matrix shape:\", trainset_m.shape)\n",
    "print(\"memory use: {} Mb\".format((trainset_m.data.nbytes + trainset_m.indptr.nbytes + trainset_m.indices.nbytes)*0.125*1e-6))\n",
    "print(trainset_m.dtype)\n",
    "\n",
    "# inspect the returned mapping dictionaries\n",
    "print(list(train_map_user.items())[:3])\n",
    "print(list(train_map_business.items())[:5])"
   ]
  },
  {
   "cell_type": "code",
   "execution_count": 26,
   "metadata": {},
   "outputs": [
    {
     "data": {
      "text/plain": [
       "3.7359005219654597"
      ]
     },
     "execution_count": 26,
     "metadata": {},
     "output_type": "execute_result"
    }
   ],
   "source": [
    "# compute global mean of ratings based on the trainset\n",
    "global_mean_train = trainset.stars.mean()\n",
    "global_mean_train"
   ]
  },
  {
   "cell_type": "code",
   "execution_count": 27,
   "metadata": {},
   "outputs": [],
   "source": [
    "# function to compute RMSE based on the testset\n",
    "def compute_performance(testset, user_matrix, item_matrix, user_mapper, item_mapper):\n",
    "    \"\"\" Predict and compute the RMSE(root mean squared error) of the predicted ratings vs true ratings on the testset\n",
    "    Return the RMSE and the list of predicted ratings\n",
    "    \"\"\"\n",
    "    y_true = list(testset.stars.values)\n",
    "    y_pred = list()\n",
    "    \n",
    "    for idx in testset.index:\n",
    "        u, b, r = testset.loc[idx, ['user_id','business_id','stars']]\n",
    "        if (u in user_mapper) and (b in item_mapper):\n",
    "            u_i, b_i = user_mapper[u], item_mapper[b]\n",
    "            r_pred = np.dot(user_matrix[u_i,:], item_matrix[:,b_i])\n",
    "        else: \n",
    "            r_pred = global_mean_train  # return global mean rating for unseen user or restaurant\n",
    "        y_pred.append(r_pred)\n",
    "    \n",
    "    assert len(y_true) == len(y_pred)\n",
    "    mse = mean_squared_error(y_true, y_pred)\n",
    "    return np.sqrt(mse), y_pred"
   ]
  },
  {
   "cell_type": "code",
   "execution_count": 28,
   "metadata": {},
   "outputs": [
    {
     "name": "stdout",
     "output_type": "stream",
     "text": [
      "(1435095, 20) (20, 188558)\n",
      "3.7264941203206052\n",
      "CPU times: user 11min 48s, sys: 27.1 s, total: 12min 15s\n",
      "Wall time: 12min 11s\n"
     ]
    }
   ],
   "source": [
    "%%time\n",
    "\n",
    "# initiate a NMF algorithm and fit to the trainset\n",
    "model = NMF(n_components=20, tol=5e-5)\n",
    "W = model.fit_transform(trainset_m) # W is the user x latent feature matrix\n",
    "H = model.components_ # H is the latent feature x item matrix\n",
    "print(W.shape, H.shape)\n",
    "\n",
    "# test on the testset\n",
    "rmse, pred = compute_performance(testset, W, H, train_map_user, train_map_business)\n",
    "print(rmse) # RMSE on the testset"
   ]
  },
  {
   "cell_type": "code",
   "execution_count": 29,
   "metadata": {},
   "outputs": [
    {
     "data": {
      "image/png": "[encoded data removed]",
      "text/plain": [
       "<Figure size 432x288 with 2 Axes>"
      ]
     },
     "metadata": {},
     "output_type": "display_data"
    }
   ],
   "source": [
    "# look at the predicted ratings vs actual ratings in the testset\n",
    "comparison = pd.concat([pd.Series(pred), pd.Series(testset.stars.values)], axis=1)\n",
    "comparison.columns = ['rating_predict','rating_actual']\n",
    "comparison.plot(kind='hist', subplots=True);"
   ]
  },
  {
   "cell_type": "markdown",
   "metadata": {},
   "source": [
    "The NMF from sklearn gives much worse rating predictions, with RMSE on the testset being 3.73. As shown, the predicted ratings are bimodally distributed in the range of 0-1 and 3-4, with the average predicting rating being 0.58 and the max predicted rating being 9.6, too far off from reality. Therefore, non-negative matrix factorization using scikit-learn.decomposition.NMF is not used."
   ]
  },
  {
   "cell_type": "markdown",
   "metadata": {},
   "source": [
    "# 3. Optimization and evaluation of matrix factorization algorithms\n",
    "\n",
    "As shown above, both the SVD with bias model and the simple NMF model from scikit-surprise package show promising results for the matrix factorization problem in this case. Therefore, both models are optimized via gridsearch cross validation below, and the best model is further evaluted by a variety of metrics. "
   ]
  },
  {
   "cell_type": "markdown",
   "metadata": {},
   "source": [
    "## 3.1 Gridsearch optimization of SVD bias model"
   ]
  },
  {
   "cell_type": "code",
   "execution_count": 31,
   "metadata": {},
   "outputs": [
    {
     "name": "stderr",
     "output_type": "stream",
     "text": [
      "[Parallel(n_jobs=1)]: Using backend SequentialBackend with 1 concurrent workers.\n",
      "[Parallel(n_jobs=1)]: Done   1 out of   1 | elapsed:  4.2min remaining:    0.0s\n",
      "[Parallel(n_jobs=1)]: Done  36 out of  36 | elapsed: 432.9min finished\n"
     ]
    },
    {
     "name": "stdout",
     "output_type": "stream",
     "text": [
      "{'rmse': 1.2860802563760216}\n",
      "{'rmse': {'n_factors': 10, 'n_epochs': 50, 'lr_all': 0.005, 'reg_all': 0.05, 'biased': True}}\n",
      "RMSE: 1.2777\n",
      "CPU times: user 7h 7min 6s, sys: 7min 20s, total: 7h 14min 27s\n",
      "Wall time: 7h 19min 11s\n"
     ]
    }
   ],
   "source": [
    "%%time\n",
    "\n",
    "# parameter optimization with scikit-surprise SVD algorithm with bias\n",
    "\n",
    "# cross validation to optimize parameters of SVD with bias\n",
    "param_grid = {'n_factors': [10,20,30,50], 'n_epochs': [50,100,200], 'lr_all': [0.005],'reg_all': [0.05], 'biased': [True]}\n",
    "svd_gs = GridSearchCV(SVD, param_grid, measures=['rmse'], cv=KFold(3, random_state=42), joblib_verbose=2)\n",
    "svd_gs.fit(data_train) # gridsesarch optimization on the trainset\n",
    "\n",
    "# best RMSE score\n",
    "print(svd_gs.best_score)\n",
    "# combination of parameters that gave the best RMSE score\n",
    "print(svd_gs.best_params)\n",
    "\n",
    "# update SVD bias model with optimized parameters\n",
    "svd_gs_best = svd_gs.best_estimator['rmse']  # algorithm with the optimized parameters\n",
    "svd_gs_best.fit(training)\n",
    "pred_svd_gs_best = svd_gs_best.test(testing) \n",
    "accuracy.rmse(pred_svd_gs_best)"
   ]
  },
  {
   "cell_type": "markdown",
   "metadata": {},
   "source": [
    "## 3.2 Gridsearch optimization of simple NMF model"
   ]
  },
  {
   "cell_type": "code",
   "execution_count": 64,
   "metadata": {},
   "outputs": [
    {
     "name": "stderr",
     "output_type": "stream",
     "text": [
      "[Parallel(n_jobs=1)]: Using backend SequentialBackend with 1 concurrent workers.\n",
      "[Parallel(n_jobs=1)]: Done   1 out of   1 | elapsed:  5.9min remaining:    0.0s\n",
      "[Parallel(n_jobs=1)]: Done  12 out of  12 | elapsed: 106.6min finished\n"
     ]
    },
    {
     "name": "stdout",
     "output_type": "stream",
     "text": [
      "{'rmse': 1.4514974026492178}\n",
      "{'rmse': {'n_factors': 50, 'n_epochs': 50, 'biased': False}}\n",
      "RMSE: 1.4289\n",
      "CPU times: user 1h 57min 58s, sys: 5min 52s, total: 2h 3min 50s\n",
      "Wall time: 2h 4min 41s\n"
     ]
    }
   ],
   "source": [
    "%%time\n",
    "\n",
    "# parameter optimization with scikit-surprise NMF algorithm with no bias\n",
    "\n",
    "from surprise import NMF\n",
    "# cross validation to optimize parameters of NMF with no bias\n",
    "param_grid = {'n_factors': [10,20,30,50], 'n_epochs': [50],'biased': [False]}\n",
    "nmf_gs = GridSearchCV(NMF, param_grid, measures=['rmse'], cv=KFold(3, random_state=42), joblib_verbose=2)\n",
    "nmf_gs.fit(data_train) # gridsesarch optimization on the trainset, need to feed in a Dataset object not a trainset object\n",
    "\n",
    "# best RMSE score\n",
    "print(nmf_gs.best_score)\n",
    "# combination of parameters that gave the best RMSE score\n",
    "print(nmf_gs.best_params)\n",
    "\n",
    "# update simple NMF model with optimized parameters\n",
    "nmf_gs_best = nmf_gs.best_estimator['rmse']  # algorithm with the optimized parameters\n",
    "nmf_gs_best.fit(training)\n",
    "pred_nmf_gs_best = nmf_gs_best.test(testing)\n",
    "accuracy.rmse(pred_nmf_gs_best)"
   ]
  },
  {
   "cell_type": "markdown",
   "metadata": {},
   "source": [
    "As shown above, the optimized SVD with bias model provides a better performance:<br> \n",
    "Not only does it have the lowest RMSE, but also, instead of returning a global mean rating for all restaurants in the case of unseen users, it actually returns an item-specific rating for individual restaurants as a result of having the item bias vector.<br> \n",
    "Therefore, the optimized SVD with bias model is selected as the best model for further evaluation and will be implemented in the actual collaborative recommender module."
   ]
  },
  {
   "cell_type": "markdown",
   "metadata": {},
   "source": [
    "## 3.3 RMSE of the best model\n",
    "\n",
    "As concluded, the optimized SVD with bias model is selected as the best model for further evaluation. Here, RMSEs are computed based on various types of testset."
   ]
  },
  {
   "cell_type": "markdown",
   "metadata": {},
   "source": [
    "### 1) Testset with the presence of new users and new businesses"
   ]
  },
  {
   "cell_type": "code",
   "execution_count": 33,
   "metadata": {},
   "outputs": [
    {
     "name": "stdout",
     "output_type": "stream",
     "text": [
      "RMSE: 1.2777\n"
     ]
    },
    {
     "data": {
      "text/plain": [
       "1.277700774225839"
      ]
     },
     "execution_count": 33,
     "metadata": {},
     "output_type": "execute_result"
    }
   ],
   "source": [
    "pred_1 = svd_gs_best.test(testing) # predict ratings for the testset with unseen users and businesses\n",
    "accuracy.rmse(pred_1) # compute RMSE score"
   ]
  },
  {
   "cell_type": "markdown",
   "metadata": {},
   "source": [
    "### 2) Testset with no new user or business"
   ]
  },
  {
   "cell_type": "code",
   "execution_count": 34,
   "metadata": {},
   "outputs": [
    {
     "name": "stdout",
     "output_type": "stream",
     "text": [
      "599700 513755\n",
      "RMSE: 1.2443\n"
     ]
    },
    {
     "data": {
      "text/plain": [
       "1.244346534114894"
      ]
     },
     "execution_count": 34,
     "metadata": {},
     "output_type": "execute_result"
    }
   ],
   "source": [
    "# prepare a reduced testset, 'testset_2', by removing the unseen users and businesses\n",
    "testset_2 = testset[testset.user_id.isin(trainset.user_id.unique())] # remove unseen users\n",
    "testset_2 = testset_2[testset_2.business_id.isin(trainset.business_id.unique())] # remove unseen businesses\n",
    "print(len(testset),len(testset_2))\n",
    "\n",
    "# load testset_2 without unseen users and businesses into scikit-surpise \n",
    "data_test_2 = Dataset.load_from_df(testset_2, reader)\n",
    "testing_2 = data_test_2.construct_testset(data_test_2.raw_ratings) # prepare a testset object out of the test data to feed to .test() method\n",
    "\n",
    "pred_2 = svd_gs_best.test(testing_2) # predict ratings\n",
    "accuracy.rmse(pred_2) # compute RMSE score"
   ]
  },
  {
   "cell_type": "markdown",
   "metadata": {},
   "source": [
    "### 3) Testset containing only users and businesses with more than 5 historical ratings (more than 5 ratings in trainset)"
   ]
  },
  {
   "cell_type": "code",
   "execution_count": 35,
   "metadata": {},
   "outputs": [
    {
     "name": "stdout",
     "output_type": "stream",
     "text": [
      "599700 348231\n",
      "RMSE: 1.1884\n"
     ]
    },
    {
     "data": {
      "text/plain": [
       "1.1884182097567475"
      ]
     },
     "execution_count": 35,
     "metadata": {},
     "output_type": "execute_result"
    }
   ],
   "source": [
    "# compute user review counts and business review counts from the trainset\n",
    "user_rev_cnt = trainset.groupby('user_id').count().stars\n",
    "busi_rev_cnt = trainset.groupby('business_id').count().stars\n",
    "\n",
    "# prepare a reduced testset,'testset_3', by removing users and businesses with less than 5 historical ratings in the trainset\n",
    "testset_3 = testset[testset.user_id.isin(user_rev_cnt[user_rev_cnt>=5].index)] # remove users with less than 5 ratings for training\n",
    "testset_3 = testset_3[testset_3.business_id.isin(busi_rev_cnt[busi_rev_cnt>=5].index)] # remove businesses with less than 5 ratings for training\n",
    "print(len(testset),len(testset_3))\n",
    "\n",
    "# load testset_3 containing only users and businesses with at least 5 historical ratings\n",
    "data_test_3 = Dataset.load_from_df(testset_3, reader)\n",
    "testing_3 = data_test_3.construct_testset(data_test_3.raw_ratings) # prepare a testset object out of the test data to feed to .test() method\n",
    "\n",
    "pred_3 = svd_gs_best.test(testing_3) # predict ratings\n",
    "accuracy.rmse(pred_3) # compute RMSE score"
   ]
  },
  {
   "cell_type": "markdown",
   "metadata": {},
   "source": [
    "As shown, the RMSE on testset with unseen users and businesses is 1.277, whereas the RMSE on testset without any new user or business is lower 1.244. Also, the predicted ratings become more accurate for users and restaurants with rich user history, as RMSE further drops to 1.188 if only predicting for users and businesses with at least five ratings.<br>\n",
    "\n",
    "This also suggests that the model prediction performance (RMSE) is limited initially as the historical data is very limited, but should improve over time as system accumulates more user and business preference(ratings) over time."
   ]
  },
  {
   "cell_type": "markdown",
   "metadata": {},
   "source": [
    "## 3.4 NDCG of recommendation ranking by the predicted ratings from the best model"
   ]
  },
  {
   "cell_type": "markdown",
   "metadata": {},
   "source": [
    "NDCG (Normalized Discounted Cumulative Gain), which works well in this case with review ratings of 1 to 5, is chosen over MAP (Mean average precision), which only assumes binary relevance (interesting or not, click or not).\n",
    "\n",
    "DCG(Discounted Cumulative Gain) is calculated as the sum of the gain (relevance score) of item at each position in the ranking list, discounted by their position i. \n",
    "$$DCG(Rank)=∑_iu_i * d_i$$\n",
    "where $u_i$ is the gain of item at ranking position $i$, and $d_i$ is the discount of item at ranking position $i$. \n",
    "The discount $d$ is a function that decreases with position further down the list:\n",
    "$$d_i=\\frac{1}{log_2(i+1)}$$\n",
    "\n",
    "NDCG is calculated as the actual DCG normalized by maximum achievable DCG (a perfect ranking in the descreasing order of the relevance score) \n",
    "$$nDCG(Rank)=\\frac{DCG(Rank)}{DCG(Perfect Rank)}$$\n",
    "\n",
    "Note: nDCG is increasingly popular, as it works well with a variety type of relevance scores, binary, integar or float numbers.\n",
    "\n",
    "--- \n",
    "Here, ratings are predicted both for testset with new user and business and for testset with no new users or business ('testset_2') using the best model concluded above.<br> The remmendation ranking is generated for each user in the testset based on the predicted ratings in the descending order, and then NDCG@top10 and NDCG@5 are computed."
   ]
  },
  {
   "cell_type": "code",
   "execution_count": 36,
   "metadata": {},
   "outputs": [],
   "source": [
    "# function for computing normalized Discounted Cumulative Gain as the ranking metric\n",
    "# inspired by https://gist.github.com/bwhite/3726239\n",
    "\n",
    "def dcg_at_k(r, k):\n",
    "    \"\"\"Score is discounted cumulative gain (dcg)\n",
    "    Relevance is positive real values, in this case, the review rating ranging 1-5. \n",
    "    Discount starts to take effect from the second item in the list, with the weights being 1/log2(rank position+1)\n",
    "    (Weights being [1.0, 0.6309, 0.5, 0.4307, 0.3869, ...] for the first items in the rank)\n",
    "    Example from\n",
    "    http://www.stanford.edu/class/cs276/handouts/EvaluationNew-handout-6-per.pdf\n",
    "    ---\n",
    "    Args:\n",
    "        r: a list or numpy 1D array of relevance scores corresponding to the rank order\n",
    "        k: Number of results to consider (consider only top-k)\n",
    "    ---\n",
    "    Returns:\n",
    "        Discounted cumulative gain\n",
    "    \"\"\"\n",
    "    r = np.asfarray(r)[:min(len(r),k)]  # convert to float-type numpy array and extract only top-k\n",
    "    if r.size:\n",
    "        return np.sum(r / np.log2(np.arange(2, r.size + 2)))\n",
    "    return None\n",
    "\n",
    "def ndcg_at_k(r, k):\n",
    "    \"\"\"Score is normalized discounted cumulative gain (ndcg), normalized by the maximum achievable DCG (Discounted Cumulative Gain)\n",
    "    ---\n",
    "    Args:\n",
    "        Same as dcg_at_k(r,k)\n",
    "    ---\n",
    "    Returns:\n",
    "        Normalized discounted cumulative gain\n",
    "    \"\"\"\n",
    "    dcg_max = dcg_at_k(sorted(r, reverse=True), k) # compute the maximum achievable DCG based on the perfect ranking\n",
    "    dcg = dcg_at_k(r, k) # compute the actual DCG based on the actual ranking\n",
    "    if dcg_max == None or dcg == None:\n",
    "        return None\n",
    "    return dcg/dcg_max"
   ]
  },
  {
   "cell_type": "markdown",
   "metadata": {},
   "source": [
    "### 1) Testset with the presence of new users and new businesses"
   ]
  },
  {
   "cell_type": "code",
   "execution_count": 37,
   "metadata": {},
   "outputs": [],
   "source": [
    "pred_1 = svd_gs_best.test(testing) # predict on testset with new users and businesses"
   ]
  },
  {
   "cell_type": "code",
   "execution_count": 38,
   "metadata": {},
   "outputs": [
    {
     "name": "stderr",
     "output_type": "stream",
     "text": [
      "100%|██████████| 599700/599700 [9:47:37<00:00,  9.62it/s]   \n"
     ]
    }
   ],
   "source": [
    "rating_predict_1 = pd.DataFrame(index=np.arange(len(pred_1)),columns=['user_id','business_id','stars','rating_predict'])\n",
    "\n",
    "i=0\n",
    "for entry in tqdm(pred_1):\n",
    "    rating_predict_1.iloc[i,:] = entry.uid, entry.iid, entry.r_ui, entry.est\n",
    "    i += 1    \n",
    "assert i == len(pred_1)"
   ]
  },
  {
   "cell_type": "code",
   "execution_count": 39,
   "metadata": {},
   "outputs": [],
   "source": [
    "# save the predicted ratings to file\n",
    "with open('rating_predict_collaborative_testset_1.pkl','wb') as f:\n",
    "    pickle.dump(rating_predict_1, f)"
   ]
  },
  {
   "cell_type": "code",
   "execution_count": 40,
   "metadata": {},
   "outputs": [
    {
     "name": "stdout",
     "output_type": "stream",
     "text": [
      "Ranking by predicted ratings:\n",
      "                        rating_predict stars\n",
      "business_id                                \n",
      "DXlDzOcpdUE_F21tok0fgw        4.97161     4\n",
      "gVhX5xcnGjHE3mF2eXqKYg         4.6949     5\n",
      "eJKnymd0BywNPrJw1IuXVw        4.66488     5\n",
      "SvHAczHxIJ00QlJ9ovQR8g        4.59764     4\n",
      "RJtgNpUFthlJ5grLr16GxA        4.41994     5\n",
      "Ks0M3J4vZAKsHPuCINz5fQ        4.27252     4\n",
      "TTpgjbrSyxwHHzE5bIF-Rw         4.2718     3\n",
      "NAuUGBenC_TJoj2c6y9rbg        3.68518     5\n",
      "x-80R4DE6AsYoDtA2H-sKw        3.58008     3\n",
      "pwLQfEe_yJYwAWWugWbpIQ        3.37864     4\n",
      "Xspg78dOvuedvuPEUwZBjw         3.3126     4\n",
      "PSRZaGGxXmOmabL2si8pKw        3.10716     3\n",
      "\n",
      "Normalized discounted cumulative gain achieved at top-10 based on testset:\n",
      " 0.9474901457458933\n",
      "CPU times: user 1.46 s, sys: 82.6 ms, total: 1.55 s\n",
      "Wall time: 1.61 s\n"
     ]
    }
   ],
   "source": [
    "%%time\n",
    "# look at a particular user_id as an example\n",
    "\n",
    "user_id = '---1lKK3aKOuomHnwAkAow' # 12 review ratings available in 'testset'\n",
    "\n",
    "# rank the 'rating_predict' dataframe by the predicted ratings in descending order\n",
    "rating_predict_1 = rating_predict_1.sort_values('rating_predict', ascending=False)\n",
    "\n",
    "# filter to the user_id of interest only\n",
    "rec = rating_predict_1[rating_predict_1.user_id == user_id].set_index('business_id')[['rating_predict','stars']]\n",
    "print('Ranking by predicted ratings:\\n', rec)\n",
    "ndcg = ndcg_at_k(r=rec.stars.values, k=10) # look at the NDCG score@top10\n",
    "print('\\nNormalized discounted cumulative gain achieved at top-10 based on testset:\\n', ndcg)"
   ]
  },
  {
   "cell_type": "code",
   "execution_count": 41,
   "metadata": {},
   "outputs": [
    {
     "name": "stderr",
     "output_type": "stream",
     "text": [
      "100%|██████████| 4642/4642 [06:34<00:00, 11.77it/s]"
     ]
    },
    {
     "name": "stdout",
     "output_type": "stream",
     "text": [
      "CPU times: user 6min 34s, sys: 2.05 s, total: 6min 36s\n",
      "Wall time: 6min 36s\n"
     ]
    },
    {
     "name": "stderr",
     "output_type": "stream",
     "text": [
      "\n"
     ]
    }
   ],
   "source": [
    "%%time\n",
    "# evaluate NDCG@top10 on the entire testset\n",
    "\n",
    "# only look at NDCG scores for users with at least 10 ratings available in the testset in order to evaluate NDCG@top10\n",
    "rev_count_by_user = rating_predict_1.groupby('user_id').business_id.count()\n",
    "user_id_of_interest = rev_count_by_user[rev_count_by_user >= 10].index\n",
    "\n",
    "# rank the 'rating_predict' dataframe by the predicted ratings in descending order\n",
    "rating_predict_1 = rating_predict_1.sort_values('rating_predict', ascending=False)\n",
    "\n",
    "ndcg_scores_1_10 = []\n",
    "# compute NDCG score for each user in the testset\n",
    "for user_id in tqdm(user_id_of_interest):\n",
    "    \n",
    "    # filter to the user_id of interest only\n",
    "    rec = rating_predict_1[rating_predict_1.user_id == user_id].set_index('business_id')[['rating_predict','stars']]\n",
    "    assert len(rec) >= 10\n",
    "    ndcg = ndcg_at_k(r=rec.stars.values, k=10) # compute NDCG score@top10\n",
    "    ndcg_scores_1_10.append(ndcg)"
   ]
  },
  {
   "cell_type": "code",
   "execution_count": 42,
   "metadata": {},
   "outputs": [
    {
     "name": "stderr",
     "output_type": "stream",
     "text": [
      "100%|██████████| 15983/15983 [22:28<00:00, 11.85it/s]"
     ]
    },
    {
     "name": "stdout",
     "output_type": "stream",
     "text": [
      "CPU times: user 22min 27s, sys: 5.69 s, total: 22min 33s\n",
      "Wall time: 22min 30s\n"
     ]
    },
    {
     "name": "stderr",
     "output_type": "stream",
     "text": [
      "\n"
     ]
    }
   ],
   "source": [
    "%%time\n",
    "# evaluate NDCG@top5 on the entire testset\n",
    "\n",
    "# only look at NDCG scores for users with at least 5 ratings available in the testset in order to evaluate NDCG@top5\n",
    "rev_count_by_user = rating_predict_1.groupby('user_id').business_id.count()\n",
    "user_id_of_interest = rev_count_by_user[rev_count_by_user >= 5].index\n",
    "\n",
    "# rank the 'rating_predict' dataframe by the predicted ratings in descending order\n",
    "rating_predict_1 = rating_predict_1.sort_values('rating_predict', ascending=False)\n",
    "\n",
    "ndcg_scores_1_5 = []\n",
    "# compute NDCG score for each user in the testset\n",
    "for user_id in tqdm(user_id_of_interest):\n",
    "    \n",
    "    # filter to the user_id of interest only\n",
    "    rec = rating_predict_1[rating_predict_1.user_id == user_id].set_index('business_id')[['rating_predict','stars']]\n",
    "    assert len(rec) >= 5\n",
    "    ndcg = ndcg_at_k(r=rec.stars.values, k=5) # compute NDCG score@top5\n",
    "    ndcg_scores_1_5.append(ndcg)"
   ]
  },
  {
   "cell_type": "markdown",
   "metadata": {},
   "source": [
    "### Testset with no new user or business"
   ]
  },
  {
   "cell_type": "code",
   "execution_count": 43,
   "metadata": {},
   "outputs": [],
   "source": [
    "pred_2 = svd_gs_best.test(testing_2) # predict on testset_2 with no new user or business"
   ]
  },
  {
   "cell_type": "code",
   "execution_count": 44,
   "metadata": {},
   "outputs": [
    {
     "name": "stderr",
     "output_type": "stream",
     "text": [
      "100%|██████████| 513755/513755 [7:21:36<00:00, 19.39it/s]     \n"
     ]
    }
   ],
   "source": [
    "rating_predict_2 = pd.DataFrame(index=np.arange(len(pred_2)),columns=['user_id','business_id','stars','rating_predict'])\n",
    "\n",
    "i=0\n",
    "for entry in tqdm(pred_2):\n",
    "    rating_predict_2.iloc[i,:] = entry.uid, entry.iid, entry.r_ui, entry.est\n",
    "    i += 1    \n",
    "assert i == len(pred_2)"
   ]
  },
  {
   "cell_type": "code",
   "execution_count": 45,
   "metadata": {},
   "outputs": [],
   "source": [
    "# save the predicted ratings to file\n",
    "with open('rating_predict_collaborative_testset_2.pkl','wb') as f:\n",
    "    pickle.dump(rating_predict_2, f)"
   ]
  },
  {
   "cell_type": "code",
   "execution_count": 46,
   "metadata": {},
   "outputs": [
    {
     "name": "stdout",
     "output_type": "stream",
     "text": [
      "Ranking by predicted ratings:\n",
      "                        rating_predict stars\n",
      "business_id                                \n",
      "DXlDzOcpdUE_F21tok0fgw        4.97161     4\n",
      "gVhX5xcnGjHE3mF2eXqKYg         4.6949     5\n",
      "eJKnymd0BywNPrJw1IuXVw        4.66488     5\n",
      "SvHAczHxIJ00QlJ9ovQR8g        4.59764     4\n",
      "RJtgNpUFthlJ5grLr16GxA        4.41994     5\n",
      "Ks0M3J4vZAKsHPuCINz5fQ        4.27252     4\n",
      "TTpgjbrSyxwHHzE5bIF-Rw         4.2718     3\n",
      "NAuUGBenC_TJoj2c6y9rbg        3.68518     5\n",
      "x-80R4DE6AsYoDtA2H-sKw        3.58008     3\n",
      "pwLQfEe_yJYwAWWugWbpIQ        3.37864     4\n",
      "Xspg78dOvuedvuPEUwZBjw         3.3126     4\n",
      "PSRZaGGxXmOmabL2si8pKw        3.10716     3\n",
      "\n",
      "Normalized discounted cumulative gain achieved at top-10 based on testset:\n",
      " 0.9474901457458933\n",
      "CPU times: user 1.08 s, sys: 28.2 ms, total: 1.11 s\n",
      "Wall time: 1.13 s\n"
     ]
    }
   ],
   "source": [
    "%%time\n",
    "# look at a particular user_id as an example\n",
    "\n",
    "user_id = '---1lKK3aKOuomHnwAkAow' # 12 review ratings available in 'testset_2'\n",
    "\n",
    "# rank the 'rating_predict' dataframe by the predicted ratings in descending order\n",
    "rating_predict_2 = rating_predict_2.sort_values('rating_predict', ascending=False)\n",
    "\n",
    "# filter to the user_id of interest only\n",
    "rec = rating_predict_2[rating_predict_2.user_id == user_id].set_index('business_id')[['rating_predict','stars']]\n",
    "print('Ranking by predicted ratings:\\n', rec)\n",
    "ndcg = ndcg_at_k(r=rec.stars.values, k=10) # look at the NDCG score@top10\n",
    "print('\\nNormalized discounted cumulative gain achieved at top-10 based on testset:\\n', ndcg)"
   ]
  },
  {
   "cell_type": "code",
   "execution_count": 47,
   "metadata": {},
   "outputs": [
    {
     "name": "stderr",
     "output_type": "stream",
     "text": [
      "100%|██████████| 4641/4641 [05:26<00:00, 14.21it/s]"
     ]
    },
    {
     "name": "stdout",
     "output_type": "stream",
     "text": [
      "CPU times: user 5min 26s, sys: 1.93 s, total: 5min 28s\n",
      "Wall time: 5min 28s\n"
     ]
    },
    {
     "name": "stderr",
     "output_type": "stream",
     "text": [
      "\n"
     ]
    }
   ],
   "source": [
    "%%time\n",
    "# evaluate NDCG@top10 on the entire testset_2\n",
    "\n",
    "# only look at NDCG scores for users with at least 10 ratings available in the testset_2 in order to evaluate NDCG@top10\n",
    "rev_count_by_user = rating_predict_2.groupby('user_id').business_id.count()\n",
    "user_id_of_interest = rev_count_by_user[rev_count_by_user >= 10].index\n",
    "\n",
    "# rank the 'rating_predict' dataframe by the predicted ratings in descending order\n",
    "rating_predict_2 = rating_predict_2.sort_values('rating_predict', ascending=False)\n",
    "\n",
    "ndcg_scores_2_10 = []\n",
    "# compute NDCG score for each user in the testset\n",
    "for user_id in tqdm(user_id_of_interest):\n",
    "    \n",
    "    # filter to the user_id of interest only\n",
    "    rec = rating_predict_2[rating_predict_2.user_id == user_id].set_index('business_id')[['rating_predict','stars']]\n",
    "    assert len(rec) >= 10\n",
    "    ndcg = ndcg_at_k(r=rec.stars.values, k=10) # compute NDCG score@top10\n",
    "    ndcg_scores_2_10.append(ndcg)"
   ]
  },
  {
   "cell_type": "code",
   "execution_count": 48,
   "metadata": {},
   "outputs": [
    {
     "name": "stderr",
     "output_type": "stream",
     "text": [
      "100%|██████████| 15980/15980 [18:41<00:00, 14.30it/s]"
     ]
    },
    {
     "name": "stdout",
     "output_type": "stream",
     "text": [
      "CPU times: user 18min 39s, sys: 5.71 s, total: 18min 45s\n",
      "Wall time: 18min 43s\n"
     ]
    },
    {
     "name": "stderr",
     "output_type": "stream",
     "text": [
      "\n"
     ]
    }
   ],
   "source": [
    "%%time\n",
    "# evaluate NDCG@top5 on the entire testset_2\n",
    "\n",
    "# only look at NDCG scores for users with at least 5 ratings available in the testset_2 in order to evaluate NDCG@top5\n",
    "rev_count_by_user = rating_predict_2.groupby('user_id').business_id.count()\n",
    "user_id_of_interest = rev_count_by_user[rev_count_by_user >= 5].index\n",
    "\n",
    "# rank the 'rating_predict' dataframe by the predicted ratings in descending order\n",
    "rating_predict_2 = rating_predict_2.sort_values('rating_predict', ascending=False)\n",
    "\n",
    "ndcg_scores_2_5 = []\n",
    "# compute NDCG score for each user in the testset\n",
    "for user_id in tqdm(user_id_of_interest):\n",
    "    \n",
    "    # filter to the user_id of interest only\n",
    "    rec = rating_predict_2[rating_predict_2.user_id == user_id].set_index('business_id')[['rating_predict','stars']]\n",
    "    assert len(rec) >= 5\n",
    "    ndcg = ndcg_at_k(r=rec.stars.values, k=5) # compute NDCG score@top5\n",
    "    ndcg_scores_2_5.append(ndcg)"
   ]
  },
  {
   "cell_type": "code",
   "execution_count": 49,
   "metadata": {},
   "outputs": [
    {
     "data": {
      "text/html": [
       "<div>\n",
       "<style scoped>\n",
       "    .dataframe tbody tr th:only-of-type {\n",
       "        vertical-align: middle;\n",
       "    }\n",
       "\n",
       "    .dataframe tbody tr th {\n",
       "        vertical-align: top;\n",
       "    }\n",
       "\n",
       "    .dataframe thead th {\n",
       "        text-align: right;\n",
       "    }\n",
       "</style>\n",
       "<table border=\"1\" class=\"dataframe\">\n",
       "  <thead>\n",
       "    <tr style=\"text-align: right;\">\n",
       "      <th></th>\n",
       "      <th>NDCG@10_collaborative_testset_with_new</th>\n",
       "      <th>NDCG@10_collaborative_testset_no_new</th>\n",
       "      <th>NDCG@5_collaborative_testset_with_new</th>\n",
       "      <th>NDCG@5_collaborative_testset_no_new</th>\n",
       "    </tr>\n",
       "  </thead>\n",
       "  <tbody>\n",
       "    <tr>\n",
       "      <th>count</th>\n",
       "      <td>4642.000000</td>\n",
       "      <td>4641.000000</td>\n",
       "      <td>15983.000000</td>\n",
       "      <td>15980.000000</td>\n",
       "    </tr>\n",
       "    <tr>\n",
       "      <th>mean</th>\n",
       "      <td>0.904994</td>\n",
       "      <td>0.904952</td>\n",
       "      <td>0.908310</td>\n",
       "      <td>0.908326</td>\n",
       "    </tr>\n",
       "    <tr>\n",
       "      <th>std</th>\n",
       "      <td>0.068203</td>\n",
       "      <td>0.068165</td>\n",
       "      <td>0.089472</td>\n",
       "      <td>0.089520</td>\n",
       "    </tr>\n",
       "    <tr>\n",
       "      <th>min</th>\n",
       "      <td>0.497472</td>\n",
       "      <td>0.497472</td>\n",
       "      <td>0.338880</td>\n",
       "      <td>0.338880</td>\n",
       "    </tr>\n",
       "    <tr>\n",
       "      <th>25%</th>\n",
       "      <td>0.868901</td>\n",
       "      <td>0.868893</td>\n",
       "      <td>0.864565</td>\n",
       "      <td>0.864545</td>\n",
       "    </tr>\n",
       "    <tr>\n",
       "      <th>50%</th>\n",
       "      <td>0.918245</td>\n",
       "      <td>0.918069</td>\n",
       "      <td>0.932168</td>\n",
       "      <td>0.932168</td>\n",
       "    </tr>\n",
       "    <tr>\n",
       "      <th>75%</th>\n",
       "      <td>0.954815</td>\n",
       "      <td>0.954917</td>\n",
       "      <td>0.974209</td>\n",
       "      <td>0.974546</td>\n",
       "    </tr>\n",
       "    <tr>\n",
       "      <th>max</th>\n",
       "      <td>1.000000</td>\n",
       "      <td>1.000000</td>\n",
       "      <td>1.000000</td>\n",
       "      <td>1.000000</td>\n",
       "    </tr>\n",
       "  </tbody>\n",
       "</table>\n",
       "</div>"
      ],
      "text/plain": [
       "       NDCG@10_collaborative_testset_with_new  \\\n",
       "count                             4642.000000   \n",
       "mean                                 0.904994   \n",
       "std                                  0.068203   \n",
       "min                                  0.497472   \n",
       "25%                                  0.868901   \n",
       "50%                                  0.918245   \n",
       "75%                                  0.954815   \n",
       "max                                  1.000000   \n",
       "\n",
       "       NDCG@10_collaborative_testset_no_new  \\\n",
       "count                           4641.000000   \n",
       "mean                               0.904952   \n",
       "std                                0.068165   \n",
       "min                                0.497472   \n",
       "25%                                0.868893   \n",
       "50%                                0.918069   \n",
       "75%                                0.954917   \n",
       "max                                1.000000   \n",
       "\n",
       "       NDCG@5_collaborative_testset_with_new  \\\n",
       "count                           15983.000000   \n",
       "mean                                0.908310   \n",
       "std                                 0.089472   \n",
       "min                                 0.338880   \n",
       "25%                                 0.864565   \n",
       "50%                                 0.932168   \n",
       "75%                                 0.974209   \n",
       "max                                 1.000000   \n",
       "\n",
       "       NDCG@5_collaborative_testset_no_new  \n",
       "count                         15980.000000  \n",
       "mean                              0.908326  \n",
       "std                               0.089520  \n",
       "min                               0.338880  \n",
       "25%                               0.864545  \n",
       "50%                               0.932168  \n",
       "75%                               0.974546  \n",
       "max                               1.000000  "
      ]
     },
     "execution_count": 49,
     "metadata": {},
     "output_type": "execute_result"
    },
    {
     "data": {
      "image/png": "[encoded data removed]",
      "text/plain": [
       "<Figure size 432x288 with 4 Axes>"
      ]
     },
     "metadata": {},
     "output_type": "display_data"
    }
   ],
   "source": [
    "# save the computed NDCG scores of the testset to file\n",
    "ndcg_scores = [pd.Series(i) for i in [ndcg_scores_1_10, ndcg_scores_2_10, ndcg_scores_1_5, ndcg_scores_2_5]]\n",
    "ndcg_scores = pd.concat(ndcg_scores, axis=1)\n",
    "ndcg_scores.columns = ['NDCG@10_collaborative_testset_with_new','NDCG@10_collaborative_testset_no_new',\\\n",
    "                      'NDCG@5_collaborative_testset_with_new','NDCG@5_collaborative_testset_no_new',]\n",
    "\n",
    "# save the NDCG scores to file\n",
    "with open('ndcg_collaborative_svd.pkl','wb') as f:\n",
    "    pickle.dump(ndcg_scores, f)\n",
    "    \n",
    "ndcg_scores.plot(kind='hist',subplots=True);\n",
    "ndcg_scores.describe()"
   ]
  },
  {
   "cell_type": "markdown",
   "metadata": {},
   "source": [
    "As shown, the average NDCG@10 and NDCG@5 scores are 0.905 and 0.908, significantly higher than the average NDCG scores (~0.86) obtained by the content-based recommender module. The difference between testset with new user and business and testset with no new user or business is not significant, as there is 1 review involving new user/business out of 4642 reviews for computing NDCG@10, and only 3 involving new user/business out of 15983 reviews for computing NDCG@5.<br>\n",
    "\n",
    "Note: \n",
    "These rating prediction for the testset include ratings of non-restaurant businesses, thus the resulting recommendation rankings include non-restaurant businesses. NDCG scores are also computed based on the same testset after removing non-restaurant business and the results are very similar (a collection of 2215 NDCG scores for NDCG@10 with a mean of 0.904817 and a std of 0.067366). For actual implementation, after generating the recommendation ranking, a followup step will be added to filter out the non-restaurant businesses."
   ]
  },
  {
   "cell_type": "code",
   "execution_count": 50,
   "metadata": {},
   "outputs": [],
   "source": [
    "# free up temporary variables to save memory\n",
    "idx, trainset, testset, data_train, training, data_test, testing = 0,0,0,0,0,0,0\n",
    "svd, svd_bias, nmf, nmf_bias, pred_svd, pred_svd_bias, pred_nmf, pred_nmf_bias = 0,0,0,0,0,0,0,0\n",
    "user_latent, item_latent, user_bias, item_bias, prediction, comparison = 0,0,0,0,0,0\n",
    "trainset_m, train_map_user, train_map_business, model, W, H, pred = 0,0,0,0,0,0,0\n",
    "svd_gs, svd_gs_best, pred_svd_gs_best, nmf_gs, nmf_gs_best, pred_nmf_gs_best = 0,0,0,0,0,0\n",
    "pred_1, pred_2, pred_3, testset_2, testing_2, testset_3, testing_3, user_rev_cnt, busi_rev_cnt = 0,0,0,0,0,0,0,0,0\n",
    "rating_predict_1, rating_predict_2, rating_predict_3, rec, rev_count_by_user, user_id_of_interest = 0,0,0,0,0,0\n",
    "ndcg_scores_1_10, ndcg_scores_1_5, ndcg_scores_2_10, ndcg_scores_2_5, ndcg_scores = 0,0,0,0,0"
   ]
  },
  {
   "cell_type": "markdown",
   "metadata": {},
   "source": [
    "# 4. Implementation of the collaborative recommender module\n",
    "\n",
    "As concluded, the SVD with bias model from scikit-surprise package gives very reasonable performance both in rating prediction and in generating recommendation ranking. Therefore, the optimized SVD with bias model is selected for implementing the collaborative filtering module."
   ]
  },
  {
   "cell_type": "markdown",
   "metadata": {},
   "source": [
    "## 4.1 Re-training on entire dataset\n",
    "\n",
    "Previously, all models are trained on the trainset only. Prior to implementation, the best performing SVD with bias model with the optimized parameters is re-trained taking advantage of the entire review dataset and saved to file for use later in the recommender module."
   ]
  },
  {
   "cell_type": "code",
   "execution_count": 51,
   "metadata": {
    "scrolled": false
   },
   "outputs": [
    {
     "name": "stdout",
     "output_type": "stream",
     "text": [
      "RMSE: 0.8603\n",
      "CPU times: user 6min 28s, sys: 1min 33s, total: 8min 2s\n",
      "Wall time: 9min 4s\n"
     ]
    }
   ],
   "source": [
    "%%time\n",
    "\n",
    "# load the entire dataset into Surprise\n",
    "data = Dataset.load_from_df(review_r[['user_id','business_id','stars']], reader)\n",
    "# use the optimized SVD algorithm parameters and re-train on the entire dataset\n",
    "svd_bias = SVD(n_factors=10, n_epochs = 50, lr_all=0.005, reg_all=0.05, biased=True) # initiate a SVD algorithm object with the bias terms\n",
    "\n",
    "svd_bias.fit(data.build_full_trainset()) # prepare a trainset object out of the entire dataset to feed to .fit() method\n",
    "pred_svd_bias = svd_bias.test(data.construct_testset(data.raw_ratings)) # prepare a testset object out of the entire dataset to feed to .test() method\n",
    "accuracy.rmse(pred_svd_bias) # compute RMSE score"
   ]
  },
  {
   "cell_type": "markdown",
   "metadata": {},
   "source": [
    "note: here the 'RMSE' of 0.86 is lower than the 'RMSE' obtained above on the testset, because the 'RMSE' here is computed on the trainset. "
   ]
  },
  {
   "cell_type": "code",
   "execution_count": 52,
   "metadata": {},
   "outputs": [],
   "source": [
    "# check there is no offset term (otherwise all prediction need to be adjusted by the offset)\n",
    "assert svd_bias.trainset.offset == 0\n",
    "\n",
    "# wrap all useful info from the trained model in a dictionary and pickle to file\n",
    "svd_trained_info = {'user_latent': svd_bias.pu,\n",
    "                    'item_latent': svd_bias.qi,\n",
    "                    'user_bias': svd_bias.bu,\n",
    "                    'item_bias': svd_bias.bi,\n",
    "                    'mean_rating': svd_bias.trainset.global_mean,\n",
    "                    'userid_to_index': svd_bias.trainset._raw2inner_id_users,\n",
    "                    'itemid_to_index': svd_bias.trainset._raw2inner_id_items\n",
    "                   }"
   ]
  },
  {
   "cell_type": "code",
   "execution_count": 53,
   "metadata": {},
   "outputs": [
    {
     "name": "stdout",
     "output_type": "stream",
     "text": [
      "CPU times: user 8.76 s, sys: 3.43 s, total: 12.2 s\n",
      "Wall time: 14.3 s\n"
     ]
    }
   ],
   "source": [
    "%%time\n",
    "\n",
    "# save all necessary information for prediction from the trained svd_bias model\n",
    "with open('svd_trained_info.pkl', 'wb') as f:\n",
    "    pickle.dump(svd_trained_info, f)\n",
    "\n",
    "# save all the information regarding the trained svd_bias model as a backup (this file will be large)\n",
    "with open('svd_bias_model_trained.pkl','wb') as f:\n",
    "    pickle.dump(svd_bias, f)"
   ]
  },
  {
   "cell_type": "code",
   "execution_count": 54,
   "metadata": {},
   "outputs": [],
   "source": [
    "# free up temporary variables to save memory\n",
    "review_r, data, svd_bias, pred_svd_bias, svd_trained_info = 0,0,0,0,0"
   ]
  },
  {
   "cell_type": "markdown",
   "metadata": {},
   "source": [
    "## 4.2 Implementation of the collaborative recommender module\n",
    "\n",
    "For the actual implementation of the collaborative module: <br> \n",
    "* first, the recommendation is initiated to all the open restaurant businesses in the 'business' catalog\n",
    "* secondly, user latent feature matrix, user bias vector, item latent feature matrix, item bias vector and other necessary information of the trained SVD algorithm are loaded into the module\n",
    "* thirdly, given the user_id of interest, personalized ratings are predicted for all businesses in the catalog by multiplying the latent feature of this user with item latent feature matrix, then added item bias vector, user bias value of the user of interest and global mean rating.\n",
    "* fourthly, the list of predicted ratings are paired with corresponding business_id and filtered to unrated businesses only based on the user_id of interest. \n",
    "* lastly, the list of predicted ratings are merged with the restaurant recommendation list based on business_id to filter out non-restaurant businesses, followed by sorting the resulting list by predicted rating in descending order to reach the final recommendation for the given user."
   ]
  },
  {
   "cell_type": "code",
   "execution_count": 55,
   "metadata": {},
   "outputs": [],
   "source": [
    "# the 'business' and 'review' datasets need to be imported for the collaborative recommender module to operate\n",
    "business = pd.read_csv('business_clean.csv')\n",
    "review = pd.read_csv('review_clean.csv')"
   ]
  },
  {
   "cell_type": "code",
   "execution_count": 56,
   "metadata": {},
   "outputs": [],
   "source": [
    "# adding 'adjusted_score' to the 'business' dataset, which adjusts the restaurnat average star ratings by the number of ratings it has\n",
    "globe_mean = ((business.stars * business.review_count).sum())/(business.review_count.sum())\n",
    "k = 22 # set strength k to 22, which is the 50% quantile of the review counts for all businesses\n",
    "business['adjusted_score'] = (business.review_count * business.stars + k * globe_mean)/(business.review_count + k)"
   ]
  },
  {
   "cell_type": "code",
   "execution_count": 57,
   "metadata": {},
   "outputs": [],
   "source": [
    "class Recommender:\n",
    "    \n",
    "    def __init__(self, n=5, original_score=False):\n",
    "        \"\"\"initiate a Recommender object by passing the desired number of recommendations to make, the default number is 10.\n",
    "        By default, the adjusted score will be used for ranking; To rank by the original average rating of the restaurant, pass original_score=True\n",
    "        \"\"\"\n",
    "        self.n = n # number of recommendations to make, default is 5\n",
    "        self.original_score = original_score # boolean indicating whether the original average rating or the adjusted score is used\n",
    "        # initiate a list of column names to display in the recommendation results\n",
    "        self.column_to_display = ['state','city','name','address','attributes.RestaurantsPriceRange2','cuisine','style','review_count','stars','adjusted_score']\n",
    "        \n",
    "        # initiate the list of recommendations to be all the open restaurants from the entire catalog of 'business' dataframe sorted by the score of interest\n",
    "        if self.original_score:  # set sorting criteria to the originial star rating\n",
    "            score = 'stars'\n",
    "        else:  # set sorting criteria to the adjusted score\n",
    "            score = 'adjusted_score'\n",
    "        self.recomm = business[business.is_open == 1].sort_values(score, ascending=False)\n",
    "        \n",
    "    def display_recommendation(self):\n",
    "        \"\"\" Display the list of top n recommended restaurants\n",
    "        \"\"\"\n",
    "        # limit the list of recommendation to only top n at max\n",
    "        if self.n < len(self.recomm):\n",
    "            self.recomm = self.recomm.iloc[:self.n]\n",
    "        if len(self.recomm) == 0:\n",
    "            print(\"Sorry, there is no matching recommendations.\")\n",
    "        else: \n",
    "            print(\"The top {} recommended restaurants matching your keywords are\".format(self.n))\n",
    "            print(self.recomm[self.column_to_display])\n",
    "    \n",
    "    # personalized collaborative-based filtering recommender module\n",
    "    def collaborative(self, user_id=None):\n",
    "        \"\"\"Passing of user_id is required if personalized recommendation is desired.\n",
    "        \"\"\"\n",
    "        \n",
    "        self.user_id = user_id # user_id for personalized recommendation using collaborative filtering \n",
    "        if self.user_id is None:\n",
    "            print(\"no user_id is provided!\")\n",
    "            return None\n",
    "        if len(self.user_id) != 22:\n",
    "            print(\"invalid user id!\")\n",
    "            return None\n",
    "        \n",
    "        # initiate every time the module is called\n",
    "        self.recomm = business[business.is_open ==1] # start with all open restaurants from the entire 'business' catalog\n",
    "        if 'predicted_stars' in self.recomm.columns:\n",
    "            self.recomm.drop('predicted_stars', axis=1, inplace=True) # delete the column of 'predicted_stars' if already present\n",
    "        self.column_to_display = ['state','city','name','address','attributes.RestaurantsPriceRange2',\\\n",
    "                                  'cuisine','style','review_count','stars','adjusted_score'] # reset the columns to display\n",
    "        \n",
    "        # load and extract the necessary info fro the trained matrix factorization algorithm\n",
    "        with open('svd_trained_info.pkl', 'rb') as f:\n",
    "            svd_trained_info = pickle.load(f)\n",
    "        user_latent = svd_trained_info['user_latent']\n",
    "        item_latent = svd_trained_info['item_latent']\n",
    "        user_bias = svd_trained_info['user_bias']\n",
    "        item_bias = svd_trained_info['item_bias']\n",
    "        r_mean = svd_trained_info['mean_rating'] # global mean of all ratings\n",
    "        userid_to_idx = svd_trained_info['userid_to_index']\n",
    "        itemid_to_idx = svd_trained_info['itemid_to_index']\n",
    "        \n",
    "        # predict personalized business ratings for the user_id of interest\n",
    "        if self.user_id in userid_to_idx:\n",
    "            u_idx = userid_to_idx[self.user_id]\n",
    "            pred = r_mean + user_bias[u_idx] + item_bias + np.dot(user_latent[u_idx,:],item_latent.T)\n",
    "        else: \n",
    "            print(\"sorry, no personal data available for this user_id yet!\")\n",
    "            print(\"Here is the generic recommendation computed from all the users in our database:\")\n",
    "            pred = r_mean + item_bias\n",
    "        \n",
    "        # pairing the predicted ratings with the business_id by matching the corresponding matrix indices of the business_id\n",
    "        prediction = pd.DataFrame(data=pred, index=itemid_to_idx.values(), columns=['predicted_stars']) \n",
    "        prediction.index.name = 'matrix_item_indice'\n",
    "        assert len(prediction) == len(pred)\n",
    "        prediction['business_id'] = list(itemid_to_idx.keys())\n",
    "        \n",
    "        # filter to unrated business_id only by the user_id of interest if a personal history is available\n",
    "        if self.user_id in userid_to_idx:       \n",
    "            busi_rated = review[review.user_id == self.user_id].business_id.unique()\n",
    "            prediction = prediction[~prediction.business_id.isin(busi_rated)]\n",
    "        \n",
    "        # inner-join the prediction dataframe with the recommendation catalog on 'business_id' to retrieve all relevant business informations\n",
    "        # note: the .merge step needs to be performed prior to extracting the top n\n",
    "        # because many of the 'business_id' in the review dataframe are not restaurant-related, therefore not present in the 'business' catalog\n",
    "        # this merge will filter out the non restaurant-related businesses\n",
    "        self.recomm = self.recomm.merge(prediction, on='business_id', how='inner') \n",
    "        \n",
    "        # sort the prediction by the predicted ratings in descending order\n",
    "        self.recomm = self.recomm.sort_values('predicted_stars', ascending=False).reset_index(drop=True)\n",
    "        \n",
    "        # add 'predicted_stars' to the list of columns to display\n",
    "        self.column_to_display.insert(0, 'predicted_stars') \n",
    "        \n",
    "        # display the list of top n recommendations\n",
    "        self.display_recommendation()\n",
    "        \n",
    "        return self.recomm"
   ]
  },
  {
   "cell_type": "markdown",
   "metadata": {},
   "source": [
    "## 4.3 Testing"
   ]
  },
  {
   "cell_type": "code",
   "execution_count": 58,
   "metadata": {},
   "outputs": [
    {
     "name": "stdout",
     "output_type": "stream",
     "text": [
      "------\n",
      "result from test0 (display only): \n",
      "The top 10 recommended restaurants matching your keywords are\n",
      "      state             city                                  name  \\\n",
      "7464     AZ          Phoenix                       Little Miss BBQ   \n",
      "31910    NV        Las Vegas                          Brew Tea Bar   \n",
      "45401    NV        Las Vegas                            Gelatology   \n",
      "7784     NV  North Las Vegas                          Poke Express   \n",
      "28162    NV        Las Vegas                    Meráki Greek Grill   \n",
      "2684     AZ             Mesa                        Worth Takeaway   \n",
      "14567    NV        Las Vegas                Free Vegas Club Passes   \n",
      "11521    NV        Las Vegas  Paranormal - Mind Reading Magic Show   \n",
      "30972    NV        Las Vegas           Desert Wind Coffee Roasters   \n",
      "46284    NV        Henderson                                HUMMUS   \n",
      "\n",
      "                            address  attributes.RestaurantsPriceRange2  \\\n",
      "7464           4301 E University Dr                                2.0   \n",
      "31910  7380 S Rainbow Blvd, Ste 101                                1.0   \n",
      "45401  7910 S Rainbow Blvd, Ste 110                                1.0   \n",
      "7784        655 W Craig Rd, Ste 118                                2.0   \n",
      "28162  4950 S Rainbow Blvd, Ste 160                                2.0   \n",
      "2684                  218 W Main St                                2.0   \n",
      "14567                           NaN                                NaN   \n",
      "11521         3645 Las Vegas Blvd S                                NaN   \n",
      "30972             7772 W Sahara Ave                                1.0   \n",
      "46284  10895 S Eastern Ave, Ste 100                                1.0   \n",
      "\n",
      "                                                 cuisine  \\\n",
      "7464                                            barbeque   \n",
      "31910                               desserts, bubble tea   \n",
      "45401                ice cream & frozen yogurt, desserts   \n",
      "7784                                            hawaiian   \n",
      "28162                               greek, mediterranean   \n",
      "2684   sandwiches, american (new), american (traditio...   \n",
      "14567                                                NaN   \n",
      "11521                                                NaN   \n",
      "30972                                       coffee & tea   \n",
      "46284  gluten-free, vegan, mediterranean, middle eastern   \n",
      "\n",
      "                                                   style  review_count  stars  \\\n",
      "7464                                         restaurants          1746    5.0   \n",
      "31910                                 cafes, restaurants          1380    5.0   \n",
      "45401                                                NaN           547    5.0   \n",
      "7784                                         restaurants           520    5.0   \n",
      "28162                                        restaurants           472    5.0   \n",
      "2684                     breakfast & brunch, restaurants           450    5.0   \n",
      "14567                             dance clubs, nightlife           417    5.0   \n",
      "11521                           casinos, performing arts           408    5.0   \n",
      "30972                                                NaN           408    5.0   \n",
      "46284  fast food, caterers, juice bars & smoothies, r...           372    5.0   \n",
      "\n",
      "       adjusted_score  \n",
      "7464         4.984169  \n",
      "31910        4.980037  \n",
      "45401        4.950811  \n",
      "7784         4.948360  \n",
      "28162        4.943342  \n",
      "2684         4.940702  \n",
      "14567        4.936244  \n",
      "11521        4.934910  \n",
      "30972        4.934910  \n",
      "46284        4.928962  \n",
      "------\n",
      "result from test1 (no user id input): \n",
      "no user_id is provided!\n",
      "------\n",
      "result from test2 (invalid user id input): \n",
      "invalid user id!\n",
      "CPU times: user 125 ms, sys: 543 ms, total: 668 ms\n",
      "Wall time: 1.24 s\n"
     ]
    }
   ],
   "source": [
    "%%time\n",
    "\n",
    "# initiate a Recommender object\n",
    "kw = Recommender(n=10)\n",
    "\n",
    "# test0: display only (same as no keywords)\n",
    "print(\"------\\nresult from test0 (display only): \")\n",
    "kw.display_recommendation()\n",
    "\n",
    "# test1: no user id input\n",
    "print(\"------\\nresult from test1 (no user id input): \")\n",
    "kw.collaborative();\n",
    "\n",
    "# test 2: invalid user id input\n",
    "print(\"------\\nresult from test2 (invalid user id input): \")\n",
    "kw.collaborative(user_id='928402');"
   ]
  },
  {
   "cell_type": "code",
   "execution_count": 59,
   "metadata": {
    "scrolled": false
   },
   "outputs": [
    {
     "name": "stdout",
     "output_type": "stream",
     "text": [
      "------\n",
      "result from test3 (valid user id --- no user review data): \n",
      "sorry, no personal data available for this user_id yet!\n",
      "Here is the generic recommendation computed from all the users in our database:\n",
      "The top 10 recommended restaurants matching your keywords are\n",
      "   predicted_stars state       city  \\\n",
      "0         4.972518    AZ      Tempe   \n",
      "1         4.952788    NV  Henderson   \n",
      "2         4.939452    NV  Henderson   \n",
      "3         4.937603    AZ    Phoenix   \n",
      "4         4.930186    WI    Madison   \n",
      "5         4.922714    AZ    Gilbert   \n",
      "6         4.916148    NV  Las Vegas   \n",
      "7         4.915806    NV  Las Vegas   \n",
      "8         4.915574    NV  Henderson   \n",
      "9         4.913130    AZ    Phoenix   \n",
      "\n",
      "                                           name  \\\n",
      "0              Affordable Party & Event Rentals   \n",
      "1                                    Party Pros   \n",
      "2                                Firelight Barn   \n",
      "3                     La Parilla Villa Catering   \n",
      "4                       The Conscious Carnivore   \n",
      "5                       Big Island Hawaiian BBQ   \n",
      "6                              CHEFit Meal Prep   \n",
      "7                            Somethin's Cooking   \n",
      "8                             Cakes On the Move   \n",
      "9  Elite Event: Sneak Peek at the Generous Pour   \n",
      "\n",
      "                         address  attributes.RestaurantsPriceRange2  \\\n",
      "0         510 S 52nd St, Ste 105                                NaN   \n",
      "1              1153 Enchanted Ct                                NaN   \n",
      "2  133 W Lake Mead Pkwy, Ste 140                                2.0   \n",
      "3             727 W Camelback Rd                                1.0   \n",
      "4     3236 University Ave, Ste A                                2.0   \n",
      "5           2919 South Market St                                1.0   \n",
      "6                6235 S Pecos Rd                                2.0   \n",
      "7                            NaN                                NaN   \n",
      "8          1211 Santa Helena Ave                                2.0   \n",
      "9            2502 E Camelback Rd                                NaN   \n",
      "\n",
      "              cuisine                             style  review_count  stars  \\\n",
      "0                 NaN                               NaN            22    5.0   \n",
      "1                 NaN                               NaN            24    5.0   \n",
      "2      american (new)      performing arts, restaurants             7    5.0   \n",
      "3             mexican          food stands, restaurants            19    5.0   \n",
      "4                 NaN                               NaN            29    5.0   \n",
      "5  barbeque, hawaiian                       restaurants            21    5.0   \n",
      "6      specialty food  caterers, food delivery services            12    5.0   \n",
      "7                 NaN                          caterers            17    5.0   \n",
      "8            bakeries                               NaN            59    5.0   \n",
      "9        local flavor                               NaN            18    5.0   \n",
      "\n",
      "   adjusted_score  \n",
      "0        4.363891  \n",
      "1        4.391548  \n",
      "2        4.034869  \n",
      "3        4.317346  \n",
      "4        4.451200  \n",
      "5        4.349097  \n",
      "6        4.176800  \n",
      "7        4.282338  \n",
      "8        4.654459  \n",
      "9        4.300280  \n",
      "CPU times: user 1.13 s, sys: 458 ms, total: 1.59 s\n",
      "Wall time: 1.97 s\n"
     ]
    }
   ],
   "source": [
    "%%time\n",
    "\n",
    "# test 3: valid user id (no user data)\n",
    "print(\"------\\nresult from test3 (valid user id --- no user review data): \")\n",
    "kw.collaborative(user_id='-NzChtoNOw706kps82x0Kg');"
   ]
  },
  {
   "cell_type": "code",
   "execution_count": 60,
   "metadata": {},
   "outputs": [
    {
     "name": "stdout",
     "output_type": "stream",
     "text": [
      "------\n",
      "result from test4 (valid user id --- user has only one review): \n",
      "The top 10 recommended restaurants matching your keywords are\n",
      "   predicted_stars state        city                              name  \\\n",
      "0         5.162014    AZ  Scottsdale                    Aloha Cakes AZ   \n",
      "1         5.158219    AZ       Tempe  Affordable Party & Event Rentals   \n",
      "2         5.157192    NV   Las Vegas                  CHEFit Meal Prep   \n",
      "3         5.152490    NV   Henderson                    Firelight Barn   \n",
      "4         5.144190    NV   Henderson                        Party Pros   \n",
      "5         5.142734    WI     Madison           The Conscious Carnivore   \n",
      "6         5.141464    AZ     Gilbert           Big Island Hawaiian BBQ   \n",
      "7         5.141098    AZ     Phoenix         La Parilla Villa Catering   \n",
      "8         5.140764    AZ     Phoenix              Funny Magic For Kids   \n",
      "9         5.137270    IL   Champaign                  Bugbee's DJ Plus   \n",
      "\n",
      "                         address  attributes.RestaurantsPriceRange2  \\\n",
      "0                            NaN                                2.0   \n",
      "1         510 S 52nd St, Ste 105                                NaN   \n",
      "2                6235 S Pecos Rd                                2.0   \n",
      "3  133 W Lake Mead Pkwy, Ste 140                                2.0   \n",
      "4              1153 Enchanted Ct                                NaN   \n",
      "5     3236 University Ave, Ste A                                2.0   \n",
      "6           2919 South Market St                                1.0   \n",
      "7             727 W Camelback Rd                                1.0   \n",
      "8                            NaN                                NaN   \n",
      "9                            NaN                                NaN   \n",
      "\n",
      "                                      cuisine  \\\n",
      "0  desserts, cupcakes, bakeries, custom cakes   \n",
      "1                                         NaN   \n",
      "2                              specialty food   \n",
      "3                              american (new)   \n",
      "4                                         NaN   \n",
      "5                                         NaN   \n",
      "6                          barbeque, hawaiian   \n",
      "7                                     mexican   \n",
      "8                                         NaN   \n",
      "9                                         NaN   \n",
      "\n",
      "                              style  review_count  stars  adjusted_score  \n",
      "0                               NaN            20    5.0        4.333600  \n",
      "1                               NaN            22    5.0        4.363891  \n",
      "2  caterers, food delivery services            12    5.0        4.176800  \n",
      "3      performing arts, restaurants             7    5.0        4.034869  \n",
      "4                               NaN            24    5.0        4.391548  \n",
      "5                               NaN            29    5.0        4.451200  \n",
      "6                       restaurants            21    5.0        4.349097  \n",
      "7          food stands, restaurants            19    5.0        4.317346  \n",
      "8                               NaN            45    5.0        4.582257  \n",
      "9                               NaN            13    5.0        4.200320  \n",
      "CPU times: user 1.61 s, sys: 461 ms, total: 2.07 s\n",
      "Wall time: 2.14 s\n"
     ]
    }
   ],
   "source": [
    "%%time\n",
    "\n",
    "# test 4: valid user id (user has only one review)\n",
    "print(\"------\\nresult from test4 (valid user id --- user has only one review): \")\n",
    "kw.collaborative(user_id='---89pEy_h9PvHwcHNbpyg');"
   ]
  },
  {
   "cell_type": "markdown",
   "metadata": {},
   "source": [
    "As shown, it takes only 2 seconds to return the personalized recommendation ranks, but due to the limited user preference history, the recommendation is somewhat similar to the generic recommendation for unseen users. "
   ]
  },
  {
   "cell_type": "code",
   "execution_count": 61,
   "metadata": {},
   "outputs": [
    {
     "name": "stdout",
     "output_type": "stream",
     "text": [
      "------\n",
      "result from test5 (valid user id --- user has over 100 reviews): \n",
      "The top 10 recommended restaurants matching your keywords are\n",
      "   predicted_stars state             city                         name  \\\n",
      "0         6.505740    NV        Las Vegas                 Kabob N More   \n",
      "1         6.396645    NV        Las Vegas                  Tasty Grill   \n",
      "2         6.306595    NV        Las Vegas               Tacos N' Ritas   \n",
      "3         6.051560    NV        Las Vegas      KUMI by Chef Akira Back   \n",
      "4         6.046227    NV  North Las Vegas      Amazing Thai Restaurant   \n",
      "5         6.044021    NV        Las Vegas  Yi Mei Champion Taiwan Deli   \n",
      "6         5.975990    NV        Las Vegas             Estiatorio Milos   \n",
      "7         5.942602    AZ          Gilbert                Pizza A Metro   \n",
      "8         5.929520    AZ          Gilbert                 Yanagi Sushi   \n",
      "9         5.923629    AZ          Phoenix                The Van Buren   \n",
      "\n",
      "                            address  attributes.RestaurantsPriceRange2  \\\n",
      "0             3049 S Las Vegas Blvd                                2.0   \n",
      "1                 4140 S Durango Dr                                1.0   \n",
      "2    MGM Grand, 3799 Las Vegas Blvd                                2.0   \n",
      "3             3950 Las Vegas Blvd S                                3.0   \n",
      "4            3000 W Ann Rd, Ste 109                                2.0   \n",
      "5  4300 Spring Mountain Rd, Ste 116                                1.0   \n",
      "6    3708 Las Vegas Blvd S, Level 3                                3.0   \n",
      "7               832 S Greenfield Rd                                2.0   \n",
      "8           884 W Warner Rd, Ste B4                                2.0   \n",
      "9                   401 W Van Buren                                2.0   \n",
      "\n",
      "                                             cuisine  \\\n",
      "0                                             indian   \n",
      "1  burgers, chicken wings, american (traditional)...   \n",
      "2                                            mexican   \n",
      "3                               sushi bars, japanese   \n",
      "4                                               thai   \n",
      "5                              chinese, asian fusion   \n",
      "6                                     seafood, greek   \n",
      "7                pizza, seafood, italian, sandwiches   \n",
      "8         sushi bars, asian fusion, korean, japanese   \n",
      "9                                                NaN   \n",
      "\n",
      "                          style  review_count  stars  adjusted_score  \n",
      "0                   restaurants           290    3.5        3.516062  \n",
      "1                   restaurants           135    4.0        3.961855  \n",
      "2                   restaurants           156    3.0        3.089951  \n",
      "3                   restaurants           392    3.5        3.512104  \n",
      "4                   restaurants           339    4.0        3.983411  \n",
      "5            delis, restaurants           277    3.5        3.516760  \n",
      "6                   restaurants          1014    4.0        3.994219  \n",
      "7  bars, restaurants, nightlife           232    3.5        3.519729  \n",
      "8                   restaurants           291    4.5        4.445723  \n",
      "9       music venues, nightlife           145    4.0        3.964139  \n",
      "CPU times: user 1.47 s, sys: 356 ms, total: 1.83 s\n",
      "Wall time: 1.74 s\n"
     ]
    }
   ],
   "source": [
    "%%time\n",
    "\n",
    "# test 5: valid user id (user has over 100 reviews)\n",
    "print(\"------\\nresult from test5 (valid user id --- user has over 100 reviews): \")\n",
    "kw.collaborative(user_id='---1lKK3aKOuomHnwAkAow');"
   ]
  },
  {
   "cell_type": "markdown",
   "metadata": {},
   "source": [
    "As shown, even for users with more review history where the module needs to filter and remove all the rated restaurants from the recommendation list, it only takes 2 seconds to return the personalized recommendation rank. Thanks to the rich personal preference history, the recommendation is really personalized. As in this case, it seems to suggest that the user prefers restaurants with a rich number of reviews (popular restaurants), reasonable to good ratings (3.5-4.5) and near the Las Vegas and Arizona area. Different from content-based module, recommendation by the collaborative module features quite a variety of cuisines. "
   ]
  }
 ],
 "metadata": {
  "kernelspec": {
   "display_name": "Python 3",
   "language": "python",
   "name": "python3"
  },
  "language_info": {
   "codemirror_mode": {
    "name": "ipython",
    "version": 3
   },
   "file_extension": ".py",
   "mimetype": "text/x-python",
   "name": "python",
   "nbconvert_exporter": "python",
   "pygments_lexer": "ipython3",
   "version": "3.6.5"
  }
 },
 "nbformat": 4,
 "nbformat_minor": 2
}
