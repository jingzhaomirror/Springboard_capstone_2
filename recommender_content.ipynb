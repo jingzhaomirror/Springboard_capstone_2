{
 "cells": [
  {
   "cell_type": "markdown",
   "metadata": {},
   "source": [
    "**Recommender system - personalized content-based module:**<br>\n",
    "\n",
    "With user ID and restaurant’s metadata and restaurant reviews, build a content based filtering recommender module that recommends restaurants that are similar to user’s preference inferred from user’s past ratings. More specifically, pairwise similarity scores will be computed for restaurants based on their vectorized feature representation extracted using CountVectorizer or TfidfVectorizer and recommend restaurants based on rankings of the weighted similarity score (e.g. cosine similarity). The important restaurant metadata to consider include categories, attributes, location.<br>\n",
    "\n",
    "**Metrics chosen for evaluating the cosine-similarity ranking:**<br>\n",
    "NDCG (Normalized Discounted Cumulative Gain), which works well with relevance scores in the form of real numbers (binary, integar or float), in this case, review ratings of 1-5, is chosen over MAP (Mean average precision), which assumes only binary relevance (interesting or not, click or not). \n",
    "\n",
    "**Note:**<br> \n",
    "Only a subset of Yelp restaurants from a few selected states are available in this dataset. Among them, only Arizona, Nevada, Ohio, North Carolina and Pennsylvania have a rich catalog of over 5000 restaurants. \n",
    "Only the top two states, Arizona and Nevada have over 10000 restaurants. "
   ]
  },
  {
   "cell_type": "code",
   "execution_count": 1,
   "metadata": {},
   "outputs": [
    {
     "name": "stderr",
     "output_type": "stream",
     "text": [
      "/anaconda3/lib/python3.6/importlib/_bootstrap.py:219: RuntimeWarning: numpy.dtype size changed, may indicate binary incompatibility. Expected 96, got 88\n",
      "  return f(*args, **kwds)\n",
      "/anaconda3/lib/python3.6/importlib/_bootstrap.py:219: RuntimeWarning: numpy.dtype size changed, may indicate binary incompatibility. Expected 96, got 88\n",
      "  return f(*args, **kwds)\n"
     ]
    }
   ],
   "source": [
    "import pandas as pd\n",
    "import numpy as np\n",
    "%matplotlib inline\n",
    "import matplotlib.pyplot as plt\n",
    "\n",
    "business = pd.read_csv('business_clean.csv')  # contains business data including location data, attributes and categories\n",
    "#user = pd.read_csv('user_clean.csv') # contains users data including the user's friend mapping and all the metadata associated with the user\n",
    "review = pd.read_csv('review_clean.csv') # contains full review text data including the user_id that wrote the review and the business_id the review is written for\n",
    "#tip = pd.read_csv('tip_clean.csv') # tips written by a user on a business, tips are shorter than reviews and tend to convey quick suggestions\n",
    "#checkin = pd.read_csv('checkin_clean.csv') # checkins on a business"
   ]
  },
  {
   "cell_type": "markdown",
   "metadata": {},
   "source": [
    "# 1. Adjusted rating"
   ]
  },
  {
   "cell_type": "markdown",
   "metadata": {},
   "source": [
    "Here, a single metric is introduced as a substitute of the original average restaurant rating ('stars' column of the business dataframe). Ideally, the new metric should take into consideration: <br>\n",
    "1) average rating of the restaurant (indicates the goodness of the restaurant, but does not consider popularity) <br>\n",
    "2) # of ratings by users (indicates popularity, but does not imply the goodness of the restaurant) <br>\n",
    "3) age of the rating (indicates the relevance of the rating, as outdated ratings might fail to indicate the actual quality)<br>\n",
    "\n",
    "The proposed new score is: \n",
    "$$score_i = \\frac{\\sum_u r_{ui} + k*\\mu}{n_i+k}$$\n",
    "\n",
    "where $r_ui$ is the rating on item i by user u, $n_i$ is the number of rating on item i, $\\mu$ is the global mean of ratings over all businesses and all users and k is the strength of the damping term.\n",
    "\n",
    "As the equation shows, the adjusted score uses the mechanism of the damped mean to regulate the extreme cases of having only a few extreme ratings. k controls the strength of the damping effect: the larger k is, the more actual ratings are required to overcome the global mean.\n",
    "\n",
    "In this case, k is set to 4 (which is the 10% quantile of the review counts for all businesses), but it can be tuned according to various business considerations.  \n",
    "\n",
    "Note:<br> \n",
    "Here, the age of the rating is not adjusted in the current version of the proposed metric. This is because 90% of the reviews/ratings are from year 2011 and later, and are considered quite relevant. Therefore, the need of adjusting for the age of the ratings is not strong."
   ]
  },
  {
   "cell_type": "code",
   "execution_count": 2,
   "metadata": {},
   "outputs": [
    {
     "name": "stdout",
     "output_type": "stream",
     "text": [
      "global mean rating is: 3.7277814701620127\n"
     ]
    }
   ],
   "source": [
    "# compute globe mean ratings of all businesses and all reviews\n",
    "globe_mean = ((business.stars * business.review_count).sum())/(business.review_count.sum())\n",
    "print(\"global mean rating is:\", globe_mean)"
   ]
  },
  {
   "cell_type": "code",
   "execution_count": 3,
   "metadata": {},
   "outputs": [
    {
     "name": "stdout",
     "output_type": "stream",
     "text": [
      "0.10      4.0\n",
      "0.25      8.0\n",
      "0.50     22.0\n",
      "0.75     66.0\n",
      "0.90    172.0\n",
      "Name: review_count, dtype: float64\n",
      "\n",
      "rank by the adjusted score in descending order:\n",
      "       review_count  stars  adjusted_score\n",
      "7464           1746    5.0        4.984169\n",
      "31910          1380    5.0        4.980037\n",
      "45401           547    5.0        4.950811\n",
      "7784            520    5.0        4.948360\n",
      "28162           472    5.0        4.943342\n",
      "\n",
      "rank by the original score in descending order:\n",
      "       review_count  stars  adjusted_score\n",
      "22115             7    5.0        4.034869\n",
      "23114             5    5.0        3.963377\n",
      "42990             5    5.0        3.963377\n",
      "42989            16    5.0        4.263452\n",
      "12778             3    5.0        3.880448\n",
      "\n",
      "rank by the least number of reviews:\n",
      "       review_count  stars  adjusted_score\n",
      "0                 3    4.5        3.820448\n",
      "5707              3    4.0        3.760448\n",
      "16594             3    4.0        3.760448\n",
      "5699              3    3.5        3.700448\n",
      "16605             3    3.5        3.700448\n"
     ]
    }
   ],
   "source": [
    "print(business.review_count.quantile([0.1,0.25,0.5,0.75,0.9]))\n",
    "k = 22 # set strength k to 22, which is the 50% quantile of the review counts for all businesses\n",
    "business['adjusted_score'] = (business.review_count * business.stars + k * globe_mean)/(business.review_count + k)\n",
    "print(\"\\nrank by the adjusted score in descending order:\")\n",
    "print(business[['review_count','stars','adjusted_score']].sort_values('adjusted_score', ascending=False).head(5))\n",
    "print(\"\\nrank by the original score in descending order:\")\n",
    "print(business[['review_count','stars','adjusted_score']].sort_values('stars', ascending=False).head(5))\n",
    "print(\"\\nrank by the least number of reviews:\")\n",
    "print(business[['review_count','stars','adjusted_score']].sort_values('review_count', ascending=True).head(5))"
   ]
  },
  {
   "cell_type": "markdown",
   "metadata": {},
   "source": [
    "# 2. Train-test-split"
   ]
  },
  {
   "cell_type": "markdown",
   "metadata": {},
   "source": [
    "## 2.1 extract subset of 'review' dataframe for reviews related to restaurant businesses"
   ]
  },
  {
   "cell_type": "code",
   "execution_count": 4,
   "metadata": {},
   "outputs": [
    {
     "name": "stdout",
     "output_type": "stream",
     "text": [
      "5996995 3469589\n",
      "CPU times: user 4.3 s, sys: 12.5 s, total: 16.8 s\n",
      "Wall time: 23.3 s\n"
     ]
    }
   ],
   "source": [
    "%%time\n",
    "\n",
    "# extract a subset of reviews related to the restaurant business of our interest\n",
    "review_s = review[review.business_id.isin(business.business_id.unique())].reset_index(drop=True)\n",
    "print(len(review), len(review_s))"
   ]
  },
  {
   "cell_type": "markdown",
   "metadata": {},
   "source": [
    "note: this reduces the number of the review records in the 'review' dataframe from 5,996,995 down to 3,469,589. "
   ]
  },
  {
   "cell_type": "markdown",
   "metadata": {},
   "source": [
    "## 2.2 Initialize with a random train-test-split"
   ]
  },
  {
   "cell_type": "code",
   "execution_count": 5,
   "metadata": {},
   "outputs": [
    {
     "name": "stdout",
     "output_type": "stream",
     "text": [
      "CPU times: user 6.03 s, sys: 6.48 s, total: 12.5 s\n",
      "Wall time: 15.7 s\n"
     ]
    }
   ],
   "source": [
    "%%time\n",
    "\n",
    "# shuffle the index of review_s for random split\n",
    "np.random.seed(42)\n",
    "idx = np.array(review_s.index, dtype='int')\n",
    "np.random.shuffle(idx)\n",
    "\n",
    "# start with a train-test-split by 87%-13% ratio\n",
    "train = review_s.loc[idx[:int(0.87*len(idx))]]\n",
    "test = review_s.loc[idx[int(0.87*len(idx)):]]"
   ]
  },
  {
   "cell_type": "code",
   "execution_count": 6,
   "metadata": {},
   "outputs": [
    {
     "data": {
      "text/plain": [
       "6.692300358942638"
      ]
     },
     "execution_count": 6,
     "metadata": {},
     "output_type": "execute_result"
    }
   ],
   "source": [
    "len(train)/len(test)"
   ]
  },
  {
   "cell_type": "markdown",
   "metadata": {},
   "source": [
    "## 2.3 Move reviews of user_id that only exists in testset back to trainset"
   ]
  },
  {
   "cell_type": "code",
   "execution_count": 7,
   "metadata": {},
   "outputs": [
    {
     "name": "stdout",
     "output_type": "stream",
     "text": [
      "CPU times: user 5.52 s, sys: 10.1 s, total: 15.7 s\n",
      "Wall time: 20.1 s\n"
     ]
    }
   ],
   "source": [
    "%%time\n",
    "# add one review of user_id that only exists in testset back to trainset\n",
    "\n",
    "# determine the idx to move from testset to trainset\n",
    "user_test_only = test[~test.user_id.isin(train.user_id.unique())] # filter testset to reviews by user_id only exists in the testset\n",
    "user_idx_toadd = user_test_only['user_id'].drop_duplicates().index # extract the index of the reviews to add back to the trainset\n",
    "\n",
    "# update the new list of indices for the trainset and testset\n",
    "idx_train = train.index.union(user_idx_toadd)\n",
    "idx_test = review_s.index.difference(idx_train)\n",
    "\n",
    "# update trainset and testset\n",
    "train = review_s.loc[idx_train]\n",
    "test = review_s.loc[idx_test]"
   ]
  },
  {
   "cell_type": "code",
   "execution_count": 8,
   "metadata": {},
   "outputs": [
    {
     "data": {
      "text/plain": [
       "8.206157446593982"
      ]
     },
     "execution_count": 8,
     "metadata": {},
     "output_type": "execute_result"
    }
   ],
   "source": [
    "len(train)/len(test)"
   ]
  },
  {
   "cell_type": "markdown",
   "metadata": {},
   "source": [
    "## 2.4 Move reviews of business_id that only exists in testset back to trainset"
   ]
  },
  {
   "cell_type": "code",
   "execution_count": 9,
   "metadata": {},
   "outputs": [
    {
     "name": "stdout",
     "output_type": "stream",
     "text": [
      "CPU times: user 3.72 s, sys: 8.06 s, total: 11.8 s\n",
      "Wall time: 15.6 s\n"
     ]
    }
   ],
   "source": [
    "%%time\n",
    "# add at least one review of business_id that only exists in testset back to trainset\n",
    "\n",
    "# determine the idx to move from testset to trainset\n",
    "rest_test_only = test[~test.business_id.isin(train.business_id.unique())] # filter testset to reviews by user_id only exists in the testset\n",
    "rest_idx_toadd = rest_test_only['business_id'].drop_duplicates().index # extract the index of the reviews to add back to the trainset\n",
    "\n",
    "# update the new list of indices for the trainset and testset\n",
    "idx_train = train.index.union(rest_idx_toadd)\n",
    "idx_test = review_s.index.difference(idx_train)\n",
    "\n",
    "# update trainset and testset\n",
    "train = review_s.loc[idx_train]\n",
    "test = review_s.loc[idx_test]"
   ]
  },
  {
   "cell_type": "code",
   "execution_count": 10,
   "metadata": {},
   "outputs": [
    {
     "name": "stdout",
     "output_type": "stream",
     "text": [
      "final train/test ratio: 8.20627958564181\n"
     ]
    }
   ],
   "source": [
    "assert (len(train) + len(test)) == len(review_s)\n",
    "# calculate train vs test sample ratio\n",
    "print('final train/test ratio:', len(train)/len(test))"
   ]
  },
  {
   "cell_type": "markdown",
   "metadata": {},
   "source": [
    "As shown, the final trainset vs. testset ratio is 8.2063, corresponding to a 89%-11% train-set split. "
   ]
  },
  {
   "cell_type": "markdown",
   "metadata": {},
   "source": [
    "# 3. Building restaurant feature space from restaurant reviews"
   ]
  },
  {
   "cell_type": "markdown",
   "metadata": {},
   "source": [
    "## 3.1 combine reviews for each restaurants"
   ]
  },
  {
   "cell_type": "code",
   "execution_count": 11,
   "metadata": {},
   "outputs": [
    {
     "name": "stdout",
     "output_type": "stream",
     "text": [
      "CPU times: user 9.85 s, sys: 35.1 s, total: 44.9 s\n",
      "Wall time: 1min 16s\n"
     ]
    }
   ],
   "source": [
    "%%time\n",
    "\n",
    "# groupby business_id and concatenate all reviews of the same business together, reviews are separated by '###'\n",
    "rev_by_rest = train.groupby('business_id').agg({'review_id': 'count', 'text': lambda i: '###'.join(i)}).rename(columns={'review_id':'review_count','text':'review_combined'})\n",
    "rev_by_rest = rev_by_rest.reset_index()"
   ]
  },
  {
   "cell_type": "code",
   "execution_count": 12,
   "metadata": {},
   "outputs": [],
   "source": [
    "# %%time\n",
    "# this is for training on the entire 'review_s' dataset\n",
    "# # groupby business_id and concatenate all reviews of the same business together, reviews are separated by '###'\n",
    "# rev_by_rest = review_s.groupby('business_id').agg({'review_id': 'count', 'text': lambda i: '###'.join(i)}).rename(columns={'review_id':'review_count','text':'review_combined'})\n",
    "# rev_by_rest = rev_by_rest.reset_index()"
   ]
  },
  {
   "cell_type": "code",
   "execution_count": 13,
   "metadata": {},
   "outputs": [
    {
     "name": "stdout",
     "output_type": "stream",
     "text": [
      "<class 'pandas.core.frame.DataFrame'>\n",
      "RangeIndex: 47553 entries, 0 to 47552\n",
      "Data columns (total 3 columns):\n",
      "business_id        47553 non-null object\n",
      "review_count       47553 non-null int64\n",
      "review_combined    47553 non-null object\n",
      "dtypes: int64(1), object(2)\n",
      "memory usage: 1.1+ MB\n",
      "None\n",
      "              business_id  review_count  \\\n",
      "0  --7zmmkVg-IMGaXbuVd0SQ            47   \n",
      "\n",
      "                                     review_combined  \n",
      "0  Great beer, great place, excellent service fro...  \n"
     ]
    }
   ],
   "source": [
    "print(rev_by_rest.info())\n",
    "print(rev_by_rest.head(1))"
   ]
  },
  {
   "cell_type": "markdown",
   "metadata": {},
   "source": [
    "## 3.2 Tfidf to extract top features from reviews"
   ]
  },
  {
   "cell_type": "code",
   "execution_count": 14,
   "metadata": {},
   "outputs": [
    {
     "name": "stderr",
     "output_type": "stream",
     "text": [
      "/anaconda3/lib/python3.6/importlib/_bootstrap.py:219: RuntimeWarning: numpy.dtype size changed, may indicate binary incompatibility. Expected 96, got 88\n",
      "  return f(*args, **kwds)\n",
      "/anaconda3/lib/python3.6/importlib/_bootstrap.py:219: RuntimeWarning: numpy.dtype size changed, may indicate binary incompatibility. Expected 96, got 88\n",
      "  return f(*args, **kwds)\n",
      "/anaconda3/lib/python3.6/importlib/_bootstrap.py:219: RuntimeWarning: numpy.dtype size changed, may indicate binary incompatibility. Expected 96, got 88\n",
      "  return f(*args, **kwds)\n",
      "/anaconda3/lib/python3.6/importlib/_bootstrap.py:219: RuntimeWarning: numpy.dtype size changed, may indicate binary incompatibility. Expected 96, got 88\n",
      "  return f(*args, **kwds)\n"
     ]
    }
   ],
   "source": [
    "from sklearn.feature_extraction.text import TfidfVectorizer"
   ]
  },
  {
   "cell_type": "code",
   "execution_count": 15,
   "metadata": {},
   "outputs": [
    {
     "name": "stdout",
     "output_type": "stream",
     "text": [
      "['00', '10', '10 minutes', '100', '11', '12', '15', '15 minutes', '20', '20 minutes', '25', '30', '30 minutes', '40', '45', '50', '99', 'able', 'absolutely', 'actually', 'add', 'added', 'addition', 'afternoon', 'ago', 'ahead', 'airport', 'amazing', 'ambiance', 'american', 'apparently', 'appetizer', 'appetizers', 'area', 'aren', 'arrived', 'asada', 'asian', 'ask', 'asked', 'asking', 'ate', 'atmosphere', 'attention', 'attentive', 'attitude', 'authentic', 'available', 'average', 'avocado']\n",
      "(47553, 1000)\n",
      "CPU times: user 8min 43s, sys: 51.9 s, total: 9min 35s\n",
      "Wall time: 10min 8s\n"
     ]
    }
   ],
   "source": [
    "%%time\n",
    "\n",
    "vectorizer = TfidfVectorizer(stop_words='english', ngram_range=(1, 2), max_features=1000) # limit to top 1000 words\n",
    "X = vectorizer.fit_transform(rev_by_rest.review_combined)\n",
    "print(vectorizer.get_feature_names()[:50])\n",
    "print(X.shape)"
   ]
  },
  {
   "cell_type": "code",
   "execution_count": 16,
   "metadata": {},
   "outputs": [],
   "source": [
    "rest_revfeature = pd.SparseDataFrame(X)\n",
    "rest_revfeature = rest_revfeature.set_index(rev_by_rest.business_id)\n",
    "rest_revfeature.columns = vectorizer.get_feature_names()\n",
    "rest_revfeature = rest_revfeature.fillna(0) # fill in missing values with 0 to use PCA"
   ]
  },
  {
   "cell_type": "code",
   "execution_count": 17,
   "metadata": {},
   "outputs": [
    {
     "name": "stdout",
     "output_type": "stream",
     "text": [
      "10 minutes\n",
      "15 minutes\n",
      "20 minutes\n",
      "30 minutes\n",
      "best ve\n",
      "customer service\n",
      "definitely recommend\n",
      "don know\n",
      "don think\n",
      "fast food\n",
      "feel like\n",
      "felt like\n",
      "food amazing\n",
      "food came\n",
      "food delicious\n",
      "food good\n",
      "food great\n",
      "food just\n",
      "food service\n",
      "fried chicken\n",
      "fried rice\n",
      "friendly staff\n",
      "good food\n",
      "good place\n",
      "good service\n",
      "great food\n",
      "great place\n",
      "great service\n",
      "happy hour\n",
      "highly recommend\n",
      "ice cream\n",
      "just right\n",
      "las vegas\n",
      "little bit\n",
      "long time\n",
      "looked like\n",
      "love place\n",
      "mac cheese\n",
      "make sure\n",
      "mexican food\n",
      "place great\n",
      "pretty good\n",
      "quality food\n",
      "really enjoyed\n",
      "really good\n",
      "really nice\n",
      "recommend place\n",
      "right away\n",
      "service excellent\n",
      "service food\n",
      "service good\n",
      "service great\n",
      "staff friendly\n",
      "super friendly\n",
      "tasted like\n",
      "try place\n",
      "ve tried\n",
      "wait staff\n"
     ]
    }
   ],
   "source": [
    "# look at the bigrams being picked up in the top 1000 features\n",
    "for i in rest_revfeature.columns:\n",
    "    if len(i.split())>1:\n",
    "        print(i)"
   ]
  },
  {
   "cell_type": "markdown",
   "metadata": {},
   "source": [
    "## 3.3 feature reduction with PCA"
   ]
  },
  {
   "cell_type": "code",
   "execution_count": 18,
   "metadata": {},
   "outputs": [
    {
     "name": "stderr",
     "output_type": "stream",
     "text": [
      "/anaconda3/lib/python3.6/importlib/_bootstrap.py:219: RuntimeWarning: numpy.dtype size changed, may indicate binary incompatibility. Expected 96, got 88\n",
      "  return f(*args, **kwds)\n"
     ]
    }
   ],
   "source": [
    "# feature selection\n",
    "from sklearn.decomposition import PCA\n",
    "\n",
    "pca = PCA()\n",
    "rest_pcafeature = pca.fit_transform(rest_revfeature)\n",
    "vr = pca.explained_variance_ratio_"
   ]
  },
  {
   "cell_type": "code",
   "execution_count": 19,
   "metadata": {},
   "outputs": [
    {
     "data": {
      "image/png": "[encoded data removed]",
      "text/plain": [
       "<Figure size 432x288 with 1 Axes>"
      ]
     },
     "metadata": {},
     "output_type": "display_data"
    }
   ],
   "source": [
    "# compute cumulative explained variance ratio\n",
    "vr_cum = [sum(vr[:i+1]) for i in range(len(vr))]\n",
    "# plot explained variance ratio vs the number of PCA components\n",
    "plt.plot(list(range(len(vr))),vr_cum, color='blue'); "
   ]
  },
  {
   "cell_type": "markdown",
   "metadata": {},
   "source": [
    "As shown, the first 300 PCA components are responsible for the 80% of the variation. Therefore, the first 300 components will be kept as the restaurant features and the rest less relevant components will be dropped. "
   ]
  },
  {
   "cell_type": "code",
   "execution_count": 20,
   "metadata": {
    "scrolled": false
   },
   "outputs": [
    {
     "name": "stdout",
     "output_type": "stream",
     "text": [
      "principle component #0:\n",
      " pizza       0.750790\n",
      "crust       0.106085\n",
      "pizzas      0.081179\n",
      "delivery    0.077048\n",
      "toppings    0.045206\n",
      "Name: 0, dtype: float64\n",
      "principle component #1:\n",
      " pizza      0.537485\n",
      "food       0.374550\n",
      "good       0.184521\n",
      "chicken    0.169766\n",
      "ordered    0.134355\n",
      "Name: 1, dtype: float64\n",
      "principle component #2:\n",
      " bar       0.439833\n",
      "beer      0.216703\n",
      "great     0.168844\n",
      "drinks    0.168225\n",
      "night     0.152813\n",
      "Name: 2, dtype: float64\n",
      "principle component #3:\n",
      " coffee       0.343310\n",
      "sandwich     0.255072\n",
      "order        0.199278\n",
      "breakfast    0.185238\n",
      "location     0.178457\n",
      "Name: 3, dtype: float64\n",
      "principle component #4:\n",
      " hotel    0.384352\n",
      "room     0.335998\n",
      "rooms    0.193565\n",
      "stay     0.182034\n",
      "desk     0.155869\n",
      "Name: 4, dtype: float64\n",
      "principle component #5:\n",
      " tacos      0.350580\n",
      "mexican    0.284093\n",
      "taco       0.267722\n",
      "burrito    0.220602\n",
      "salsa      0.211116\n",
      "Name: 5, dtype: float64\n",
      "principle component #6:\n",
      " coffee       0.498896\n",
      "breakfast    0.237049\n",
      "mexican      0.193652\n",
      "tacos        0.169988\n",
      "salsa        0.136427\n",
      "Name: 6, dtype: float64\n",
      "principle component #7:\n",
      " ice cream    0.298819\n",
      "ice          0.263988\n",
      "cream        0.255111\n",
      "sandwich     0.134278\n",
      "hotel        0.127954\n",
      "Name: 7, dtype: float64\n",
      "principle component #8:\n",
      " ice cream    0.354574\n",
      "ice          0.338262\n",
      "cream        0.307529\n",
      "sushi        0.284077\n",
      "service      0.145254\n",
      "Name: 8, dtype: float64\n",
      "principle component #9:\n",
      " sushi         0.387400\n",
      "sandwich      0.345523\n",
      "bread         0.179009\n",
      "sandwiches    0.168693\n",
      "sub           0.136489\n",
      "Name: 9, dtype: float64\n"
     ]
    }
   ],
   "source": [
    "# extract all PCA components \n",
    "components = pd.DataFrame(data=pca.components_, columns = rest_revfeature.columns)\n",
    "\n",
    "# inspect the top 10 PCA components, in relationship to the original review features\n",
    "for i in range(10):\n",
    "    component = components.loc[i].sort_values(ascending=False)\n",
    "    print(\"principle component #{}:\\n\".format(i), component[:5])"
   ]
  },
  {
   "cell_type": "code",
   "execution_count": 21,
   "metadata": {},
   "outputs": [],
   "source": [
    "rest_pcafeature = pd.DataFrame(rest_pcafeature[:,:300], index=rest_revfeature.index, columns=[str(i) for i in np.arange(1,301)])\n",
    "rest_pcafeature.columns.name = 'pca_components'"
   ]
  },
  {
   "cell_type": "code",
   "execution_count": 22,
   "metadata": {
    "scrolled": true
   },
   "outputs": [],
   "source": [
    "# rescale rest_pcafeature coefficients so all restaurant feature vectors share the same unit length of 1\n",
    "rest_pcafeature['root_squared_sum'] = rest_pcafeature.apply(lambda row: np.sqrt(sum([i*i for i in row])), axis=1)\n",
    "rest_pcafeature = rest_pcafeature.drop('root_squared_sum',axis=1).divide(rest_pcafeature.root_squared_sum, axis=0)"
   ]
  },
  {
   "cell_type": "code",
   "execution_count": 23,
   "metadata": {},
   "outputs": [
    {
     "data": {
      "text/html": [
       "<div>\n",
       "<style scoped>\n",
       "    .dataframe tbody tr th:only-of-type {\n",
       "        vertical-align: middle;\n",
       "    }\n",
       "\n",
       "    .dataframe tbody tr th {\n",
       "        vertical-align: top;\n",
       "    }\n",
       "\n",
       "    .dataframe thead th {\n",
       "        text-align: right;\n",
       "    }\n",
       "</style>\n",
       "<table border=\"1\" class=\"dataframe\">\n",
       "  <thead>\n",
       "    <tr style=\"text-align: right;\">\n",
       "      <th>pca_components</th>\n",
       "      <th>1</th>\n",
       "      <th>2</th>\n",
       "      <th>3</th>\n",
       "      <th>4</th>\n",
       "      <th>5</th>\n",
       "      <th>6</th>\n",
       "      <th>7</th>\n",
       "      <th>8</th>\n",
       "      <th>9</th>\n",
       "      <th>10</th>\n",
       "      <th>...</th>\n",
       "      <th>291</th>\n",
       "      <th>292</th>\n",
       "      <th>293</th>\n",
       "      <th>294</th>\n",
       "      <th>295</th>\n",
       "      <th>296</th>\n",
       "      <th>297</th>\n",
       "      <th>298</th>\n",
       "      <th>299</th>\n",
       "      <th>300</th>\n",
       "    </tr>\n",
       "    <tr>\n",
       "      <th>business_id</th>\n",
       "      <th></th>\n",
       "      <th></th>\n",
       "      <th></th>\n",
       "      <th></th>\n",
       "      <th></th>\n",
       "      <th></th>\n",
       "      <th></th>\n",
       "      <th></th>\n",
       "      <th></th>\n",
       "      <th></th>\n",
       "      <th></th>\n",
       "      <th></th>\n",
       "      <th></th>\n",
       "      <th></th>\n",
       "      <th></th>\n",
       "      <th></th>\n",
       "      <th></th>\n",
       "      <th></th>\n",
       "      <th></th>\n",
       "      <th></th>\n",
       "      <th></th>\n",
       "    </tr>\n",
       "  </thead>\n",
       "  <tbody>\n",
       "    <tr>\n",
       "      <th>--7zmmkVg-IMGaXbuVd0SQ</th>\n",
       "      <td>-0.059117</td>\n",
       "      <td>-0.105398</td>\n",
       "      <td>0.422339</td>\n",
       "      <td>-0.163535</td>\n",
       "      <td>-0.150402</td>\n",
       "      <td>0.154040</td>\n",
       "      <td>-0.049404</td>\n",
       "      <td>-0.074484</td>\n",
       "      <td>-0.119477</td>\n",
       "      <td>-0.036121</td>\n",
       "      <td>...</td>\n",
       "      <td>0.001167</td>\n",
       "      <td>0.012947</td>\n",
       "      <td>-0.003036</td>\n",
       "      <td>0.007732</td>\n",
       "      <td>0.030837</td>\n",
       "      <td>0.013390</td>\n",
       "      <td>0.017888</td>\n",
       "      <td>0.001863</td>\n",
       "      <td>0.008954</td>\n",
       "      <td>-0.018501</td>\n",
       "    </tr>\n",
       "    <tr>\n",
       "      <th>--9e1ONYQuAa-CB_Rrw7Tw</th>\n",
       "      <td>-0.253481</td>\n",
       "      <td>0.189959</td>\n",
       "      <td>0.154282</td>\n",
       "      <td>-0.046448</td>\n",
       "      <td>-0.096910</td>\n",
       "      <td>-0.162727</td>\n",
       "      <td>0.100155</td>\n",
       "      <td>0.234075</td>\n",
       "      <td>0.187176</td>\n",
       "      <td>0.115527</td>\n",
       "      <td>...</td>\n",
       "      <td>0.008941</td>\n",
       "      <td>0.002228</td>\n",
       "      <td>0.016030</td>\n",
       "      <td>-0.005315</td>\n",
       "      <td>-0.000960</td>\n",
       "      <td>0.005053</td>\n",
       "      <td>-0.014484</td>\n",
       "      <td>0.009511</td>\n",
       "      <td>-0.013295</td>\n",
       "      <td>-0.006675</td>\n",
       "    </tr>\n",
       "  </tbody>\n",
       "</table>\n",
       "<p>2 rows × 300 columns</p>\n",
       "</div>"
      ],
      "text/plain": [
       "pca_components                 1         2         3         4         5  \\\n",
       "business_id                                                                \n",
       "--7zmmkVg-IMGaXbuVd0SQ -0.059117 -0.105398  0.422339 -0.163535 -0.150402   \n",
       "--9e1ONYQuAa-CB_Rrw7Tw -0.253481  0.189959  0.154282 -0.046448 -0.096910   \n",
       "\n",
       "pca_components                 6         7         8         9        10  \\\n",
       "business_id                                                                \n",
       "--7zmmkVg-IMGaXbuVd0SQ  0.154040 -0.049404 -0.074484 -0.119477 -0.036121   \n",
       "--9e1ONYQuAa-CB_Rrw7Tw -0.162727  0.100155  0.234075  0.187176  0.115527   \n",
       "\n",
       "pca_components            ...          291       292       293       294  \\\n",
       "business_id               ...                                              \n",
       "--7zmmkVg-IMGaXbuVd0SQ    ...     0.001167  0.012947 -0.003036  0.007732   \n",
       "--9e1ONYQuAa-CB_Rrw7Tw    ...     0.008941  0.002228  0.016030 -0.005315   \n",
       "\n",
       "pca_components               295       296       297       298       299  \\\n",
       "business_id                                                                \n",
       "--7zmmkVg-IMGaXbuVd0SQ  0.030837  0.013390  0.017888  0.001863  0.008954   \n",
       "--9e1ONYQuAa-CB_Rrw7Tw -0.000960  0.005053 -0.014484  0.009511 -0.013295   \n",
       "\n",
       "pca_components               300  \n",
       "business_id                       \n",
       "--7zmmkVg-IMGaXbuVd0SQ -0.018501  \n",
       "--9e1ONYQuAa-CB_Rrw7Tw -0.006675  \n",
       "\n",
       "[2 rows x 300 columns]"
      ]
     },
     "execution_count": 23,
     "metadata": {},
     "output_type": "execute_result"
    }
   ],
   "source": [
    "rest_pcafeature.head(2)"
   ]
  },
  {
   "cell_type": "markdown",
   "metadata": {},
   "source": [
    "## 3.4 compute user feature vector"
   ]
  },
  {
   "cell_type": "code",
   "execution_count": 24,
   "metadata": {},
   "outputs": [
    {
     "name": "stdout",
     "output_type": "stream",
     "text": [
      "CPU times: user 9.87 s, sys: 18.3 s, total: 28.2 s\n",
      "Wall time: 39 s\n"
     ]
    }
   ],
   "source": [
    "%%time\n",
    "\n",
    "# build user preference profile by compute a weighted sum of the restaurant vectors for all rated items by the user, with weights being the user’s rating\n",
    "user_pcafeature = pd.merge(train[['user_id','business_id','stars']], rest_pcafeature, how='inner',left_on='business_id',right_index=True).drop('business_id', axis=1)"
   ]
  },
  {
   "cell_type": "code",
   "execution_count": 25,
   "metadata": {},
   "outputs": [],
   "source": [
    "# %%time\n",
    "# this is for training on entire 'review_s' dataset\n",
    "# # build user preference profile by compute a weighted sum of the restaurant vectors for all rated items by the user, with weights being the user’s rating\n",
    "# user_pcafeature = pd.merge(review_s[['user_id','business_id','stars']], rest_pcafeature, how='inner',left_on='business_id',right_index=True).drop('business_id', axis=1)"
   ]
  },
  {
   "cell_type": "code",
   "execution_count": 26,
   "metadata": {},
   "outputs": [
    {
     "name": "stdout",
     "output_type": "stream",
     "text": [
      "CPU times: user 18.4 s, sys: 57.3 s, total: 1min 15s\n",
      "Wall time: 1min 41s\n"
     ]
    }
   ],
   "source": [
    "%%time\n",
    "\n",
    "# rescale component coefficients by the review rating as the correpsonding weight\n",
    "user_pcafeature.loc[:, '1':'300'] = user_pcafeature.loc[:,'1':'300'].multiply(user_pcafeature.stars, axis=0)"
   ]
  },
  {
   "cell_type": "code",
   "execution_count": 27,
   "metadata": {},
   "outputs": [
    {
     "name": "stdout",
     "output_type": "stream",
     "text": [
      "CPU times: user 50.4 s, sys: 3min 52s, total: 4min 43s\n",
      "Wall time: 12min 5s\n"
     ]
    }
   ],
   "source": [
    "%%time\n",
    "\n",
    "# sum up all component coefficients by user_id\n",
    "user_pcafeature = user_pcafeature.drop('stars', axis=1).groupby('user_id').sum()\n",
    "user_pcafeature.head(2)"
   ]
  },
  {
   "cell_type": "code",
   "execution_count": 28,
   "metadata": {},
   "outputs": [
    {
     "name": "stdout",
     "output_type": "stream",
     "text": [
      "CPU times: user 53.3 s, sys: 20.8 s, total: 1min 14s\n",
      "Wall time: 1min 34s\n"
     ]
    }
   ],
   "source": [
    "%%time\n",
    "\n",
    "# rescale user_pcafeature coefficients so all user feature vectors share the same unit length of 1\n",
    "user_pcafeature['root_squared_sum'] = user_pcafeature.apply(lambda row: np.sqrt(sum([i*i for i in row])), axis=1)\n",
    "user_pcafeature = user_pcafeature.drop('root_squared_sum', axis=1).divide(user_pcafeature.root_squared_sum, axis=0)"
   ]
  },
  {
   "cell_type": "code",
   "execution_count": 29,
   "metadata": {},
   "outputs": [
    {
     "data": {
      "text/html": [
       "<div>\n",
       "<style scoped>\n",
       "    .dataframe tbody tr th:only-of-type {\n",
       "        vertical-align: middle;\n",
       "    }\n",
       "\n",
       "    .dataframe tbody tr th {\n",
       "        vertical-align: top;\n",
       "    }\n",
       "\n",
       "    .dataframe thead th {\n",
       "        text-align: right;\n",
       "    }\n",
       "</style>\n",
       "<table border=\"1\" class=\"dataframe\">\n",
       "  <thead>\n",
       "    <tr style=\"text-align: right;\">\n",
       "      <th></th>\n",
       "      <th>1</th>\n",
       "      <th>2</th>\n",
       "      <th>3</th>\n",
       "      <th>4</th>\n",
       "      <th>5</th>\n",
       "      <th>6</th>\n",
       "      <th>7</th>\n",
       "      <th>8</th>\n",
       "      <th>9</th>\n",
       "      <th>10</th>\n",
       "      <th>...</th>\n",
       "      <th>291</th>\n",
       "      <th>292</th>\n",
       "      <th>293</th>\n",
       "      <th>294</th>\n",
       "      <th>295</th>\n",
       "      <th>296</th>\n",
       "      <th>297</th>\n",
       "      <th>298</th>\n",
       "      <th>299</th>\n",
       "      <th>300</th>\n",
       "    </tr>\n",
       "    <tr>\n",
       "      <th>user_id</th>\n",
       "      <th></th>\n",
       "      <th></th>\n",
       "      <th></th>\n",
       "      <th></th>\n",
       "      <th></th>\n",
       "      <th></th>\n",
       "      <th></th>\n",
       "      <th></th>\n",
       "      <th></th>\n",
       "      <th></th>\n",
       "      <th></th>\n",
       "      <th></th>\n",
       "      <th></th>\n",
       "      <th></th>\n",
       "      <th></th>\n",
       "      <th></th>\n",
       "      <th></th>\n",
       "      <th></th>\n",
       "      <th></th>\n",
       "      <th></th>\n",
       "      <th></th>\n",
       "    </tr>\n",
       "  </thead>\n",
       "  <tbody>\n",
       "    <tr>\n",
       "      <th>---1lKK3aKOuomHnwAkAow</th>\n",
       "      <td>-0.127453</td>\n",
       "      <td>0.277403</td>\n",
       "      <td>0.20038</td>\n",
       "      <td>-0.093381</td>\n",
       "      <td>-0.248164</td>\n",
       "      <td>-0.077411</td>\n",
       "      <td>0.217152</td>\n",
       "      <td>0.257582</td>\n",
       "      <td>0.218357</td>\n",
       "      <td>0.167718</td>\n",
       "      <td>...</td>\n",
       "      <td>0.006834</td>\n",
       "      <td>0.006594</td>\n",
       "      <td>-0.020860</td>\n",
       "      <td>-0.001917</td>\n",
       "      <td>0.010947</td>\n",
       "      <td>0.012562</td>\n",
       "      <td>0.009829</td>\n",
       "      <td>-0.006487</td>\n",
       "      <td>0.009611</td>\n",
       "      <td>-0.020761</td>\n",
       "    </tr>\n",
       "    <tr>\n",
       "      <th>---89pEy_h9PvHwcHNbpyg</th>\n",
       "      <td>-0.282799</td>\n",
       "      <td>0.142310</td>\n",
       "      <td>0.55229</td>\n",
       "      <td>-0.139603</td>\n",
       "      <td>-0.098204</td>\n",
       "      <td>0.213660</td>\n",
       "      <td>-0.045450</td>\n",
       "      <td>-0.170433</td>\n",
       "      <td>-0.015855</td>\n",
       "      <td>-0.057000</td>\n",
       "      <td>...</td>\n",
       "      <td>-0.006070</td>\n",
       "      <td>0.022393</td>\n",
       "      <td>-0.009297</td>\n",
       "      <td>0.005656</td>\n",
       "      <td>0.003809</td>\n",
       "      <td>-0.010870</td>\n",
       "      <td>0.028299</td>\n",
       "      <td>-0.009836</td>\n",
       "      <td>-0.010688</td>\n",
       "      <td>-0.014143</td>\n",
       "    </tr>\n",
       "  </tbody>\n",
       "</table>\n",
       "<p>2 rows × 300 columns</p>\n",
       "</div>"
      ],
      "text/plain": [
       "                               1         2        3         4         5  \\\n",
       "user_id                                                                   \n",
       "---1lKK3aKOuomHnwAkAow -0.127453  0.277403  0.20038 -0.093381 -0.248164   \n",
       "---89pEy_h9PvHwcHNbpyg -0.282799  0.142310  0.55229 -0.139603 -0.098204   \n",
       "\n",
       "                               6         7         8         9        10  \\\n",
       "user_id                                                                    \n",
       "---1lKK3aKOuomHnwAkAow -0.077411  0.217152  0.257582  0.218357  0.167718   \n",
       "---89pEy_h9PvHwcHNbpyg  0.213660 -0.045450 -0.170433 -0.015855 -0.057000   \n",
       "\n",
       "                          ...          291       292       293       294  \\\n",
       "user_id                   ...                                              \n",
       "---1lKK3aKOuomHnwAkAow    ...     0.006834  0.006594 -0.020860 -0.001917   \n",
       "---89pEy_h9PvHwcHNbpyg    ...    -0.006070  0.022393 -0.009297  0.005656   \n",
       "\n",
       "                             295       296       297       298       299  \\\n",
       "user_id                                                                    \n",
       "---1lKK3aKOuomHnwAkAow  0.010947  0.012562  0.009829 -0.006487  0.009611   \n",
       "---89pEy_h9PvHwcHNbpyg  0.003809 -0.010870  0.028299 -0.009836 -0.010688   \n",
       "\n",
       "                             300  \n",
       "user_id                           \n",
       "---1lKK3aKOuomHnwAkAow -0.020761  \n",
       "---89pEy_h9PvHwcHNbpyg -0.014143  \n",
       "\n",
       "[2 rows x 300 columns]"
      ]
     },
     "execution_count": 29,
     "metadata": {},
     "output_type": "execute_result"
    }
   ],
   "source": [
    "user_pcafeature.head(2)"
   ]
  },
  {
   "cell_type": "markdown",
   "metadata": {},
   "source": [
    "### Discussions on the weights to use for aggregating users' preference from review ratings: \n",
    "\n",
    "As shown above, the weights used here for aggregating users' preference is simply the star ratings the users gave along with the reviews. This does not take into consideration that different users might have different rating criteria and scale, some are more generous and some are more critical. <br>\n",
    "But as discussed below, this is considered a simple and more effective approach than other alternatives in this case."
   ]
  },
  {
   "cell_type": "code",
   "execution_count": 30,
   "metadata": {},
   "outputs": [],
   "source": [
    "# # Alternative #1: use user's review rating of a restaurant minus 3 (the median of a 1-5 star rating system) as the weight of that restaurant\n",
    "# # when computing user feature vector from the weighted sum of restaurant vectors\n",
    "\n",
    "# # rescale component coefficients by the review rating as the correpsonding weight\n",
    "# user_pcafeature.loc[:, '1':'300'] = user_pcafeature.loc[:,'1':'300'].multiply(user_pcafeature.stars-3, axis=0)"
   ]
  },
  {
   "cell_type": "markdown",
   "metadata": {},
   "source": [
    "Note: alternative \\#1 is very similar to the simple star rating as the weights, except that it offsets the weight from positive scale of 1 to 5 to a scale of -2 to 2. Therefore, it does not take into consideration that different users might have different rating criteria and scale either. In addition, the preference indicated by review ratings of 3 is lost because those weights will become 0. Therefore, this alternative method of modifying weights is not adopted here."
   ]
  },
  {
   "cell_type": "code",
   "execution_count": 31,
   "metadata": {},
   "outputs": [],
   "source": [
    "# # Alternative #2: use user's review rating of a restaurant minus the mean rating of the user as the weight of that restaurant\n",
    "# # when computing user feature vector from the weighted sum of restaurant vectors\n",
    "\n",
    "# # compute mean ratings by user\n",
    "# user_mean_rating = train.groupby('user_id').stars.mean().rename(columns={'stars':'user_mean_rating'})\n",
    "# user_pcafeature = pd.merge(user_pcafeature, user_mean_rating, how='inner', left_on='user_id', right_index=True)\n",
    "# weights = user_pcafeature.stars - user_pcafeature.user_mean_rating\n",
    "\n",
    "# # rescale component coefficients by the review rating as the correpsonding weight\n",
    "# user_pcafeature.loc[:, '1':'300'] = user_pcafeature.loc[:,'1':'300'].multiply(weights, axis=0)\n",
    "\n",
    "# # sum up all component coefficients by user_id\n",
    "# user_pcafeature = user_pcafeature.drop(['stars','user_mean_rating'], axis=1).groupby('user_id').sum()\n",
    "# user_pcafeature.head(2)\n",
    "\n",
    "# # rescale user_pcafeature coefficients so all user feature vectors share the same unit length of 1\n",
    "# user_pcafeature['root_squared_sum'] = user_pcafeature.apply(lambda row: np.sqrt(sum([i*i for i in row])), axis=1)\n",
    "# user_pcafeature = user_pcafeature.drop('root_squared_sum', axis=1).divide(user_pcafeature.root_squared_sum, axis=0)"
   ]
  },
  {
   "cell_type": "markdown",
   "metadata": {},
   "source": [
    "Note: although alternative method \\#2 of adjusting the weights takes into consideration that different users might have different rating criteria and scale, some are more generous and some are more critical, it causes potential problems as well: <br>\n",
    "1) some Yelp users only go to Yelp to review restaurants when they have really positive experiences. By substracting the user's mean rating, this strong preference is arbituarily removed.<br>\n",
    "2) similar to 1), some users only reviews when they have really negative experiences, this strong dislikes will be removed by substracting the user mean as well.<br>\n",
    "3) there are a substaintial amount of users (547,561 users) in the 'review' dataset that only has one review/rating in total, these users' preference will be lost since substracting user mean will result in zero weights.<br> \n",
    "Therefore, this alternative method of adjusting weights is not used in this project. "
   ]
  },
  {
   "cell_type": "markdown",
   "metadata": {},
   "source": [
    "## 3.5 Save restaurant pca features and user pca features to file\n",
    "Re-train on entire 'review_s' dataframe instead of just the trainset and save the restaurant feature vectors and user feature vectors to file. \n",
    "\n",
    "Note:<br> \n",
    "the feature vectors from training on the trainset are saved to 'rest_pcafeature.pkl' and 'user_pcafeature.pkl';<br>\n",
    "the feature vectors from re-training on the entire restaurant review dataset are saved to 'rest_pcafeature_allset.pkl' and 'user_pcafeature_allset.pkl'."
   ]
  },
  {
   "cell_type": "code",
   "execution_count": 32,
   "metadata": {},
   "outputs": [],
   "source": [
    "import pickle"
   ]
  },
  {
   "cell_type": "code",
   "execution_count": 33,
   "metadata": {},
   "outputs": [
    {
     "name": "stdout",
     "output_type": "stream",
     "text": [
      "CPU times: user 157 ms, sys: 749 ms, total: 905 ms\n",
      "Wall time: 1.78 s\n"
     ]
    }
   ],
   "source": [
    "%%time\n",
    "\n",
    "# save rest_pcafeature as pickled file\n",
    "with open('rest_pcafeature.pkl','wb') as f:\n",
    "    pickle.dump(rest_pcafeature, f)"
   ]
  },
  {
   "cell_type": "code",
   "execution_count": 34,
   "metadata": {},
   "outputs": [
    {
     "name": "stdout",
     "output_type": "stream",
     "text": [
      "CPU times: user 5.06 s, sys: 19.6 s, total: 24.6 s\n",
      "Wall time: 50.2 s\n"
     ]
    }
   ],
   "source": [
    "%%time\n",
    "\n",
    "# save user_pcafeature as pickled file, note: need to write in chucks of size smaller than 2GB due to a bug in Python3\n",
    "max_bytes = 2**31 - 1\n",
    "bytes_out = pickle.dumps(user_pcafeature)\n",
    "with open('user_pcafeature.pkl','wb') as f:\n",
    "    for idx in range(0, len(bytes_out), max_bytes):\n",
    "        f.write(bytes_out[idx:idx+max_bytes])"
   ]
  },
  {
   "cell_type": "markdown",
   "metadata": {},
   "source": [
    "# 4. Building restaurant feature space from restaurant metadata"
   ]
  },
  {
   "cell_type": "code",
   "execution_count": 35,
   "metadata": {},
   "outputs": [
    {
     "name": "stdout",
     "output_type": "stream",
     "text": [
      "<class 'pandas.core.frame.DataFrame'>\n",
      "RangeIndex: 47553 entries, 0 to 47552\n",
      "Data columns (total 64 columns):\n",
      "attributes.WheelchairAccessible          20673 non-null object\n",
      "hours.Tuesday                            33717 non-null object\n",
      "attributes.BYOBCorkage                   1400 non-null object\n",
      "hours.Monday                             31888 non-null object\n",
      "attributes.AcceptsInsurance              3 non-null object\n",
      "hours.Thursday                           34332 non-null object\n",
      "attributes.HappyHour                     6318 non-null object\n",
      "address                                  46660 non-null object\n",
      "business_id                              47553 non-null object\n",
      "attributes.DietaryRestrictions           92 non-null object\n",
      "hours.Saturday                           33671 non-null object\n",
      "postal_code                              47553 non-null int64\n",
      "attributes.GoodForMeal                   29367 non-null object\n",
      "attributes.Alcohol                       30071 non-null object\n",
      "attributes.HairSpecializesIn             0 non-null float64\n",
      "attributes.NoiseLevel                    26799 non-null object\n",
      "attributes.BusinessParking               37190 non-null object\n",
      "city                                     47553 non-null object\n",
      "attributes.HasTV                         29188 non-null object\n",
      "categories                               47137 non-null object\n",
      "attributes.RestaurantsPriceRange2        41150 non-null float64\n",
      "attributes.CoatCheck                     5719 non-null object\n",
      "attributes.Open24Hours                   288 non-null object\n",
      "name                                     47553 non-null object\n",
      "attributes.RestaurantsReservations       31329 non-null object\n",
      "hours.Friday                             34509 non-null object\n",
      "stars                                    47553 non-null float64\n",
      "attributes.RestaurantsDelivery           31182 non-null object\n",
      "hours.Sunday                             29569 non-null object\n",
      "attributes.AgesAllowed                   251 non-null object\n",
      "attributes.RestaurantsTakeOut            35738 non-null object\n",
      "attributes.Caters                        25428 non-null object\n",
      "hours.Wednesday                          34190 non-null object\n",
      "longitude                                47553 non-null float64\n",
      "attributes.Music                         5920 non-null object\n",
      "attributes.DogsAllowed                   5579 non-null object\n",
      "neighborhood                             15832 non-null object\n",
      "attributes.BikeParking                   30186 non-null object\n",
      "state                                    47553 non-null object\n",
      "attributes.OutdoorSeating                33107 non-null object\n",
      "attributes.RestaurantsGoodForGroups      32730 non-null object\n",
      "hours                                    34778 non-null object\n",
      "latitude                                 47553 non-null float64\n",
      "attributes                               45720 non-null object\n",
      "attributes.RestaurantsCounterService     391 non-null object\n",
      "attributes.BusinessAcceptsCreditCards    43115 non-null object\n",
      "attributes.ByAppointmentOnly             532 non-null object\n",
      "attributes.Ambience                      29307 non-null object\n",
      "attributes.BYOB                          908 non-null object\n",
      "attributes.Corkage                       653 non-null object\n",
      "attributes.RestaurantsTableService       27011 non-null object\n",
      "attributes.DriveThru                     5116 non-null object\n",
      "attributes.BusinessAcceptsBitcoin        4039 non-null object\n",
      "attributes.GoodForKids                   32170 non-null object\n",
      "attributes.WiFi                          29627 non-null object\n",
      "attributes.GoodForDancing                6049 non-null object\n",
      "attributes.BestNights                    4766 non-null object\n",
      "review_count                             47553 non-null int64\n",
      "is_open                                  47553 non-null int64\n",
      "attributes.Smoking                       5361 non-null object\n",
      "attributes.RestaurantsAttire             29590 non-null object\n",
      "cuisine                                  36784 non-null object\n",
      "style                                    37870 non-null object\n",
      "adjusted_score                           47553 non-null float64\n",
      "dtypes: float64(6), int64(3), object(55)\n",
      "memory usage: 23.2+ MB\n"
     ]
    }
   ],
   "source": [
    "business.info()\n",
    "\n",
    "# value in feature space should all be numerical\n",
    "\n",
    "# 1. extract useful attributes\n",
    "# 2. extract hours, day of the week (coded 1-7)\n",
    "# 3. parse useful information from business name\n",
    "# 4. cuisine, style\n",
    "# category\n",
    "# concatenate all features together and user countvectorizer"
   ]
  },
  {
   "cell_type": "code",
   "execution_count": 36,
   "metadata": {},
   "outputs": [],
   "source": [
    "rest_metafeature = business[['business_id','address','postal_code','city','state','name','neighborhood']].set_index('business_id')"
   ]
  },
  {
   "cell_type": "code",
   "execution_count": 37,
   "metadata": {},
   "outputs": [
    {
     "name": "stdout",
     "output_type": "stream",
     "text": [
      "<class 'pandas.core.frame.DataFrame'>\n",
      "Index: 47553 entries, AjEbIBw6ZFfln7ePHha9PA to 3_fIsSxN2RBovQ_6EFtLzA\n",
      "Data columns (total 6 columns):\n",
      "address         46660 non-null object\n",
      "postal_code     47553 non-null int64\n",
      "city            47553 non-null object\n",
      "state           47553 non-null object\n",
      "name            47553 non-null object\n",
      "neighborhood    15832 non-null object\n",
      "dtypes: int64(1), object(5)\n",
      "memory usage: 2.5+ MB\n"
     ]
    }
   ],
   "source": [
    "rest_metafeature.info()"
   ]
  },
  {
   "cell_type": "code",
   "execution_count": null,
   "metadata": {},
   "outputs": [],
   "source": []
  },
  {
   "cell_type": "code",
   "execution_count": null,
   "metadata": {},
   "outputs": [],
   "source": []
  },
  {
   "cell_type": "markdown",
   "metadata": {},
   "source": [
    "# 5. Evaluate the cosine-similarity ranking"
   ]
  },
  {
   "cell_type": "markdown",
   "metadata": {},
   "source": [
    "## 5.1 Ranking metrics\n",
    "\n",
    "NDCG (Normalized Discounted Cumulative Gain), which works well in this case with review ratings of 1 to 5, is chosen over MAP (Mean average precision), which only assumes binary relevance (interesting or not, click or not).\n",
    "\n",
    "DCG(Discounted Cumulative Gain) is calculated as the sum of the gain (relevance score) of item at each position in the ranking list, discounted by their position i. \n",
    "$$DCG(Rank)=∑_iu_i * d_i$$\n",
    "where $u_i$ is the gain of item at ranking position $i$, and $d_i$ is the discount of item at ranking position $i$. \n",
    "The discount $d$ is a function that decreases with position further down the list:\n",
    "$$d_i=\\frac{1}{log_2(i+1)}$$\n",
    "\n",
    "NDCG is calculated as the actual DCG normalized by maximum achievable DCG (a perfect ranking in the descreasing order of the relevance score) \n",
    "$$nDCG(Rank)=\\frac{DCG(Rank)}{DCG(Perfect Rank)}$$\n",
    "\n",
    "Note: nDCG is increasingly popular, as it works well with a variety type of relevance scores, binary, integar or float numbers."
   ]
  },
  {
   "cell_type": "code",
   "execution_count": 38,
   "metadata": {},
   "outputs": [],
   "source": [
    "# function for computing normalized Discounted Cumulative Gain as the ranking metric\n",
    "# inspired by https://gist.github.com/bwhite/3726239\n",
    "\n",
    "def dcg_at_k(r, k):\n",
    "    \"\"\"Score is discounted cumulative gain (dcg)\n",
    "    Relevance is positive real values, in this case, the review rating ranging 1-5. \n",
    "    Discount starts to take effect from the second item in the list, with the weights being 1/log2(rank position+1)\n",
    "    (Weights being [1.0, 0.6309, 0.5, 0.4307, 0.3869, ...] for the first items in the rank)\n",
    "    Example from\n",
    "    http://www.stanford.edu/class/cs276/handouts/EvaluationNew-handout-6-per.pdf\n",
    "    ---\n",
    "    Args:\n",
    "        r: a list or numpy 1D array of relevance scores corresponding to the rank order\n",
    "        k: Number of results to consider (consider only top-k)\n",
    "    ---\n",
    "    Returns:\n",
    "        Discounted cumulative gain\n",
    "    \"\"\"\n",
    "    r = np.asfarray(r)[:min(len(r),k)]  # convert to float-type numpy array and extract only top-k\n",
    "    if r.size:\n",
    "        return np.sum(r / np.log2(np.arange(2, r.size + 2)))\n",
    "    return None\n",
    "\n",
    "def ndcg_at_k(r, k):\n",
    "    \"\"\"Score is normalized discounted cumulative gain (ndcg), normalized by the maximum achievable DCG (Discounted Cumulative Gain)\n",
    "    ---\n",
    "    Args:\n",
    "        Same as dcg_at_k(r,k)\n",
    "    ---\n",
    "    Returns:\n",
    "        Normalized discounted cumulative gain\n",
    "    \"\"\"\n",
    "    dcg_max = dcg_at_k(sorted(r, reverse=True), k) # compute the maximum achievable DCG based on the perfect ranking\n",
    "    dcg = dcg_at_k(r, k) # compute the actual DCG based on the actual ranking\n",
    "    if dcg_max == None or dcg == None:\n",
    "        return None\n",
    "    return dcg/dcg_max"
   ]
  },
  {
   "cell_type": "markdown",
   "metadata": {},
   "source": [
    "## 5.2 Compute & evaluate rankings based on cosine similarity from review-based pca features\n",
    "\n",
    "Since the restaurant pcafeature vectors and the user pcafeature vectors all have a unit length of 1, linear_kernel from sklearn.metrics.pairwise is used instead of cosine_similarity to speed up the calculation. "
   ]
  },
  {
   "cell_type": "code",
   "execution_count": 39,
   "metadata": {},
   "outputs": [],
   "source": [
    "from sklearn.metrics.pairwise import linear_kernel"
   ]
  },
  {
   "cell_type": "code",
   "execution_count": 40,
   "metadata": {},
   "outputs": [
    {
     "name": "stdout",
     "output_type": "stream",
     "text": [
      "Ranking by cosine similarity score:\n",
      "                         similarity_score  stars\n",
      "business_id                                    \n",
      "YCEZLECK9IToE8Mysorbhw          0.329092      5\n",
      "AZlnpvILz5cEWJifjr2CSQ          0.324308      5\n",
      "_sh6mIBWZis66mAjkjN8Qg          0.238217      5\n",
      "x-80R4DE6AsYoDtA2H-sKw          0.208107      3\n",
      "2BbFeotL85cIaBjSq1SWiA          0.204794      1\n",
      "TTpgjbrSyxwHHzE5bIF-Rw          0.192319      3\n",
      "UutHMmZx1CQcjiyfmVa_7g          0.130481      5\n",
      "CeqWpwHBoaxwRcv5btnv6g          0.123849      5\n",
      "DV13F0bhe55dV1AhwoO50g          0.115896      5\n",
      "rq5dgoksPHkJwJNQKlGQ7w          0.096958      5\n",
      "RJtgNpUFthlJ5grLr16GxA          0.025944      5\n",
      "\n",
      "Normalized discounted cumulative gain achieved at top-10 based on testset:\n",
      " 0.9098790747203894\n",
      "CPU times: user 765 ms, sys: 648 ms, total: 1.41 s\n",
      "Wall time: 1.89 s\n"
     ]
    }
   ],
   "source": [
    "%%time\n",
    "# look at a particular user_id as an example\n",
    "\n",
    "user_id = '---1lKK3aKOuomHnwAkAow' # 11 review ratings available in the testset\n",
    "\n",
    "# compute user-restaurant similarity\n",
    "sim_matrix = linear_kernel(user_pcafeature.loc[user_id].values.reshape(1, -1), rest_pcafeature)\n",
    "sim_matrix = sim_matrix.flatten()\n",
    "sim_matrix = pd.Series(sim_matrix, index = rest_pcafeature.index).sort_values(ascending=False)\n",
    "sim_matrix.name = 'similarity_score'\n",
    "\n",
    "# look at similarity score for reviews/ratings in the testset by the user of interest\n",
    "rec = pd.concat([sim_matrix, test[test.user_id == user_id].set_index('business_id').stars], axis=1, join='inner')\n",
    "print('Ranking by cosine similarity score:\\n', rec)\n",
    "ndcg = ndcg_at_k(r=rec.stars.values, k=10) # look at the NDCG score@top10\n",
    "print('\\nNormalized discounted cumulative gain achieved at top-10 based on testset:\\n', ndcg)"
   ]
  },
  {
   "cell_type": "code",
   "execution_count": 41,
   "metadata": {},
   "outputs": [
    {
     "name": "stdout",
     "output_type": "stream",
     "text": [
      "Ranking by cosine similarity score for user_id of EgUGBGTJUvFJgHyFwgpD1w is:\n",
      "                         similarity_score  stars\n",
      "business_id                                    \n",
      "0fW77t7I2673JY27JWC-yw          0.542322      2\n",
      "nUfeYJ_YEaDzggPKnYry3g          0.537483      1\n",
      "cTJjTKz2huGZ-ElScC2pSw          0.516030      2\n",
      "UlSvQqRRzrqRy5i5hHlQaA          0.466036      1\n",
      "16d3BlncEyCTzb0GxXrBXQ          0.465888      4\n",
      "BWsCjBVMR289vtojIz-gWw          0.458656      2\n",
      "FkUcjHK7oQJIvZtUGjDxMQ          0.456898      2\n",
      "J3H6VSIgUTlACkb_HPFA8w          0.448973      3\n",
      "qGf1wupj-UwG15fzQ7b-SA          0.304884      1\n",
      "sZq-qUvoLgYxlDmIcxYWDg          0.294629      5\n",
      "Ranking by cosine similarity score for user_id of Wk--RNQokW9Jrj2vJuWBww is:\n",
      "                         similarity_score  stars\n",
      "business_id                                    \n",
      "NoA6bD6W7z_Aztk_cOU5cg          0.565443      1\n",
      "CZhc8YXdFLhAI4ViC2ERTg          0.548116      1\n",
      "riFzCvp77DMKDX-5GoTpqA          0.403824      1\n",
      "BnpuVvPy3sfLlkqKCx6Xnw          0.396119      3\n",
      "TmIucPRTngutrjDpC0nXgQ          0.355902      3\n",
      "_vvK0PUe7KJtntpRVVAj4Q          0.351315      3\n",
      "vSXzr0aiYJZv6eE3IUNAJQ          0.294247      3\n",
      "Nmka2Jw1HrC2IfuEADOwZg          0.274834      2\n",
      "0qOI8lOZvvhrbtxqjaBQMg          0.251492      5\n",
      "0Nb4piKDUVbedlrakwEUuw          0.230046      1\n",
      "Ranking by cosine similarity score for user_id of hilL60vuuh06sMxs6Ckkog is:\n",
      "                         similarity_score  stars\n",
      "business_id                                    \n",
      "gJd1jOcl5FdqY020Q19n6Q          0.642977      1\n",
      "5_MrPFw9E0cMJ1Q0DJFZOQ          0.614130      1\n",
      "TfbHsUq-ZlQVAmb_Y79rIg          0.578217      3\n",
      "g62SlImzhs6_1t-knPjd8w          0.554495      5\n",
      "W-YhRJOSezqESSas-oLArw          0.553032      1\n",
      "ksuxxeP_V73Y4iKPeLq77A          0.501348      1\n",
      "caUPXiOxvLGMsorJBtNlhg          0.491138      4\n",
      "rF183_3e0ybElRKdNSwJqQ          0.459323      5\n",
      "qi6uzJEhA9puZM2io46-_A          0.419355      5\n",
      "DcD4NnR24iiUj7w6Q6hxzA          0.403388      1\n",
      "CPU times: user 8min 43s, sys: 1min 2s, total: 9min 45s\n",
      "Wall time: 5min 21s\n"
     ]
    }
   ],
   "source": [
    "%%time\n",
    "# evaluate NDCG@top10 on the entire testset\n",
    "\n",
    "# only look at NDCG scores for users with at least 10 ratings available in the testset in order to evaluate NDCG@top10\n",
    "rev_count_by_user = test.groupby('user_id').review_id.count()\n",
    "user_id_of_interest = rev_count_by_user[rev_count_by_user >= 10].index\n",
    "\n",
    "ndcg_scores = []\n",
    "# compute NDCG score for each user in the testset\n",
    "for user_id in user_id_of_interest: \n",
    "    \n",
    "    # compute user-restaurant similarity matrix for the user of interest\n",
    "    sim_matrix = linear_kernel(user_pcafeature.loc[user_id].values.reshape(1, -1), rest_pcafeature)\n",
    "    sim_matrix = sim_matrix.flatten() # flatten the similarity matrix for a particular user into 1D array\n",
    "    sim_matrix = pd.Series(sim_matrix, index = rest_pcafeature.index).sort_values(ascending=False)\n",
    "    sim_matrix.name = 'similarity_score'\n",
    "\n",
    "    # look at similarity score for reviews/ratings in the testset by the user of interest\n",
    "    rec = pd.concat([sim_matrix, test[test.user_id == user_id].set_index('business_id').stars], axis=1, join='inner')\n",
    "    assert len(rec) >= 10\n",
    "    ndcg = ndcg_at_k(r=rec.stars.values, k=10) # compute NDCG score@top10\n",
    "    ndcg_scores.append(ndcg)\n",
    "    \n",
    "    if ndcg < 0.5: # if low ndcg score below 0.5, print the ranking results\n",
    "        print('Ranking by cosine similarity score for user_id of {} is:\\n {}'.format(user_id, rec.head(10)))"
   ]
  },
  {
   "cell_type": "markdown",
   "metadata": {},
   "source": [
    "As shown, there are three user cases in the testset with poor ranking of a NDCG score below 0.5. "
   ]
  },
  {
   "cell_type": "code",
   "execution_count": 54,
   "metadata": {},
   "outputs": [
    {
     "name": "stdout",
     "output_type": "stream",
     "text": [
      "Number of users of interest in the testset (at least 10 review ratings in the testset): 3432\n",
      "Average NDCG score across all users of interest in the testset: 0.8571811009077678\n",
      "Max and min NDCG scores for users of interest in the testset: 1.0 0.4438264329684102\n",
      "25, 50, 75 and 90 percentiles of all the valid NDCG scores are: [0.80734171 0.86867464 0.92142099 0.95647174]\n"
     ]
    },
    {
     "data": {
      "image/png": "[encoded data removed]",
      "text/plain": [
       "<Figure size 432x288 with 1 Axes>"
      ]
     },
     "metadata": {},
     "output_type": "display_data"
    }
   ],
   "source": [
    "# summary statistics on the NDCG scores of the testset\n",
    "print('Number of users of interest in the testset (at least 10 review ratings in the testset):', len(ndcg_scores))\n",
    "print('Average NDCG score across all users of interest in the testset:', sum(ndcg_scores)/len(ndcg_scores))\n",
    "print('Max and min NDCG scores for users of interest in the testset:', max(ndcg_scores), min(ndcg_scores))\n",
    "print('25, 50, 75 and 90 percentiles of all the valid NDCG scores are:', np.percentile(ndcg_scores, [25, 50,75,90]))\n",
    "plt.hist(ndcg_scores); # plot ndcg_score distribution"
   ]
  },
  {
   "cell_type": "markdown",
   "metadata": {},
   "source": [
    "## 5.3 Compute & evaluate rankings based on cosine similarity from restaurant metadata-based features\n",
    "\n",
    "Since the restaurant metafeature vectors and the user metafeature vectors all have a unit length of 1, linear_kernel from sklearn.metrics.pairwise is used instead of cosine_similarity to speed up the calculation."
   ]
  },
  {
   "cell_type": "code",
   "execution_count": 43,
   "metadata": {},
   "outputs": [],
   "source": [
    "# %%time\n",
    "# # look at a particular user_id as an example\n",
    "\n",
    "# user_id = '---1lKK3aKOuomHnwAkAow' # 11 review ratings available in the testset\n",
    "\n",
    "# # compute user-restaurant similarity\n",
    "# sim_matrix = linear_kernel(user_metafeature.loc[user_id].values.reshape(1, -1), rest_metafeature)\n",
    "# sim_matrix = sim_matrix.flatten()\n",
    "# sim_matrix = pd.Series(sim_matrix, index = rest_metafeature.index).sort_values(ascending=False)\n",
    "# sim_matrix.name = 'similarity_score'\n",
    "\n",
    "# # look at similarity score for reviews/ratings in the testset by the user of interest\n",
    "# rec = pd.concat([sim_matrix, test[test.user_id == user_id].set_index('business_id').stars], axis=1, join='inner')\n",
    "# print('Ranking by cosine similarity score:\\n', rec)\n",
    "# ndcg = ndcg_at_k(r=rec.stars.values, k=10) # look at the NDCG score@top10\n",
    "# print('\\nNormalized discounted cumulative gain achieved at top-10 based on testset:\\n', ndcg)"
   ]
  },
  {
   "cell_type": "code",
   "execution_count": 44,
   "metadata": {},
   "outputs": [],
   "source": [
    "# %%time\n",
    "# # evaluate NDCG@top10 on the entire testset\n",
    "\n",
    "# # only look at NDCG scores for users with at least 10 ratings available in the testset in order to evaluate NDCG@top10\n",
    "# rev_count_by_user = test.groupby('user_id').review_id.count()\n",
    "# user_id_of_interest = rev_count_by_user[rev_count_by_user >= 10].index\n",
    "\n",
    "# ndcg_scores = []\n",
    "# # compute NDCG score for each user in the testset\n",
    "# for user_id in user_id_of_interest: \n",
    "    \n",
    "#     # compute user-restaurant similarity matrix for the user of interest\n",
    "#     sim_matrix = linear_kernel(user_metafeature.loc[user_id].values.reshape(1, -1), rest_metafeature)\n",
    "#     sim_matrix = sim_matrix.flatten() # flatten the similarity matrix for a particular user into 1D array\n",
    "#     sim_matrix = pd.Series(sim_matrix, index = rest_metafeature.index).sort_values(ascending=False)\n",
    "#     sim_matrix.name = 'similarity_score'\n",
    "\n",
    "#     # look at similarity score for reviews/ratings in the testset by the user of interest\n",
    "#     rec = pd.concat([sim_matrix, test[test.user_id == user_id].set_index('business_id').stars], axis=1, join='inner')\n",
    "#     assert len(rec) >= 10\n",
    "#     ndcg = ndcg_at_k(r=rec.stars.values, k=10) # look at the NDCG score\n",
    "#     ndcg_scores.append(ndcg)\n",
    "\n",
    "#     if ndcg < 0.5: # inspect low ndcg score below 0.5\n",
    "#         print('Ranking by cosine similarity score for user_id of {} is:\\n {}'.format(user_id, rec.head(10)))"
   ]
  },
  {
   "cell_type": "code",
   "execution_count": 45,
   "metadata": {},
   "outputs": [],
   "source": [
    "# print('Number of users of interest in the testset (at least 10 review ratings in the testset):', len(ndcg_scores))\n",
    "# print('Average NDCG score across all users of interest in the testset:', sum(ndcg_scores)/len(ndcg_scores))\n",
    "# print('Max and min NDCG scores for users of interest in the testset:', max(ndcg_scores), min(ndcg_scores))\n",
    "# print('25, 50, 75 and 90 percentiles of all the valid NDCG scores are:', np.percentile(ndcg_scores, [25, 50,75,90]))\n",
    "# plt.hist(ndcg_scores); # plot ndcg_score distribution"
   ]
  },
  {
   "cell_type": "markdown",
   "metadata": {},
   "source": [
    "# 6. Implement content-based recommender module"
   ]
  },
  {
   "cell_type": "markdown",
   "metadata": {},
   "source": [
    "# !!! current implementation uses the cosine similarity score based on the restaurant features extracted from reviews;\n",
    "# !!![to be decided and added] how to combine the two similarity scores in the actual implementation, one similarity score based on features extracted from reviews, the other similarity score based on features extracted from restaurant metadata. "
   ]
  },
  {
   "cell_type": "code",
   "execution_count": 46,
   "metadata": {},
   "outputs": [],
   "source": [
    "import os.path\n",
    "from sklearn.metrics.pairwise import linear_kernel"
   ]
  },
  {
   "cell_type": "code",
   "execution_count": 47,
   "metadata": {},
   "outputs": [],
   "source": [
    "# extract a subset of reviews related to the restaurant business of our interest\n",
    "review_s = review[review.business_id.isin(business.business_id.unique())]"
   ]
  },
  {
   "cell_type": "code",
   "execution_count": 48,
   "metadata": {},
   "outputs": [],
   "source": [
    "class Recommender:\n",
    "    \n",
    "    def __init__(self, n=5, original_score=False):\n",
    "        \"\"\"initiate a Recommender object by passing the desired number of recommendations to make, the default number is 10.\n",
    "        By default, the adjusted score will be used for ranking; To rank by the original average rating of the restaurant, pass original_score=True\n",
    "        \"\"\"\n",
    "        self.n = n # number of recommendations to make, default is 5\n",
    "        self.original_score = original_score # boolean indicating whether the original average rating or the adjusted score is used\n",
    "        # initiate a list of column names to display in the recommendation results\n",
    "        self.column_to_display = ['state','city','name','address','attributes.RestaurantsPriceRange2','cuisine','style','review_count','stars','adjusted_score']\n",
    "        \n",
    "        # initiate the list of recommendations to be the entire catalog of the 'business' dataframe sorted by the score of interest\n",
    "        if self.original_score:  # set sorting criteria to the originial star rating\n",
    "            score = 'stars'\n",
    "        else:  # set sorting criteria to the adjusted score\n",
    "            score = 'adjusted_score'\n",
    "        self.recomm = business.sort_values(score, ascending=False)\n",
    "        \n",
    "    def display_recommendation(self):\n",
    "        \"\"\" Display the list of top n recommended restaurants\n",
    "        \"\"\"\n",
    "        if len(self.recomm) == 0:\n",
    "            print(\"Sorry, there is no matching recommendations.\")\n",
    "        elif self.n < len(self.recomm):  # display only the top n from the recommendation list\n",
    "            print(\"Below is a list of the top {} recommended restaurants for you: \".format(self.n))\n",
    "            print(self.recomm.iloc[:self.n][self.column_to_display])\n",
    "        else:  # display all if # of recommendations is less than self.n\n",
    "            print(\"Below is a list of the top {} recommended restaurants for you: \".format(len(self.recomm)))\n",
    "            print(self.recomm[self.column_to_display])\n",
    " \n",
    "    #------------------------------------------------------------\n",
    "    # personalized content-based filtering recommender module\n",
    "    def content(self, user_id=None):\n",
    "        \"\"\"Passing of user_id is required if personalized recommendation is desired.\n",
    "        \"\"\"\n",
    "        \n",
    "        self.user_id = user_id # user_id for personalized recommendation using collaborative filtering \n",
    "        if self.user_id is None:\n",
    "            print(\"no user_id is provided!\")\n",
    "            return None\n",
    "        if len(self.user_id) != 22:\n",
    "            print(\"invalid user id!\")\n",
    "            return None\n",
    "        if self.user_id not in review_s.user_id.unique(): # check if previous restaurant rating/review history is available for the user_id of interest\n",
    "            print(\"sorry, no personal data available for this user_id yet!\")\n",
    "            return []\n",
    "        \n",
    "        # initiate every time the module is called\n",
    "        self.recomm = business # start with the entire 'business' catalog\n",
    "        self.column_to_display = ['state','city','name','address','attributes.RestaurantsPriceRange2',\\\n",
    "                                  'cuisine','style','review_count','stars','adjusted_score'] # reset the columns to display\n",
    "        if 'similarity_score' in self.recomm.columns:\n",
    "            self.recomm.drop('similarity_score', axis=1, inplace=True) # delete the column of 'cosine_similarity' if already present\n",
    "        \n",
    "        # load the saved restaurant pca feature vectors\n",
    "        with open('rest_pcafeature_allset.pkl', 'rb') as f:\n",
    "            rest_pcafeature = pickle.load(f)\n",
    "            \n",
    "        # load the saved user pca feature vectors\n",
    "        max_bytes = 2**31 - 1\n",
    "        bytes_in = bytearray(0)\n",
    "        input_size = os.path.getsize('user_pcafeature_allset.pkl')\n",
    "        with open('user_pcafeature_allset.pkl','rb') as f: \n",
    "            for _ in range(0, input_size, max_bytes):\n",
    "                bytes_in += f.read(max_bytes)\n",
    "            user_pcafeature = pickle.loads(bytes_in)\n",
    "        \n",
    "        # predict personalized cosine similarity scores for the user_id of interest\n",
    "        sim_matrix = linear_kernel(user_pcafeature.loc[user_id].values.reshape(1, -1), rest_pcafeature)\n",
    "        sim_matrix = sim_matrix.flatten()\n",
    "        sim_matrix = pd.Series(sim_matrix, index = rest_pcafeature.index)\n",
    "        sim_matrix.name = 'similarity_score'\n",
    "        \n",
    "        # pairing the computed cosine similarity score with the business_id by matching the corresponding matrix indices of the business_id\n",
    "        self.recomm = pd.concat([sim_matrix, self.recomm.set_index('business_id')], axis=1, join='inner').reset_index()\n",
    "        \n",
    "        # filter to unrated business_id only by the user_id of interest if a personal history is available      \n",
    "        busi_rated = review_s[review_s.user_id == self.user_id].business_id.unique()\n",
    "        self.recomm = self.recomm[~self.recomm.business_id.isin(busi_rated)]\n",
    "               \n",
    "        # sort the recommendation by the cosine similarity score in descending order\n",
    "        self.recomm = self.recomm.sort_values('similarity_score', ascending=False).reset_index(drop=True)\n",
    "           \n",
    "        # add 'similarity_score' to the list of columns to display\n",
    "        self.column_to_display.insert(0, 'similarity_score') \n",
    "        \n",
    "        # display the list of top n recommendations\n",
    "        self.display_recommendation()\n",
    "        \n",
    "        return self.recomm"
   ]
  },
  {
   "cell_type": "code",
   "execution_count": 56,
   "metadata": {},
   "outputs": [
    {
     "name": "stdout",
     "output_type": "stream",
     "text": [
      "CPU times: user 2.84 s, sys: 9.27 s, total: 12.1 s\n",
      "Wall time: 19.3 s\n"
     ]
    }
   ],
   "source": [
    "%%time\n",
    "\n",
    "# load the saved restaurant pca feature vectors\n",
    "with open('rest_pcafeature_allset.pkl', 'rb') as f:\n",
    "    rest_pcafeature = pickle.load(f)\n",
    "            \n",
    "# load the saved user pca feature vectors\n",
    "max_bytes = 2**31 - 1\n",
    "bytes_in = bytearray(0)\n",
    "input_size = os.path.getsize('user_pcafeature_allset.pkl')\n",
    "with open('user_pcafeature_allset.pkl','rb') as f: \n",
    "    for _ in range(0, input_size, max_bytes):\n",
    "        bytes_in += f.read(max_bytes)\n",
    "    user_pcafeature = pickle.loads(bytes_in)"
   ]
  },
  {
   "cell_type": "markdown",
   "metadata": {},
   "source": [
    "Note: the time needed to load the restaurant and user feature vectors is around 20 seconds."
   ]
  },
  {
   "cell_type": "markdown",
   "metadata": {},
   "source": [
    "### testing of the personalized content-based recommender module"
   ]
  },
  {
   "cell_type": "code",
   "execution_count": 50,
   "metadata": {},
   "outputs": [
    {
     "name": "stdout",
     "output_type": "stream",
     "text": [
      "------\n",
      "result from test0 (display only): \n",
      "Below is a list of the top 10 recommended restaurants for you: \n",
      "      state             city                                  name  \\\n",
      "7464     AZ          Phoenix                       Little Miss BBQ   \n",
      "31910    NV        Las Vegas                          Brew Tea Bar   \n",
      "45401    NV        Las Vegas                            Gelatology   \n",
      "7784     NV  North Las Vegas                          Poke Express   \n",
      "28162    NV        Las Vegas                    Meráki Greek Grill   \n",
      "2684     AZ             Mesa                        Worth Takeaway   \n",
      "14567    NV        Las Vegas                Free Vegas Club Passes   \n",
      "11521    NV        Las Vegas  Paranormal - Mind Reading Magic Show   \n",
      "30972    NV        Las Vegas           Desert Wind Coffee Roasters   \n",
      "46284    NV        Henderson                                HUMMUS   \n",
      "\n",
      "                            address  attributes.RestaurantsPriceRange2  \\\n",
      "7464           4301 E University Dr                                2.0   \n",
      "31910  7380 S Rainbow Blvd, Ste 101                                1.0   \n",
      "45401  7910 S Rainbow Blvd, Ste 110                                1.0   \n",
      "7784        655 W Craig Rd, Ste 118                                2.0   \n",
      "28162  4950 S Rainbow Blvd, Ste 160                                2.0   \n",
      "2684                  218 W Main St                                2.0   \n",
      "14567                           NaN                                NaN   \n",
      "11521         3645 Las Vegas Blvd S                                NaN   \n",
      "30972             7772 W Sahara Ave                                1.0   \n",
      "46284  10895 S Eastern Ave, Ste 100                                1.0   \n",
      "\n",
      "                                                 cuisine  \\\n",
      "7464                                            barbeque   \n",
      "31910                               desserts, bubble tea   \n",
      "45401                ice cream & frozen yogurt, desserts   \n",
      "7784                                            hawaiian   \n",
      "28162                               greek, mediterranean   \n",
      "2684   sandwiches, american (new), american (traditio...   \n",
      "14567                                                NaN   \n",
      "11521                                                NaN   \n",
      "30972                                       coffee & tea   \n",
      "46284  gluten-free, vegan, mediterranean, middle eastern   \n",
      "\n",
      "                                                   style  review_count  stars  \\\n",
      "7464                                         restaurants          1746    5.0   \n",
      "31910                                 cafes, restaurants          1380    5.0   \n",
      "45401                                                NaN           547    5.0   \n",
      "7784                                         restaurants           520    5.0   \n",
      "28162                                        restaurants           472    5.0   \n",
      "2684                     breakfast & brunch, restaurants           450    5.0   \n",
      "14567                             dance clubs, nightlife           417    5.0   \n",
      "11521                           casinos, performing arts           408    5.0   \n",
      "30972                                                NaN           408    5.0   \n",
      "46284  fast food, caterers, juice bars & smoothies, r...           372    5.0   \n",
      "\n",
      "       adjusted_score  \n",
      "7464         4.984169  \n",
      "31910        4.980037  \n",
      "45401        4.950811  \n",
      "7784         4.948360  \n",
      "28162        4.943342  \n",
      "2684         4.940702  \n",
      "14567        4.936244  \n",
      "11521        4.934910  \n",
      "30972        4.934910  \n",
      "46284        4.928962  \n",
      "------\n",
      "result from test1 (no user id input): \n",
      "no user_id is provided!\n",
      "------\n",
      "result from test2 (invalid user id input): \n",
      "invalid user id!\n",
      "CPU times: user 82 ms, sys: 383 ms, total: 465 ms\n",
      "Wall time: 1.11 s\n"
     ]
    }
   ],
   "source": [
    "%%time\n",
    "\n",
    "# initiate a Recommender object\n",
    "con = Recommender(n=10)\n",
    "\n",
    "# test0: display only (same as no keywords)\n",
    "print(\"------\\nresult from test0 (display only): \")\n",
    "con.display_recommendation()\n",
    "\n",
    "# test1: no user id input\n",
    "print(\"------\\nresult from test1 (no user id input): \")\n",
    "con.content();\n",
    "\n",
    "# test 2: invalid user id input\n",
    "print(\"------\\nresult from test2 (invalid user id input): \")\n",
    "con.content(user_id='928402');"
   ]
  },
  {
   "cell_type": "code",
   "execution_count": 51,
   "metadata": {},
   "outputs": [
    {
     "name": "stdout",
     "output_type": "stream",
     "text": [
      "------\n",
      "result from test3 (valid user id --- no user review data): \n",
      "sorry, no personal data available for this user_id yet!\n",
      "CPU times: user 390 ms, sys: 290 ms, total: 681 ms\n",
      "Wall time: 924 ms\n"
     ]
    }
   ],
   "source": [
    "%%time\n",
    "\n",
    "# test 3: valid user id (no user data)\n",
    "print(\"------\\nresult from test3 (valid user id --- no user review data): \")\n",
    "con.content(user_id='-NzChtoNOw706kps82x0Kg');"
   ]
  },
  {
   "cell_type": "code",
   "execution_count": 52,
   "metadata": {
    "scrolled": false
   },
   "outputs": [
    {
     "name": "stdout",
     "output_type": "stream",
     "text": [
      "------\n",
      "result from test4 (valid user id --- user has only one review): \n",
      "Below is a list of the top 10 recommended restaurants for you: \n",
      "   similarity_score state       city                               name  \\\n",
      "0          0.920511    NV  Henderson      The Bar At Bermuda & St. Rose   \n",
      "1          0.913473    NV  Las Vegas  The Bar @ Las Vegas Blvd & Wigwam   \n",
      "2          0.912803    NV  Las Vegas      The Bar @ Tropicana & Durango   \n",
      "3          0.859365    NV  Las Vegas            The Bar @Trails Village   \n",
      "4          0.848265    NV  Las Vegas              Distill - A Local Bar   \n",
      "5          0.847307    NV  Las Vegas              Distill - A Local Bar   \n",
      "6          0.841570    NV  Henderson                    Remedy's Tavern   \n",
      "7          0.814201    NV  Las Vegas                 Sunrise Casablanca   \n",
      "8          0.813073    NV  Las Vegas                   Aces Bar & Grill   \n",
      "9          0.803431    NV  Las Vegas                Cactus Jacks Saloon   \n",
      "\n",
      "                          address  attributes.RestaurantsPriceRange2  \\\n",
      "0                11624 Bermuda Rd                                2.0   \n",
      "1           8560 S Las Vegas Blvd                                2.0   \n",
      "2         4705 S Durango, Ste 140                                2.0   \n",
      "3  1916 Village Center Cir, Ste 6                                2.0   \n",
      "4      6430 N Durango Dr, Ste 110                                2.0   \n",
      "5                 4830 W Pyle Ave                                2.0   \n",
      "6               3265 St Rose Pkwy                                2.0   \n",
      "7          6320 E Charleston Blvd                                1.0   \n",
      "8    7272 S El Capitan Way, Ste 2                                2.0   \n",
      "9           10648 S Maryland Pkwy                                1.0   \n",
      "\n",
      "                                             cuisine  \\\n",
      "0               beer, wine & spirits, american (new)   \n",
      "1                             american (traditional)   \n",
      "2                             american (traditional)   \n",
      "3                                              salad   \n",
      "4                           american (new), desserts   \n",
      "5               beer, wine & spirits, american (new)   \n",
      "6                                burgers, sandwiches   \n",
      "7                             american (traditional)   \n",
      "8                                     specialty food   \n",
      "9  chicken wings, pizza, american (traditional), ...   \n",
      "\n",
      "                                               style  review_count  stars  \\\n",
      "0                       restaurants, nightlife, bars           125    4.0   \n",
      "1    pubs, sports bars, bars, restaurants, nightlife           147    4.0   \n",
      "2                       nightlife, restaurants, bars            82    4.0   \n",
      "3  restaurants, breakfast & brunch, bars, nightli...            62    4.5   \n",
      "4  breakfast & brunch, bars, nightlife, cocktail ...           203    4.0   \n",
      "5                       restaurants, nightlife, bars           300    4.0   \n",
      "6                 pubs, nightlife, bars, restaurants           246    4.0   \n",
      "7                       bars, nightlife, restaurants            27    4.0   \n",
      "8                       bars, sports bars, nightlife            81    4.0   \n",
      "9          sports bars, restaurants, bars, nightlife            49    3.5   \n",
      "\n",
      "   adjusted_score  \n",
      "0        3.959260  \n",
      "1        3.964563  \n",
      "2        3.942415  \n",
      "3        4.297752  \n",
      "4        3.973383  \n",
      "5        3.981401  \n",
      "6        3.977654  \n",
      "7        3.877779  \n",
      "8        3.941856  \n",
      "9        3.570580  \n",
      "CPU times: user 4.74 s, sys: 10.9 s, total: 15.6 s\n",
      "Wall time: 26.2 s\n"
     ]
    }
   ],
   "source": [
    "%%time\n",
    "\n",
    "# test 4: valid user id (user has only one review)\n",
    "print(\"------\\nresult from test4 (valid user id --- user has only one review): \")\n",
    "con.content(user_id='---89pEy_h9PvHwcHNbpyg');"
   ]
  },
  {
   "cell_type": "markdown",
   "metadata": {},
   "source": [
    "As shown, the total time to return the recommendation is around 25 seconds, but the time needed to load the feature vectors is 20 seconds by itself. Therefore, to speed up the recommender's response time, an alternative way is to load in the restaurant and user feature vectors when initializing the recommender object (under the \\__init\\__ method). \n",
    "\n",
    "As shown, the personalized recommendation features mid-price range bars of high ratings near Las Vegas, these are very personalized recommendations based on the user's only review of a 4-star nightlife bars in the mid-price range located in Las Vegas, and the user gives the bar a 5-star review with strong positive words, a clear indication of his/her preference."
   ]
  },
  {
   "cell_type": "code",
   "execution_count": 53,
   "metadata": {
    "scrolled": false
   },
   "outputs": [
    {
     "name": "stdout",
     "output_type": "stream",
     "text": [
      "------\n",
      "result from test5 (valid user id --- user has over 100 reviews): \n",
      "Below is a list of the top 10 recommended restaurants for you: \n",
      "   similarity_score state       city                          name  \\\n",
      "0          0.662795    AZ       Mesa                  Modern Grove   \n",
      "1          0.656317    AZ    Gilbert              Joe's Farm Grill   \n",
      "2          0.624906    AZ    Phoenix                           FEZ   \n",
      "3          0.621353    AZ    Phoenix        Maizie's Cafe & Bistro   \n",
      "4          0.613937    AZ       Mesa                  Orchard Eats   \n",
      "5          0.606274    AZ   Surprise               New York Flavor   \n",
      "6          0.598196    AZ    Phoenix                 Modern  Grove   \n",
      "7          0.589970    NV  Las Vegas            Hunt & Gather Cafe   \n",
      "8          0.583544    AZ    Phoenix                 Welcome Diner   \n",
      "9          0.575226    AZ    Phoenix  Wally's American Pub N Grill   \n",
      "\n",
      "                       address  attributes.RestaurantsPriceRange2  \\\n",
      "0     1958 E Brown Rd, Ste 103                                2.0   \n",
      "1        3000 E Ray Rd, Bldg 1                                2.0   \n",
      "2           3815 N Central Ave                                2.0   \n",
      "3           4750 N Central Ave                                2.0   \n",
      "4     2036 N Gilbert Rd, Ste 6                                1.0   \n",
      "5   15170 W Bell Rd, Ste 2-103                                1.0   \n",
      "6  15530 N Tatum Blvd, Ste 160                                2.0   \n",
      "7     7240 W Azure Dr, Ste 145                                2.0   \n",
      "8              929 E Pierce St                                2.0   \n",
      "9               5029 N 44th St                                2.0   \n",
      "\n",
      "                                             cuisine  \\\n",
      "0  american (new), beer, wine & spirits, burgers,...   \n",
      "1  pizza, italian, american (traditional), salad,...   \n",
      "2                      american (new), mediterranean   \n",
      "3                                     american (new)   \n",
      "4             american (traditional), american (new)   \n",
      "5                                burgers, sandwiches   \n",
      "6  american (new), burgers, beer, wine & spirits,...   \n",
      "7                                pizza, coffee & tea   \n",
      "8                    burgers, american (traditional)   \n",
      "9                 american (traditional), sandwiches   \n",
      "\n",
      "                                    style  review_count  stars  adjusted_score  \n",
      "0         breakfast & brunch, restaurants           110    3.5        3.537964  \n",
      "1                             restaurants          1884    4.0        3.996858  \n",
      "2   bars, restaurants, lounges, nightlife          1036    4.0        3.994340  \n",
      "3                      cafes, restaurants           382    4.0        3.985176  \n",
      "4         restaurants, breakfast & brunch           185    4.0        3.971069  \n",
      "5  restaurants, breakfast & brunch, delis           269    4.5        4.441619  \n",
      "6         breakfast & brunch, restaurants           327    3.0        3.045877  \n",
      "7                      restaurants, cafes           126    4.0        3.959535  \n",
      "8    restaurants, diners, nightlife, bars           848    4.5        4.480473  \n",
      "9                             restaurants           172    4.5        4.412429  \n",
      "CPU times: user 4.52 s, sys: 10.3 s, total: 14.8 s\n",
      "Wall time: 23 s\n"
     ]
    }
   ],
   "source": [
    "%%time\n",
    "\n",
    "# test 5: valid user id (user has over 100 reviews)\n",
    "print(\"------\\nresult from test5 (valid user id --- user has over 100 reviews): \")\n",
    "con.content(user_id='Ox89nMY8HpT0vxfKGqDPdA');"
   ]
  },
  {
   "cell_type": "markdown",
   "metadata": {},
   "source": [
    "As shown, the personalized recommendation list features popular restaurants (over 100 reviews) in the low-to-mid price range, featuring american style cuisines (pizza, burger), located in Arizona. These are very personalized recommendations based on the user's history of 120 restaurant reviews."
   ]
  },
  {
   "cell_type": "code",
   "execution_count": null,
   "metadata": {},
   "outputs": [],
   "source": []
  }
 ],
 "metadata": {
  "kernelspec": {
   "display_name": "Python 3",
   "language": "python",
   "name": "python3"
  },
  "language_info": {
   "codemirror_mode": {
    "name": "ipython",
    "version": 3
   },
   "file_extension": ".py",
   "mimetype": "text/x-python",
   "name": "python",
   "nbconvert_exporter": "python",
   "pygments_lexer": "ipython3",
   "version": "3.6.5"
  }
 },
 "nbformat": 4,
 "nbformat_minor": 2
}
