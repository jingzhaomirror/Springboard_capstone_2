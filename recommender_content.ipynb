{
 "cells": [
  {
   "cell_type": "markdown",
   "metadata": {},
   "source": [
    "**Recommender system - personalized content-based module:**<br>\n",
    "\n",
    "With user ID and restaurant’s metadata and restaurant reviews, build a content based filtering recommender module that recommends restaurants that are similar to user’s preference inferred from user’s past ratings. More specifically, pairwise similarity scores will be computed for restaurants based on their vectorized feature representation extracted using CountVectorizer or TfidfVectorizer and recommend restaurants based on rankings of the weighted similarity score (e.g. cosine similarity). The important restaurant metadata to consider include categories, attributes, location.<br>\n",
    "\n",
    "**Metrics chosen for evaluating the cosine-similarity ranking:**<br>\n",
    "NDCG (Normalized Discounted Cumulative Gain), which works well with relevance scores in the form of real numbers (binary, integar or float), in this case, review ratings of 1-5, is chosen over MAP (Mean average precision), which assumes only binary relevance (interesting or not, click or not). \n",
    "\n",
    "**Note:**<br> \n",
    "Only a subset of Yelp restaurants from a few selected states are available in this dataset. Among them, only Arizona, Nevada, Ohio, North Carolina and Pennsylvania have a rich catalog of over 5000 restaurants. \n",
    "Only the top two states, Arizona and Nevada have over 10000 restaurants. "
   ]
  },
  {
   "cell_type": "code",
   "execution_count": 1,
   "metadata": {},
   "outputs": [
    {
     "name": "stderr",
     "output_type": "stream",
     "text": [
      "/anaconda3/lib/python3.6/importlib/_bootstrap.py:219: RuntimeWarning: numpy.dtype size changed, may indicate binary incompatibility. Expected 96, got 88\n",
      "  return f(*args, **kwds)\n",
      "/anaconda3/lib/python3.6/importlib/_bootstrap.py:219: RuntimeWarning: numpy.dtype size changed, may indicate binary incompatibility. Expected 96, got 88\n",
      "  return f(*args, **kwds)\n"
     ]
    }
   ],
   "source": [
    "import pandas as pd\n",
    "import numpy as np\n",
    "%matplotlib inline\n",
    "import matplotlib.pyplot as plt\n",
    "\n",
    "import pickle\n",
    "from tqdm import tqdm\n",
    "\n",
    "business = pd.read_csv('business_clean.csv')  # contains business data including location data, attributes and categories\n",
    "#user = pd.read_csv('user_clean.csv') # contains users data including the user's friend mapping and all the metadata associated with the user\n",
    "review = pd.read_csv('review_clean.csv') # contains full review text data including the user_id that wrote the review and the business_id the review is written for\n",
    "#tip = pd.read_csv('tip_clean.csv') # tips written by a user on a business, tips are shorter than reviews and tend to convey quick suggestions\n",
    "#checkin = pd.read_csv('checkin_clean.csv') # checkins on a business"
   ]
  },
  {
   "cell_type": "markdown",
   "metadata": {},
   "source": [
    "# 1. Adjusted rating"
   ]
  },
  {
   "cell_type": "markdown",
   "metadata": {},
   "source": [
    "Here, a single metric is introduced as a substitute of the original average restaurant rating ('stars' column of the business dataframe). Ideally, the new metric should take into consideration: <br>\n",
    "1) average rating of the restaurant (indicates the goodness of the restaurant, but does not consider popularity) <br>\n",
    "2) # of ratings by users (indicates popularity, but does not imply the goodness of the restaurant) <br>\n",
    "3) age of the rating (indicates the relevance of the rating, as outdated ratings might fail to indicate the actual quality)<br>\n",
    "\n",
    "The proposed new score is: \n",
    "$$score_i = \\frac{\\sum_u r_{ui} + k*\\mu}{n_i+k}$$\n",
    "\n",
    "where $r_ui$ is the rating on item i by user u, $n_i$ is the number of rating on item i, $\\mu$ is the global mean of ratings over all businesses and all users and k is the strength of the damping term.\n",
    "\n",
    "As the equation shows, the adjusted score uses the mechanism of the damped mean to regulate the extreme cases of having only a few extreme ratings. k controls the strength of the damping effect: the larger k is, the more actual ratings are required to overcome the global mean.\n",
    "\n",
    "In this case, k is set to 4 (which is the 10% quantile of the review counts for all businesses), but it can be tuned according to various business considerations.  \n",
    "\n",
    "Note:<br> \n",
    "Here, the age of the rating is not adjusted in the current version of the proposed metric. This is because 90% of the reviews/ratings are from year 2011 and later, and are considered quite relevant. Therefore, the need of adjusting for the age of the ratings is not strong."
   ]
  },
  {
   "cell_type": "code",
   "execution_count": 2,
   "metadata": {},
   "outputs": [
    {
     "name": "stdout",
     "output_type": "stream",
     "text": [
      "global mean rating is: 3.7277814701620127\n"
     ]
    }
   ],
   "source": [
    "# compute globe mean ratings of all businesses and all reviews\n",
    "globe_mean = ((business.stars * business.review_count).sum())/(business.review_count.sum())\n",
    "print(\"global mean rating is:\", globe_mean)"
   ]
  },
  {
   "cell_type": "code",
   "execution_count": 3,
   "metadata": {},
   "outputs": [
    {
     "name": "stdout",
     "output_type": "stream",
     "text": [
      "0.10      4.0\n",
      "0.25      8.0\n",
      "0.50     22.0\n",
      "0.75     66.0\n",
      "0.90    172.0\n",
      "Name: review_count, dtype: float64\n",
      "\n",
      "rank by the adjusted score in descending order:\n",
      "       review_count  stars  adjusted_score\n",
      "7464           1746    5.0        4.984169\n",
      "31910          1380    5.0        4.980037\n",
      "45401           547    5.0        4.950811\n",
      "7784            520    5.0        4.948360\n",
      "28162           472    5.0        4.943342\n",
      "\n",
      "rank by the original score in descending order:\n",
      "       review_count  stars  adjusted_score\n",
      "22115             7    5.0        4.034869\n",
      "23114             5    5.0        3.963377\n",
      "42990             5    5.0        3.963377\n",
      "42989            16    5.0        4.263452\n",
      "12778             3    5.0        3.880448\n",
      "\n",
      "rank by the least number of reviews:\n",
      "       review_count  stars  adjusted_score\n",
      "0                 3    4.5        3.820448\n",
      "5707              3    4.0        3.760448\n",
      "16594             3    4.0        3.760448\n",
      "5699              3    3.5        3.700448\n",
      "16605             3    3.5        3.700448\n"
     ]
    }
   ],
   "source": [
    "print(business.review_count.quantile([0.1,0.25,0.5,0.75,0.9]))\n",
    "k = 22 # set strength k to 22, which is the 50% quantile of the review counts for all businesses\n",
    "business['adjusted_score'] = (business.review_count * business.stars + k * globe_mean)/(business.review_count + k)\n",
    "print(\"\\nrank by the adjusted score in descending order:\")\n",
    "print(business[['review_count','stars','adjusted_score']].sort_values('adjusted_score', ascending=False).head(5))\n",
    "print(\"\\nrank by the original score in descending order:\")\n",
    "print(business[['review_count','stars','adjusted_score']].sort_values('stars', ascending=False).head(5))\n",
    "print(\"\\nrank by the least number of reviews:\")\n",
    "print(business[['review_count','stars','adjusted_score']].sort_values('review_count', ascending=True).head(5))"
   ]
  },
  {
   "cell_type": "markdown",
   "metadata": {},
   "source": [
    "# 2. Train-test-split"
   ]
  },
  {
   "cell_type": "markdown",
   "metadata": {},
   "source": [
    "## 2.1 extract subset of 'review' dataframe for reviews related to restaurant businesses"
   ]
  },
  {
   "cell_type": "code",
   "execution_count": 4,
   "metadata": {},
   "outputs": [
    {
     "name": "stdout",
     "output_type": "stream",
     "text": [
      "5996995 3469589\n",
      "CPU times: user 4.76 s, sys: 12 s, total: 16.8 s\n",
      "Wall time: 22.9 s\n"
     ]
    }
   ],
   "source": [
    "%%time\n",
    "\n",
    "# extract a subset of reviews related to the restaurant business of our interest\n",
    "review_s = review[review.business_id.isin(business.business_id.unique())].reset_index(drop=True)\n",
    "print(len(review), len(review_s))"
   ]
  },
  {
   "cell_type": "markdown",
   "metadata": {},
   "source": [
    "note: this reduces the number of the review records in the 'review' dataframe from 5,996,995 down to 3,469,589. "
   ]
  },
  {
   "cell_type": "markdown",
   "metadata": {},
   "source": [
    "## 2.2 Initialize with a random train-test-split"
   ]
  },
  {
   "cell_type": "code",
   "execution_count": 5,
   "metadata": {},
   "outputs": [
    {
     "name": "stdout",
     "output_type": "stream",
     "text": [
      "CPU times: user 6.45 s, sys: 8.03 s, total: 14.5 s\n",
      "Wall time: 20.6 s\n"
     ]
    }
   ],
   "source": [
    "%%time\n",
    "\n",
    "# shuffle the index of review_s for random split\n",
    "np.random.seed(42)\n",
    "idx = np.array(review_s.index, dtype='int')\n",
    "np.random.shuffle(idx)\n",
    "\n",
    "# start with a train-test-split by 87%-13% ratio\n",
    "train = review_s.loc[idx[:int(0.87*len(idx))]]\n",
    "test = review_s.loc[idx[int(0.87*len(idx)):]]"
   ]
  },
  {
   "cell_type": "code",
   "execution_count": 6,
   "metadata": {},
   "outputs": [
    {
     "data": {
      "text/plain": [
       "6.692300358942638"
      ]
     },
     "execution_count": 6,
     "metadata": {},
     "output_type": "execute_result"
    }
   ],
   "source": [
    "len(train)/len(test)"
   ]
  },
  {
   "cell_type": "markdown",
   "metadata": {},
   "source": [
    "## 2.3 Move reviews of user_id that only exists in testset back to trainset"
   ]
  },
  {
   "cell_type": "code",
   "execution_count": 6,
   "metadata": {},
   "outputs": [
    {
     "name": "stdout",
     "output_type": "stream",
     "text": [
      "CPU times: user 5.32 s, sys: 9.79 s, total: 15.1 s\n",
      "Wall time: 20.4 s\n"
     ]
    }
   ],
   "source": [
    "%%time\n",
    "# add one review of user_id that only exists in testset back to trainset\n",
    "\n",
    "# determine the idx to move from testset to trainset\n",
    "user_test_only = test[~test.user_id.isin(train.user_id.unique())] # filter testset to reviews by user_id only exists in the testset\n",
    "user_idx_toadd = user_test_only['user_id'].drop_duplicates().index # extract the index of the reviews to add back to the trainset\n",
    "\n",
    "# update the new list of indices for the trainset and testset\n",
    "idx_train = train.index.union(user_idx_toadd)\n",
    "idx_test = review_s.index.difference(idx_train)\n",
    "\n",
    "# update trainset and testset\n",
    "train = review_s.loc[idx_train]\n",
    "test = review_s.loc[idx_test]"
   ]
  },
  {
   "cell_type": "code",
   "execution_count": 8,
   "metadata": {},
   "outputs": [
    {
     "data": {
      "text/plain": [
       "8.206157446593982"
      ]
     },
     "execution_count": 8,
     "metadata": {},
     "output_type": "execute_result"
    }
   ],
   "source": [
    "len(train)/len(test)"
   ]
  },
  {
   "cell_type": "markdown",
   "metadata": {},
   "source": [
    "## 2.4 Move reviews of business_id that only exists in testset back to trainset"
   ]
  },
  {
   "cell_type": "code",
   "execution_count": 7,
   "metadata": {},
   "outputs": [
    {
     "name": "stdout",
     "output_type": "stream",
     "text": [
      "CPU times: user 4.6 s, sys: 14.6 s, total: 19.2 s\n",
      "Wall time: 34.3 s\n"
     ]
    }
   ],
   "source": [
    "%%time\n",
    "# add at least one review of business_id that only exists in testset back to trainset\n",
    "\n",
    "# determine the idx to move from testset to trainset\n",
    "rest_test_only = test[~test.business_id.isin(train.business_id.unique())] # filter testset to reviews by user_id only exists in the testset\n",
    "rest_idx_toadd = rest_test_only['business_id'].drop_duplicates().index # extract the index of the reviews to add back to the trainset\n",
    "\n",
    "# update the new list of indices for the trainset and testset\n",
    "idx_train = train.index.union(rest_idx_toadd)\n",
    "idx_test = review_s.index.difference(idx_train)\n",
    "\n",
    "# update trainset and testset\n",
    "train = review_s.loc[idx_train]\n",
    "test = review_s.loc[idx_test]"
   ]
  },
  {
   "cell_type": "code",
   "execution_count": 8,
   "metadata": {},
   "outputs": [
    {
     "name": "stdout",
     "output_type": "stream",
     "text": [
      "final train/test ratio: 8.20627958564181\n"
     ]
    }
   ],
   "source": [
    "assert (len(train) + len(test)) == len(review_s)\n",
    "# calculate train vs test sample ratio\n",
    "print('final train/test ratio:', len(train)/len(test))"
   ]
  },
  {
   "cell_type": "markdown",
   "metadata": {},
   "source": [
    "As shown, the final trainset vs. testset ratio is 8.2063, corresponding to a 89%-11% train-set split. "
   ]
  },
  {
   "cell_type": "code",
   "execution_count": 9,
   "metadata": {},
   "outputs": [],
   "source": [
    "# temp\n",
    "review = None\n",
    "review_s = None"
   ]
  },
  {
   "cell_type": "markdown",
   "metadata": {},
   "source": [
    "# 3. Building restaurant feature space from restaurant reviews"
   ]
  },
  {
   "cell_type": "markdown",
   "metadata": {},
   "source": [
    "## 3.1 combine reviews for each restaurants"
   ]
  },
  {
   "cell_type": "code",
   "execution_count": 11,
   "metadata": {},
   "outputs": [
    {
     "name": "stdout",
     "output_type": "stream",
     "text": [
      "CPU times: user 9.87 s, sys: 31.1 s, total: 40.9 s\n",
      "Wall time: 1min 10s\n"
     ]
    }
   ],
   "source": [
    "%%time\n",
    "\n",
    "# groupby business_id and concatenate all reviews of the same business together, reviews are separated by '###'\n",
    "rev_by_rest = train.groupby('business_id').agg({'review_id': 'count', 'text': lambda i: '###'.join(i)}).rename(columns={'review_id':'review_count','text':'review_combined'})\n",
    "rev_by_rest = rev_by_rest.reset_index()"
   ]
  },
  {
   "cell_type": "code",
   "execution_count": 12,
   "metadata": {},
   "outputs": [],
   "source": [
    "# %%time\n",
    "# this is for training on the entire 'review_s' dataset\n",
    "# # groupby business_id and concatenate all reviews of the same business together, reviews are separated by '###'\n",
    "# rev_by_rest = review_s.groupby('business_id').agg({'review_id': 'count', 'text': lambda i: '###'.join(i)}).rename(columns={'review_id':'review_count','text':'review_combined'})\n",
    "# rev_by_rest = rev_by_rest.reset_index()"
   ]
  },
  {
   "cell_type": "code",
   "execution_count": 12,
   "metadata": {},
   "outputs": [
    {
     "name": "stdout",
     "output_type": "stream",
     "text": [
      "<class 'pandas.core.frame.DataFrame'>\n",
      "RangeIndex: 47553 entries, 0 to 47552\n",
      "Data columns (total 3 columns):\n",
      "business_id        47553 non-null object\n",
      "review_count       47553 non-null int64\n",
      "review_combined    47553 non-null object\n",
      "dtypes: int64(1), object(2)\n",
      "memory usage: 1.1+ MB\n",
      "None\n",
      "              business_id  review_count  \\\n",
      "0  --7zmmkVg-IMGaXbuVd0SQ            47   \n",
      "\n",
      "                                     review_combined  \n",
      "0  Great beer, great place, excellent service fro...  \n"
     ]
    }
   ],
   "source": [
    "print(rev_by_rest.info())\n",
    "print(rev_by_rest.head(1))"
   ]
  },
  {
   "cell_type": "markdown",
   "metadata": {},
   "source": [
    "## 3.2 Tfidf to extract top features from reviews"
   ]
  },
  {
   "cell_type": "code",
   "execution_count": 13,
   "metadata": {},
   "outputs": [
    {
     "name": "stderr",
     "output_type": "stream",
     "text": [
      "/anaconda3/lib/python3.6/importlib/_bootstrap.py:219: RuntimeWarning: numpy.dtype size changed, may indicate binary incompatibility. Expected 96, got 88\n",
      "  return f(*args, **kwds)\n",
      "/anaconda3/lib/python3.6/importlib/_bootstrap.py:219: RuntimeWarning: numpy.dtype size changed, may indicate binary incompatibility. Expected 96, got 88\n",
      "  return f(*args, **kwds)\n",
      "/anaconda3/lib/python3.6/importlib/_bootstrap.py:219: RuntimeWarning: numpy.dtype size changed, may indicate binary incompatibility. Expected 96, got 88\n",
      "  return f(*args, **kwds)\n",
      "/anaconda3/lib/python3.6/importlib/_bootstrap.py:219: RuntimeWarning: numpy.dtype size changed, may indicate binary incompatibility. Expected 96, got 88\n",
      "  return f(*args, **kwds)\n"
     ]
    }
   ],
   "source": [
    "from sklearn.feature_extraction.text import TfidfVectorizer"
   ]
  },
  {
   "cell_type": "code",
   "execution_count": 14,
   "metadata": {},
   "outputs": [
    {
     "name": "stdout",
     "output_type": "stream",
     "text": [
      "['00', '10', '10 minutes', '100', '11', '12', '15', '15 minutes', '20', '20 minutes', '25', '30', '30 minutes', '40', '45', '50', '99', 'able', 'absolutely', 'actually', 'add', 'added', 'addition', 'afternoon', 'ago', 'ahead', 'airport', 'amazing', 'ambiance', 'american', 'apparently', 'appetizer', 'appetizers', 'area', 'aren', 'arrived', 'asada', 'asian', 'ask', 'asked', 'asking', 'ate', 'atmosphere', 'attention', 'attentive', 'attitude', 'authentic', 'available', 'average', 'avocado']\n",
      "(47553, 1000)\n",
      "CPU times: user 9min 19s, sys: 1min 7s, total: 10min 26s\n",
      "Wall time: 11min 26s\n"
     ]
    }
   ],
   "source": [
    "%%time\n",
    "\n",
    "vectorizer = TfidfVectorizer(stop_words='english', ngram_range=(1, 2), max_features=1000) # limit to top 1000 words\n",
    "X = vectorizer.fit_transform(rev_by_rest.review_combined)\n",
    "print(vectorizer.get_feature_names()[:50])\n",
    "print(X.shape)"
   ]
  },
  {
   "cell_type": "code",
   "execution_count": 15,
   "metadata": {},
   "outputs": [],
   "source": [
    "rest_revfeature = pd.SparseDataFrame(X)\n",
    "rest_revfeature = rest_revfeature.set_index(rev_by_rest.business_id)\n",
    "rest_revfeature.columns = vectorizer.get_feature_names()\n",
    "rest_revfeature = rest_revfeature.fillna(0) # fill in missing values with 0 to use PCA"
   ]
  },
  {
   "cell_type": "code",
   "execution_count": 16,
   "metadata": {},
   "outputs": [
    {
     "name": "stdout",
     "output_type": "stream",
     "text": [
      "10 minutes\n",
      "15 minutes\n",
      "20 minutes\n",
      "30 minutes\n",
      "best ve\n",
      "customer service\n",
      "definitely recommend\n",
      "don know\n",
      "don think\n",
      "fast food\n",
      "feel like\n",
      "felt like\n",
      "food amazing\n",
      "food came\n",
      "food delicious\n",
      "food good\n",
      "food great\n",
      "food just\n",
      "food service\n",
      "fried chicken\n",
      "fried rice\n",
      "friendly staff\n",
      "good food\n",
      "good place\n",
      "good service\n",
      "great food\n",
      "great place\n",
      "great service\n",
      "happy hour\n",
      "highly recommend\n",
      "ice cream\n",
      "just right\n",
      "las vegas\n",
      "little bit\n",
      "long time\n",
      "looked like\n",
      "love place\n",
      "mac cheese\n",
      "make sure\n",
      "mexican food\n",
      "place great\n",
      "pretty good\n",
      "quality food\n",
      "really enjoyed\n",
      "really good\n",
      "really nice\n",
      "recommend place\n",
      "right away\n",
      "service excellent\n",
      "service food\n",
      "service good\n",
      "service great\n",
      "staff friendly\n",
      "super friendly\n",
      "tasted like\n",
      "try place\n",
      "ve tried\n",
      "wait staff\n"
     ]
    }
   ],
   "source": [
    "# look at the bigrams being picked up in the top 1000 features\n",
    "for i in rest_revfeature.columns:\n",
    "    if len(i.split())>1:\n",
    "        print(i)"
   ]
  },
  {
   "cell_type": "markdown",
   "metadata": {},
   "source": [
    "## 3.3 feature reduction with PCA"
   ]
  },
  {
   "cell_type": "code",
   "execution_count": 17,
   "metadata": {},
   "outputs": [
    {
     "name": "stderr",
     "output_type": "stream",
     "text": [
      "/anaconda3/lib/python3.6/importlib/_bootstrap.py:219: RuntimeWarning: numpy.dtype size changed, may indicate binary incompatibility. Expected 96, got 88\n",
      "  return f(*args, **kwds)\n"
     ]
    }
   ],
   "source": [
    "# feature selection\n",
    "from sklearn.decomposition import PCA\n",
    "\n",
    "pca = PCA()\n",
    "rest_pcafeature = pca.fit_transform(rest_revfeature)\n",
    "vr = pca.explained_variance_ratio_"
   ]
  },
  {
   "cell_type": "code",
   "execution_count": 18,
   "metadata": {},
   "outputs": [
    {
     "data": {
      "image/png": "[encoded data removed]",
      "text/plain": [
       "<Figure size 432x288 with 1 Axes>"
      ]
     },
     "metadata": {},
     "output_type": "display_data"
    }
   ],
   "source": [
    "# compute cumulative explained variance ratio\n",
    "vr_cum = [sum(vr[:i+1]) for i in range(len(vr))]\n",
    "# plot explained variance ratio vs the number of PCA components\n",
    "plt.plot(list(range(len(vr))),vr_cum, color='blue'); "
   ]
  },
  {
   "cell_type": "markdown",
   "metadata": {},
   "source": [
    "As shown, the first 300 PCA components are responsible for the 80% of the variation. Therefore, the first 300 components will be kept as the restaurant features and the rest less relevant components will be dropped. "
   ]
  },
  {
   "cell_type": "code",
   "execution_count": 19,
   "metadata": {
    "scrolled": false
   },
   "outputs": [
    {
     "name": "stdout",
     "output_type": "stream",
     "text": [
      "principle component #0:\n",
      " pizza       0.750790\n",
      "crust       0.106085\n",
      "pizzas      0.081179\n",
      "delivery    0.077048\n",
      "toppings    0.045206\n",
      "Name: 0, dtype: float64\n",
      "principle component #1:\n",
      " pizza      0.537485\n",
      "food       0.374550\n",
      "good       0.184521\n",
      "chicken    0.169766\n",
      "ordered    0.134355\n",
      "Name: 1, dtype: float64\n",
      "principle component #2:\n",
      " bar       0.439833\n",
      "beer      0.216703\n",
      "great     0.168844\n",
      "drinks    0.168225\n",
      "night     0.152813\n",
      "Name: 2, dtype: float64\n",
      "principle component #3:\n",
      " coffee       0.343310\n",
      "sandwich     0.255072\n",
      "order        0.199278\n",
      "breakfast    0.185238\n",
      "location     0.178457\n",
      "Name: 3, dtype: float64\n",
      "principle component #4:\n",
      " hotel    0.384352\n",
      "room     0.335998\n",
      "rooms    0.193565\n",
      "stay     0.182034\n",
      "desk     0.155869\n",
      "Name: 4, dtype: float64\n",
      "principle component #5:\n",
      " tacos      0.350580\n",
      "mexican    0.284093\n",
      "taco       0.267722\n",
      "burrito    0.220602\n",
      "salsa      0.211116\n",
      "Name: 5, dtype: float64\n",
      "principle component #6:\n",
      " coffee       0.498896\n",
      "breakfast    0.237049\n",
      "mexican      0.193652\n",
      "tacos        0.169988\n",
      "salsa        0.136427\n",
      "Name: 6, dtype: float64\n",
      "principle component #7:\n",
      " ice cream    0.298819\n",
      "ice          0.263988\n",
      "cream        0.255111\n",
      "sandwich     0.134278\n",
      "hotel        0.127954\n",
      "Name: 7, dtype: float64\n",
      "principle component #8:\n",
      " ice cream    0.354574\n",
      "ice          0.338262\n",
      "cream        0.307529\n",
      "sushi        0.284077\n",
      "service      0.145254\n",
      "Name: 8, dtype: float64\n",
      "principle component #9:\n",
      " sushi         0.387400\n",
      "sandwich      0.345523\n",
      "bread         0.179009\n",
      "sandwiches    0.168693\n",
      "sub           0.136489\n",
      "Name: 9, dtype: float64\n"
     ]
    }
   ],
   "source": [
    "# extract all PCA components \n",
    "components = pd.DataFrame(data=pca.components_, columns = rest_revfeature.columns)\n",
    "\n",
    "# inspect the top 10 PCA components, in relationship to the original review features\n",
    "for i in range(10):\n",
    "    component = components.loc[i].sort_values(ascending=False)\n",
    "    print(\"principle component #{}:\\n\".format(i), component[:5])"
   ]
  },
  {
   "cell_type": "code",
   "execution_count": 20,
   "metadata": {},
   "outputs": [],
   "source": [
    "rest_pcafeature = pd.DataFrame(rest_pcafeature[:,:300], index=rest_revfeature.index, columns=[str(i) for i in np.arange(1,301)])\n",
    "rest_pcafeature.columns.name = 'pca_components'"
   ]
  },
  {
   "cell_type": "code",
   "execution_count": 21,
   "metadata": {
    "scrolled": true
   },
   "outputs": [],
   "source": [
    "# rescale rest_pcafeature coefficients so all restaurant feature vectors share the same unit length of 1\n",
    "rest_pcafeature['root_squared_sum'] = rest_pcafeature.apply(lambda row: np.sqrt(sum([i*i for i in row])), axis=1)\n",
    "rest_pcafeature = rest_pcafeature.drop('root_squared_sum',axis=1).divide(rest_pcafeature.root_squared_sum, axis=0)"
   ]
  },
  {
   "cell_type": "code",
   "execution_count": 22,
   "metadata": {},
   "outputs": [
    {
     "data": {
      "text/html": [
       "<div>\n",
       "<style scoped>\n",
       "    .dataframe tbody tr th:only-of-type {\n",
       "        vertical-align: middle;\n",
       "    }\n",
       "\n",
       "    .dataframe tbody tr th {\n",
       "        vertical-align: top;\n",
       "    }\n",
       "\n",
       "    .dataframe thead th {\n",
       "        text-align: right;\n",
       "    }\n",
       "</style>\n",
       "<table border=\"1\" class=\"dataframe\">\n",
       "  <thead>\n",
       "    <tr style=\"text-align: right;\">\n",
       "      <th>pca_components</th>\n",
       "      <th>1</th>\n",
       "      <th>2</th>\n",
       "      <th>3</th>\n",
       "      <th>4</th>\n",
       "      <th>5</th>\n",
       "      <th>6</th>\n",
       "      <th>7</th>\n",
       "      <th>8</th>\n",
       "      <th>9</th>\n",
       "      <th>10</th>\n",
       "      <th>...</th>\n",
       "      <th>291</th>\n",
       "      <th>292</th>\n",
       "      <th>293</th>\n",
       "      <th>294</th>\n",
       "      <th>295</th>\n",
       "      <th>296</th>\n",
       "      <th>297</th>\n",
       "      <th>298</th>\n",
       "      <th>299</th>\n",
       "      <th>300</th>\n",
       "    </tr>\n",
       "    <tr>\n",
       "      <th>business_id</th>\n",
       "      <th></th>\n",
       "      <th></th>\n",
       "      <th></th>\n",
       "      <th></th>\n",
       "      <th></th>\n",
       "      <th></th>\n",
       "      <th></th>\n",
       "      <th></th>\n",
       "      <th></th>\n",
       "      <th></th>\n",
       "      <th></th>\n",
       "      <th></th>\n",
       "      <th></th>\n",
       "      <th></th>\n",
       "      <th></th>\n",
       "      <th></th>\n",
       "      <th></th>\n",
       "      <th></th>\n",
       "      <th></th>\n",
       "      <th></th>\n",
       "      <th></th>\n",
       "    </tr>\n",
       "  </thead>\n",
       "  <tbody>\n",
       "    <tr>\n",
       "      <th>--7zmmkVg-IMGaXbuVd0SQ</th>\n",
       "      <td>-0.059117</td>\n",
       "      <td>-0.105398</td>\n",
       "      <td>0.422339</td>\n",
       "      <td>-0.163535</td>\n",
       "      <td>-0.150402</td>\n",
       "      <td>0.154040</td>\n",
       "      <td>-0.049404</td>\n",
       "      <td>-0.074484</td>\n",
       "      <td>-0.119477</td>\n",
       "      <td>-0.036121</td>\n",
       "      <td>...</td>\n",
       "      <td>0.001167</td>\n",
       "      <td>0.012947</td>\n",
       "      <td>-0.003036</td>\n",
       "      <td>0.007732</td>\n",
       "      <td>0.030837</td>\n",
       "      <td>0.013390</td>\n",
       "      <td>0.017888</td>\n",
       "      <td>0.001863</td>\n",
       "      <td>0.008954</td>\n",
       "      <td>-0.018501</td>\n",
       "    </tr>\n",
       "    <tr>\n",
       "      <th>--9e1ONYQuAa-CB_Rrw7Tw</th>\n",
       "      <td>-0.253481</td>\n",
       "      <td>0.189959</td>\n",
       "      <td>0.154282</td>\n",
       "      <td>-0.046448</td>\n",
       "      <td>-0.096910</td>\n",
       "      <td>-0.162727</td>\n",
       "      <td>0.100155</td>\n",
       "      <td>0.234075</td>\n",
       "      <td>0.187176</td>\n",
       "      <td>0.115527</td>\n",
       "      <td>...</td>\n",
       "      <td>0.008941</td>\n",
       "      <td>0.002228</td>\n",
       "      <td>0.016030</td>\n",
       "      <td>-0.005315</td>\n",
       "      <td>-0.000960</td>\n",
       "      <td>0.005053</td>\n",
       "      <td>-0.014484</td>\n",
       "      <td>0.009511</td>\n",
       "      <td>-0.013295</td>\n",
       "      <td>-0.006675</td>\n",
       "    </tr>\n",
       "  </tbody>\n",
       "</table>\n",
       "<p>2 rows × 300 columns</p>\n",
       "</div>"
      ],
      "text/plain": [
       "pca_components                 1         2         3         4         5  \\\n",
       "business_id                                                                \n",
       "--7zmmkVg-IMGaXbuVd0SQ -0.059117 -0.105398  0.422339 -0.163535 -0.150402   \n",
       "--9e1ONYQuAa-CB_Rrw7Tw -0.253481  0.189959  0.154282 -0.046448 -0.096910   \n",
       "\n",
       "pca_components                 6         7         8         9        10  \\\n",
       "business_id                                                                \n",
       "--7zmmkVg-IMGaXbuVd0SQ  0.154040 -0.049404 -0.074484 -0.119477 -0.036121   \n",
       "--9e1ONYQuAa-CB_Rrw7Tw -0.162727  0.100155  0.234075  0.187176  0.115527   \n",
       "\n",
       "pca_components            ...          291       292       293       294  \\\n",
       "business_id               ...                                              \n",
       "--7zmmkVg-IMGaXbuVd0SQ    ...     0.001167  0.012947 -0.003036  0.007732   \n",
       "--9e1ONYQuAa-CB_Rrw7Tw    ...     0.008941  0.002228  0.016030 -0.005315   \n",
       "\n",
       "pca_components               295       296       297       298       299  \\\n",
       "business_id                                                                \n",
       "--7zmmkVg-IMGaXbuVd0SQ  0.030837  0.013390  0.017888  0.001863  0.008954   \n",
       "--9e1ONYQuAa-CB_Rrw7Tw -0.000960  0.005053 -0.014484  0.009511 -0.013295   \n",
       "\n",
       "pca_components               300  \n",
       "business_id                       \n",
       "--7zmmkVg-IMGaXbuVd0SQ -0.018501  \n",
       "--9e1ONYQuAa-CB_Rrw7Tw -0.006675  \n",
       "\n",
       "[2 rows x 300 columns]"
      ]
     },
     "execution_count": 22,
     "metadata": {},
     "output_type": "execute_result"
    }
   ],
   "source": [
    "rest_pcafeature.head(2)"
   ]
  },
  {
   "cell_type": "markdown",
   "metadata": {},
   "source": [
    "## 3.4 compute user feature vector"
   ]
  },
  {
   "cell_type": "code",
   "execution_count": 23,
   "metadata": {
    "scrolled": true
   },
   "outputs": [
    {
     "name": "stdout",
     "output_type": "stream",
     "text": [
      "CPU times: user 9.96 s, sys: 18.6 s, total: 28.5 s\n",
      "Wall time: 39.7 s\n"
     ]
    }
   ],
   "source": [
    "%%time\n",
    "\n",
    "# build user preference profile by compute a weighted sum of the restaurant vectors for all rated items by the user, with weights being the user’s rating\n",
    "user_pcafeature = pd.merge(train[['user_id','business_id','stars']], rest_pcafeature, how='inner',left_on='business_id',right_index=True).drop('business_id', axis=1)"
   ]
  },
  {
   "cell_type": "code",
   "execution_count": 25,
   "metadata": {},
   "outputs": [],
   "source": [
    "# %%time\n",
    "# this is for training on entire 'review_s' dataset\n",
    "# # build user preference profile by compute a weighted sum of the restaurant vectors for all rated items by the user, with weights being the user’s rating\n",
    "# user_pcafeature = pd.merge(review_s[['user_id','business_id','stars']], rest_pcafeature, how='inner',left_on='business_id',right_index=True).drop('business_id', axis=1)"
   ]
  },
  {
   "cell_type": "code",
   "execution_count": 24,
   "metadata": {},
   "outputs": [
    {
     "name": "stdout",
     "output_type": "stream",
     "text": [
      "CPU times: user 18.4 s, sys: 58 s, total: 1min 16s\n",
      "Wall time: 1min 46s\n"
     ]
    }
   ],
   "source": [
    "%%time\n",
    "\n",
    "# rescale component coefficients by the review rating as the correpsonding weight\n",
    "user_pcafeature.loc[:, '1':'300'] = user_pcafeature.loc[:,'1':'300'].multiply(user_pcafeature.stars, axis=0)"
   ]
  },
  {
   "cell_type": "code",
   "execution_count": 25,
   "metadata": {},
   "outputs": [
    {
     "name": "stdout",
     "output_type": "stream",
     "text": [
      "CPU times: user 49.8 s, sys: 3min 14s, total: 4min 4s\n",
      "Wall time: 10min 1s\n"
     ]
    }
   ],
   "source": [
    "%%time\n",
    "\n",
    "# sum up all component coefficients by user_id\n",
    "user_pcafeature = user_pcafeature.drop('stars', axis=1).groupby('user_id').sum()\n",
    "user_pcafeature.head(2)"
   ]
  },
  {
   "cell_type": "code",
   "execution_count": 26,
   "metadata": {},
   "outputs": [
    {
     "name": "stdout",
     "output_type": "stream",
     "text": [
      "CPU times: user 56.5 s, sys: 24.5 s, total: 1min 20s\n",
      "Wall time: 1min 47s\n"
     ]
    }
   ],
   "source": [
    "%%time\n",
    "\n",
    "# rescale user_pcafeature coefficients so all user feature vectors share the same unit length of 1\n",
    "user_pcafeature['root_squared_sum'] = user_pcafeature.apply(lambda row: np.sqrt(sum([i*i for i in row])), axis=1)\n",
    "user_pcafeature = user_pcafeature.drop('root_squared_sum', axis=1).divide(user_pcafeature.root_squared_sum, axis=0)"
   ]
  },
  {
   "cell_type": "code",
   "execution_count": 27,
   "metadata": {},
   "outputs": [
    {
     "data": {
      "text/html": [
       "<div>\n",
       "<style scoped>\n",
       "    .dataframe tbody tr th:only-of-type {\n",
       "        vertical-align: middle;\n",
       "    }\n",
       "\n",
       "    .dataframe tbody tr th {\n",
       "        vertical-align: top;\n",
       "    }\n",
       "\n",
       "    .dataframe thead th {\n",
       "        text-align: right;\n",
       "    }\n",
       "</style>\n",
       "<table border=\"1\" class=\"dataframe\">\n",
       "  <thead>\n",
       "    <tr style=\"text-align: right;\">\n",
       "      <th></th>\n",
       "      <th>1</th>\n",
       "      <th>2</th>\n",
       "      <th>3</th>\n",
       "      <th>4</th>\n",
       "      <th>5</th>\n",
       "      <th>6</th>\n",
       "      <th>7</th>\n",
       "      <th>8</th>\n",
       "      <th>9</th>\n",
       "      <th>10</th>\n",
       "      <th>...</th>\n",
       "      <th>291</th>\n",
       "      <th>292</th>\n",
       "      <th>293</th>\n",
       "      <th>294</th>\n",
       "      <th>295</th>\n",
       "      <th>296</th>\n",
       "      <th>297</th>\n",
       "      <th>298</th>\n",
       "      <th>299</th>\n",
       "      <th>300</th>\n",
       "    </tr>\n",
       "    <tr>\n",
       "      <th>user_id</th>\n",
       "      <th></th>\n",
       "      <th></th>\n",
       "      <th></th>\n",
       "      <th></th>\n",
       "      <th></th>\n",
       "      <th></th>\n",
       "      <th></th>\n",
       "      <th></th>\n",
       "      <th></th>\n",
       "      <th></th>\n",
       "      <th></th>\n",
       "      <th></th>\n",
       "      <th></th>\n",
       "      <th></th>\n",
       "      <th></th>\n",
       "      <th></th>\n",
       "      <th></th>\n",
       "      <th></th>\n",
       "      <th></th>\n",
       "      <th></th>\n",
       "      <th></th>\n",
       "    </tr>\n",
       "  </thead>\n",
       "  <tbody>\n",
       "    <tr>\n",
       "      <th>---1lKK3aKOuomHnwAkAow</th>\n",
       "      <td>-0.127453</td>\n",
       "      <td>0.277403</td>\n",
       "      <td>0.20038</td>\n",
       "      <td>-0.093381</td>\n",
       "      <td>-0.248164</td>\n",
       "      <td>-0.077411</td>\n",
       "      <td>0.217152</td>\n",
       "      <td>0.257582</td>\n",
       "      <td>0.218357</td>\n",
       "      <td>0.167718</td>\n",
       "      <td>...</td>\n",
       "      <td>0.006834</td>\n",
       "      <td>0.006594</td>\n",
       "      <td>-0.020860</td>\n",
       "      <td>-0.001917</td>\n",
       "      <td>0.010947</td>\n",
       "      <td>0.012562</td>\n",
       "      <td>0.009829</td>\n",
       "      <td>-0.006487</td>\n",
       "      <td>0.009611</td>\n",
       "      <td>-0.020761</td>\n",
       "    </tr>\n",
       "    <tr>\n",
       "      <th>---89pEy_h9PvHwcHNbpyg</th>\n",
       "      <td>-0.282799</td>\n",
       "      <td>0.142310</td>\n",
       "      <td>0.55229</td>\n",
       "      <td>-0.139603</td>\n",
       "      <td>-0.098204</td>\n",
       "      <td>0.213660</td>\n",
       "      <td>-0.045450</td>\n",
       "      <td>-0.170433</td>\n",
       "      <td>-0.015855</td>\n",
       "      <td>-0.057000</td>\n",
       "      <td>...</td>\n",
       "      <td>-0.006070</td>\n",
       "      <td>0.022393</td>\n",
       "      <td>-0.009297</td>\n",
       "      <td>0.005656</td>\n",
       "      <td>0.003809</td>\n",
       "      <td>-0.010870</td>\n",
       "      <td>0.028299</td>\n",
       "      <td>-0.009836</td>\n",
       "      <td>-0.010688</td>\n",
       "      <td>-0.014143</td>\n",
       "    </tr>\n",
       "  </tbody>\n",
       "</table>\n",
       "<p>2 rows × 300 columns</p>\n",
       "</div>"
      ],
      "text/plain": [
       "                               1         2        3         4         5  \\\n",
       "user_id                                                                   \n",
       "---1lKK3aKOuomHnwAkAow -0.127453  0.277403  0.20038 -0.093381 -0.248164   \n",
       "---89pEy_h9PvHwcHNbpyg -0.282799  0.142310  0.55229 -0.139603 -0.098204   \n",
       "\n",
       "                               6         7         8         9        10  \\\n",
       "user_id                                                                    \n",
       "---1lKK3aKOuomHnwAkAow -0.077411  0.217152  0.257582  0.218357  0.167718   \n",
       "---89pEy_h9PvHwcHNbpyg  0.213660 -0.045450 -0.170433 -0.015855 -0.057000   \n",
       "\n",
       "                          ...          291       292       293       294  \\\n",
       "user_id                   ...                                              \n",
       "---1lKK3aKOuomHnwAkAow    ...     0.006834  0.006594 -0.020860 -0.001917   \n",
       "---89pEy_h9PvHwcHNbpyg    ...    -0.006070  0.022393 -0.009297  0.005656   \n",
       "\n",
       "                             295       296       297       298       299  \\\n",
       "user_id                                                                    \n",
       "---1lKK3aKOuomHnwAkAow  0.010947  0.012562  0.009829 -0.006487  0.009611   \n",
       "---89pEy_h9PvHwcHNbpyg  0.003809 -0.010870  0.028299 -0.009836 -0.010688   \n",
       "\n",
       "                             300  \n",
       "user_id                           \n",
       "---1lKK3aKOuomHnwAkAow -0.020761  \n",
       "---89pEy_h9PvHwcHNbpyg -0.014143  \n",
       "\n",
       "[2 rows x 300 columns]"
      ]
     },
     "execution_count": 27,
     "metadata": {},
     "output_type": "execute_result"
    }
   ],
   "source": [
    "user_pcafeature.head(2)"
   ]
  },
  {
   "cell_type": "markdown",
   "metadata": {},
   "source": [
    "### Discussions on the weights to use for aggregating users' preference from review ratings: \n",
    "\n",
    "As shown above, the weights used here for aggregating users' preference is simply the star ratings the users gave along with the reviews. This does not take into consideration that different users might have different rating criteria and scale, some are more generous and some are more critical. <br>\n",
    "But as discussed below, this is considered a simple and more effective approach than other alternatives in this case."
   ]
  },
  {
   "cell_type": "code",
   "execution_count": 30,
   "metadata": {},
   "outputs": [],
   "source": [
    "# # Alternative #1: use user's review rating of a restaurant minus 3 (the median of a 1-5 star rating system) as the weight of that restaurant\n",
    "# # when computing user feature vector from the weighted sum of restaurant vectors\n",
    "\n",
    "# # rescale component coefficients by the review rating as the correpsonding weight\n",
    "# user_pcafeature.loc[:, '1':'300'] = user_pcafeature.loc[:,'1':'300'].multiply(user_pcafeature.stars-3, axis=0)"
   ]
  },
  {
   "cell_type": "markdown",
   "metadata": {},
   "source": [
    "Note: alternative \\#1 is very similar to the simple star rating as the weights, except that it offsets the weight from positive scale of 1 to 5 to a scale of -2 to 2. Therefore, it does not take into consideration that different users might have different rating criteria and scale either. In addition, the preference indicated by review ratings of 3 is lost because those weights will become 0. Therefore, this alternative method of modifying weights is not adopted here."
   ]
  },
  {
   "cell_type": "code",
   "execution_count": 31,
   "metadata": {},
   "outputs": [],
   "source": [
    "# # Alternative #2: use user's review rating of a restaurant minus the mean rating of the user as the weight of that restaurant\n",
    "# # when computing user feature vector from the weighted sum of restaurant vectors\n",
    "\n",
    "# # compute mean ratings by user\n",
    "# user_mean_rating = train.groupby('user_id').stars.mean().rename(columns={'stars':'user_mean_rating'})\n",
    "# user_pcafeature = pd.merge(user_pcafeature, user_mean_rating, how='inner', left_on='user_id', right_index=True)\n",
    "# weights = user_pcafeature.stars - user_pcafeature.user_mean_rating\n",
    "\n",
    "# # rescale component coefficients by the review rating as the correpsonding weight\n",
    "# user_pcafeature.loc[:, '1':'300'] = user_pcafeature.loc[:,'1':'300'].multiply(weights, axis=0)\n",
    "\n",
    "# # sum up all component coefficients by user_id\n",
    "# user_pcafeature = user_pcafeature.drop(['stars','user_mean_rating'], axis=1).groupby('user_id').sum()\n",
    "# user_pcafeature.head(2)\n",
    "\n",
    "# # rescale user_pcafeature coefficients so all user feature vectors share the same unit length of 1\n",
    "# user_pcafeature['root_squared_sum'] = user_pcafeature.apply(lambda row: np.sqrt(sum([i*i for i in row])), axis=1)\n",
    "# user_pcafeature = user_pcafeature.drop('root_squared_sum', axis=1).divide(user_pcafeature.root_squared_sum, axis=0)"
   ]
  },
  {
   "cell_type": "markdown",
   "metadata": {},
   "source": [
    "Note: although alternative method \\#2 of adjusting the weights takes into consideration that different users might have different rating criteria and scale, some are more generous and some are more critical, it causes potential problems as well: <br>\n",
    "1) some Yelp users only go to Yelp to review restaurants when they have really positive experiences. By substracting the user's mean rating, this strong preference is arbituarily removed.<br>\n",
    "2) similar to 1), some users only reviews when they have really negative experiences, this strong dislikes will be removed by substracting the user mean as well.<br>\n",
    "3) there are a substaintial amount of users (547,561 users) in the 'review' dataset that only has one review/rating in total, these users' preference will be lost since substracting user mean will result in zero weights.<br> \n",
    "Therefore, this alternative method of adjusting weights is not used in this project. "
   ]
  },
  {
   "cell_type": "markdown",
   "metadata": {},
   "source": [
    "## 3.5 Save restaurant pca features and user pca features to file\n",
    "Re-train on entire 'review_s' dataframe instead of just the trainset and save the restaurant feature vectors and user feature vectors to file. \n",
    "\n",
    "Note:<br> \n",
    "the feature vectors from training on the trainset are saved to 'rest_pcafeature_train.pkl' and 'user_pcafeature_train.pkl';<br>\n",
    "the feature vectors from re-training on the entire restaurant review dataset are saved to 'rest_pcafeature_all.pkl' and 'user_pcafeature_all.pkl'."
   ]
  },
  {
   "cell_type": "code",
   "execution_count": 32,
   "metadata": {},
   "outputs": [],
   "source": [
    "import pickle"
   ]
  },
  {
   "cell_type": "code",
   "execution_count": 33,
   "metadata": {},
   "outputs": [
    {
     "name": "stdout",
     "output_type": "stream",
     "text": [
      "CPU times: user 157 ms, sys: 749 ms, total: 905 ms\n",
      "Wall time: 1.78 s\n"
     ]
    }
   ],
   "source": [
    "%%time\n",
    "\n",
    "# save rest_pcafeature as pickled file\n",
    "with open('rest_pcafeature_train.pkl','wb') as f:\n",
    "    pickle.dump(rest_pcafeature, f)"
   ]
  },
  {
   "cell_type": "code",
   "execution_count": 34,
   "metadata": {},
   "outputs": [
    {
     "name": "stdout",
     "output_type": "stream",
     "text": [
      "CPU times: user 5.06 s, sys: 19.6 s, total: 24.6 s\n",
      "Wall time: 50.2 s\n"
     ]
    }
   ],
   "source": [
    "%%time\n",
    "\n",
    "# save user_pcafeature as pickled file, note: need to write in chucks of size smaller than 2GB due to a bug in Python3\n",
    "max_bytes = 2**31 - 1\n",
    "bytes_out = pickle.dumps(user_pcafeature)\n",
    "with open('user_pcafeature_train.pkl','wb') as f:\n",
    "    for idx in range(0, len(bytes_out), max_bytes):\n",
    "        f.write(bytes_out[idx:idx+max_bytes])"
   ]
  },
  {
   "cell_type": "markdown",
   "metadata": {},
   "source": [
    "# 4. Building restaurant feature space from restaurant metadata"
   ]
  },
  {
   "cell_type": "code",
   "execution_count": 11,
   "metadata": {},
   "outputs": [
    {
     "name": "stdout",
     "output_type": "stream",
     "text": [
      "<class 'pandas.core.frame.DataFrame'>\n",
      "RangeIndex: 47553 entries, 0 to 47552\n",
      "Data columns (total 64 columns):\n",
      "attributes.WheelchairAccessible          20673 non-null object\n",
      "hours.Tuesday                            33717 non-null object\n",
      "attributes.BYOBCorkage                   1400 non-null object\n",
      "hours.Monday                             31888 non-null object\n",
      "attributes.AcceptsInsurance              3 non-null object\n",
      "hours.Thursday                           34332 non-null object\n",
      "attributes.HappyHour                     6318 non-null object\n",
      "address                                  46660 non-null object\n",
      "business_id                              47553 non-null object\n",
      "attributes.DietaryRestrictions           92 non-null object\n",
      "hours.Saturday                           33671 non-null object\n",
      "postal_code                              47553 non-null int64\n",
      "attributes.GoodForMeal                   29367 non-null object\n",
      "attributes.Alcohol                       30071 non-null object\n",
      "attributes.HairSpecializesIn             0 non-null float64\n",
      "attributes.NoiseLevel                    26799 non-null object\n",
      "attributes.BusinessParking               37190 non-null object\n",
      "city                                     47553 non-null object\n",
      "attributes.HasTV                         29188 non-null object\n",
      "categories                               47137 non-null object\n",
      "attributes.RestaurantsPriceRange2        41150 non-null float64\n",
      "attributes.CoatCheck                     5719 non-null object\n",
      "attributes.Open24Hours                   288 non-null object\n",
      "name                                     47553 non-null object\n",
      "attributes.RestaurantsReservations       31329 non-null object\n",
      "hours.Friday                             34509 non-null object\n",
      "stars                                    47553 non-null float64\n",
      "attributes.RestaurantsDelivery           31182 non-null object\n",
      "hours.Sunday                             29569 non-null object\n",
      "attributes.AgesAllowed                   251 non-null object\n",
      "attributes.RestaurantsTakeOut            35738 non-null object\n",
      "attributes.Caters                        25428 non-null object\n",
      "hours.Wednesday                          34190 non-null object\n",
      "longitude                                47553 non-null float64\n",
      "attributes.Music                         5920 non-null object\n",
      "attributes.DogsAllowed                   5579 non-null object\n",
      "neighborhood                             15832 non-null object\n",
      "attributes.BikeParking                   30186 non-null object\n",
      "state                                    47553 non-null object\n",
      "attributes.OutdoorSeating                33107 non-null object\n",
      "attributes.RestaurantsGoodForGroups      32730 non-null object\n",
      "hours                                    34778 non-null object\n",
      "latitude                                 47553 non-null float64\n",
      "attributes                               45720 non-null object\n",
      "attributes.RestaurantsCounterService     391 non-null object\n",
      "attributes.BusinessAcceptsCreditCards    43115 non-null object\n",
      "attributes.ByAppointmentOnly             532 non-null object\n",
      "attributes.Ambience                      29307 non-null object\n",
      "attributes.BYOB                          908 non-null object\n",
      "attributes.Corkage                       653 non-null object\n",
      "attributes.RestaurantsTableService       27011 non-null object\n",
      "attributes.DriveThru                     5116 non-null object\n",
      "attributes.BusinessAcceptsBitcoin        4039 non-null object\n",
      "attributes.GoodForKids                   32170 non-null object\n",
      "attributes.WiFi                          29627 non-null object\n",
      "attributes.GoodForDancing                6049 non-null object\n",
      "attributes.BestNights                    4766 non-null object\n",
      "review_count                             47553 non-null int64\n",
      "is_open                                  47553 non-null int64\n",
      "attributes.Smoking                       5361 non-null object\n",
      "attributes.RestaurantsAttire             29590 non-null object\n",
      "cuisine                                  36784 non-null object\n",
      "style                                    37870 non-null object\n",
      "adjusted_score                           47553 non-null float64\n",
      "dtypes: float64(6), int64(3), object(55)\n",
      "memory usage: 23.2+ MB\n"
     ]
    }
   ],
   "source": [
    "business.info()"
   ]
  },
  {
   "cell_type": "markdown",
   "metadata": {},
   "source": [
    "As shown, there are two types of metadata from the 'business' dataset: \n",
    "1) numerical metadata: \n",
    "\n",
    "\n",
    "2) text-based metadata: \n",
    "all other column"
   ]
  },
  {
   "cell_type": "markdown",
   "metadata": {},
   "source": [
    "## 4.1 Transform text-based metadata of restaurants"
   ]
  },
  {
   "cell_type": "markdown",
   "metadata": {},
   "source": [
    "### Drop the 'address' column"
   ]
  },
  {
   "cell_type": "code",
   "execution_count": 206,
   "metadata": {},
   "outputs": [
    {
     "data": {
      "text/plain": [
       "0                                      NaN\n",
       "1          20235 N Cave Creek Rd, Ste 1115\n",
       "2                       1440 N. Dysart Ave\n",
       "3                          2801 N 15th Ave\n",
       "4    3940 Martin Luther King Blvd, Ste 101\n",
       "Name: address, dtype: object"
      ]
     },
     "execution_count": 206,
     "metadata": {},
     "output_type": "execute_result"
    }
   ],
   "source": [
    "business.address.head()"
   ]
  },
  {
   "cell_type": "markdown",
   "metadata": {},
   "source": [
    "As shown, restaurant address typically doesn't contain useful restaurant features, therefore the 'address' column is not used for feature extraction. "
   ]
  },
  {
   "cell_type": "code",
   "execution_count": 5,
   "metadata": {},
   "outputs": [],
   "source": [
    "rest_metadata = business[['business_id','postal_code','city','state','name','neighborhood','categories']]"
   ]
  },
  {
   "cell_type": "markdown",
   "metadata": {},
   "source": [
    "### Transform the 'hours' column"
   ]
  },
  {
   "cell_type": "code",
   "execution_count": 6,
   "metadata": {},
   "outputs": [
    {
     "name": "stderr",
     "output_type": "stream",
     "text": [
      "/anaconda3/lib/python3.6/site-packages/ipykernel_launcher.py:16: SettingWithCopyWarning: \n",
      "A value is trying to be set on a copy of a slice from a DataFrame.\n",
      "Try using .loc[row_indexer,col_indexer] = value instead\n",
      "\n",
      "See the caveats in the documentation: http://pandas.pydata.org/pandas-docs/stable/indexing.html#indexing-view-versus-copy\n",
      "  app.launch_new_instance()\n"
     ]
    },
    {
     "data": {
      "text/plain": [
       "0                               Friday,Saturday,Sunday\n",
       "1    Monday,Tuesday,Wednesday,Thursday,Friday,Satur...\n",
       "2    Monday,Tuesday,Wednesday,Thursday,Friday,Satur...\n",
       "3    Monday,Tuesday,Wednesday,Thursday,Friday,Satur...\n",
       "4           Tuesday,Wednesday,Thursday,Friday,Saturday\n",
       "Name: hours, dtype: object"
      ]
     },
     "execution_count": 6,
     "metadata": {},
     "output_type": "execute_result"
    }
   ],
   "source": [
    "# transform the 'hours' column (and all child columns named 'hours.*')\n",
    "\n",
    "def hours_transform(row):\n",
    "    \"\"\"function to transform and extract information from the 'hours' column (and all child columns named 'hours.*')\n",
    "    of the 'business' dataframe\"\"\"\n",
    "    row.hours = ''\n",
    "    for day in ['Monday','Tuesday','Wednesday','Thursday','Friday','Saturday','Sunday']:\n",
    "        col = 'hours.{}'.format(day)\n",
    "        if row[col] is not np.nan:\n",
    "            row.hours += day + ','\n",
    "    if len(row.hours) > 0:\n",
    "        row.hours = row.hours[:-1] # trim off the extra comma ',' at the end\n",
    "    return row\n",
    "\n",
    "# apply the transform and add the transformed column to rest_metafeature\n",
    "rest_metadata['hours'] = business.apply(hours_transform, axis=1).hours\n",
    "rest_metadata.hours.head()"
   ]
  },
  {
   "cell_type": "markdown",
   "metadata": {},
   "source": [
    "### Transform the 'attributes' columns\n",
    "There are two types of child columns (named 'attributes.*') extracted from the 'attributeds' column:<br>\n",
    "**1) columns with categorical values** child columns belonging to this type are: <br>\n",
    "'WheelchairAccessible', 'HappyHour', 'Alcohol','NoiseLevel', 'HasTV', 'RestaurantsPriceRange2', 'CoatCheck', 'Open24Hours', 'RestaurantsReservations', 'GoodForDancing', 'WiFi', 'RestaurantsAttire', 'RestaurantsDelivery', 'RestaurantsTakeOut', 'Smoking', 'BusinessAcceptsCreditCards', 'BusinessAcceptsBitcoin', 'GoodForKids', 'AgesAllowed', 'Caters', 'DogsAllowed', 'BikeParking', 'OutdoorSeating', 'RestaurantsGoodForGroups', 'RestaurantsCounterService', 'ByAppointmentOnly', 'RestaurantsTableService', 'DriveThru'.<br>\n",
    "For instance, 'attributes.GoodForDancing' column has binary True or False values, 'attribute.NoiseLevel' column take a categorical value from possible values of \\['average','quite','loud','very_loud'\\].\n",
    "\n",
    "**2) columns with dictionaries as values** child columns belonging to this type are: <br>\n",
    "'DietaryRestrictions', 'GoodForMeal', 'BusinessParking', 'BestNights', 'Music', 'Ambience'. <br>\n",
    "All these dictionaries have True or False binary booleans as their values.<br>\n",
    "For instance, 'attributes.GoodForMeal' column contains nested dictionaries with possible key valuess among 'dessert', 'latenight','lunch','dinner','breakfast' and 'brunch', and True or False binary booleans as the values under these keys.<br>\n",
    "\n",
    "In addition, there are three related child columns regarding the 'bring your own bottle' services:\n",
    "These columns are 'attributes.BYOB', 'attributes.Corkage' and 'attributes.BYOBCorkage'. The consistency check among these three columns are performed. "
   ]
  },
  {
   "cell_type": "code",
   "execution_count": 7,
   "metadata": {},
   "outputs": [
    {
     "name": "stdout",
     "output_type": "stream",
     "text": [
      "1409\n"
     ]
    },
    {
     "data": {
      "text/plain": [
       "attributes.BYOBCorkage  attributes.BYOB  attributes.Corkage\n",
       "no                      False            False                  54\n",
       "                                         True                   14\n",
       "yes_corkage             False            True                   57\n",
       "                        True             True                   18\n",
       "yes_free                False            False                 323\n",
       "                                         True                    3\n",
       "                        True             False                  12\n",
       "                                         True                    3\n",
       "Name: business_id, dtype: int64"
      ]
     },
     "execution_count": 7,
     "metadata": {},
     "output_type": "execute_result"
    }
   ],
   "source": [
    "# look at 'BYOB' (bring your own bottle) and 'Corkage' (fee charged for BYOB) related columns\n",
    "print(len(business[['attributes.BYOBCorkage','attributes.BYOB','attributes.Corkage']].dropna(how='all')))\n",
    "business.groupby(['attributes.BYOBCorkage','attributes.BYOB','attributes.Corkage'])['business_id'].count()"
   ]
  },
  {
   "cell_type": "markdown",
   "metadata": {},
   "source": [
    "As shown, data in these three columns are not consistent, and there are only a total of 1409 non-null combinations (3%) out of 47553 entries, therefore information in these columns are not incorporated for analysis."
   ]
  },
  {
   "cell_type": "code",
   "execution_count": 8,
   "metadata": {},
   "outputs": [
    {
     "name": "stdout",
     "output_type": "stream",
     "text": [
      "CPU times: user 40 s, sys: 434 ms, total: 40.5 s\n",
      "Wall time: 41.6 s\n"
     ]
    },
    {
     "name": "stderr",
     "output_type": "stream",
     "text": [
      "/anaconda3/lib/python3.6/site-packages/ipykernel_launcher.py:22: SettingWithCopyWarning: \n",
      "A value is trying to be set on a copy of a slice from a DataFrame.\n",
      "Try using .loc[row_indexer,col_indexer] = value instead\n",
      "\n",
      "See the caveats in the documentation: http://pandas.pydata.org/pandas-docs/stable/indexing.html#indexing-view-versus-copy\n"
     ]
    }
   ],
   "source": [
    "%%time\n",
    "\n",
    "# transform the child columns (named 'attributes.*') with categorical values\n",
    "\n",
    "def attributes_transform_cate(row):\n",
    "    row.attributes=''\n",
    "    \n",
    "    # names of the child columns to be transformed\n",
    "    cat_cols = ['WheelchairAccessible','HappyHour','Alcohol','NoiseLevel','HasTV','RestaurantsPriceRange2','CoatCheck',\\\n",
    "               'Open24Hours','RestaurantsReservations','GoodForDancing','WiFi','RestaurantsAttire','RestaurantsDelivery',\\\n",
    "               'RestaurantsTakeOut','Smoking','BusinessAcceptsCreditCards','BusinessAcceptsBitcoin','GoodForKids',\\\n",
    "                'AgesAllowed','Caters','DogsAllowed','BikeParking','OutdoorSeating','RestaurantsGoodForGroups',\\\n",
    "               'RestaurantsCounterService','ByAppointmentOnly','RestaurantsTableService','DriveThru']\n",
    "    \n",
    "    # transform all child columns with categorical values (binary, or categorical)\n",
    "    for attr in cat_cols:\n",
    "        col = 'attributes.{}'.format(attr)\n",
    "        if row[col] is not np.nan:\n",
    "            row.attributes += attr + '_' + str(row[col]) + ','  \n",
    "\n",
    "    if len(row.attributes) > 0:\n",
    "        row.attributes = row.attributes[:-1]\n",
    "    \n",
    "    return row\n",
    "\n",
    "# apply the transform and add the transformed column as 'attr_cate' to dataframe 'rest_metadata'\n",
    "rest_metadata['attr_cate'] = business.apply(attributes_transform_cate, axis=1).attributes"
   ]
  },
  {
   "cell_type": "code",
   "execution_count": 9,
   "metadata": {},
   "outputs": [
    {
     "name": "stdout",
     "output_type": "stream",
     "text": [
      "CPU times: user 37.4 s, sys: 475 ms, total: 37.9 s\n",
      "Wall time: 39.1 s\n"
     ]
    },
    {
     "name": "stderr",
     "output_type": "stream",
     "text": [
      "/anaconda3/lib/python3.6/site-packages/ipykernel_launcher.py:40: SettingWithCopyWarning: \n",
      "A value is trying to be set on a copy of a slice from a DataFrame.\n",
      "Try using .loc[row_indexer,col_indexer] = value instead\n",
      "\n",
      "See the caveats in the documentation: http://pandas.pydata.org/pandas-docs/stable/indexing.html#indexing-view-versus-copy\n"
     ]
    }
   ],
   "source": [
    "%%time\n",
    "\n",
    "# transform the child columns (named 'attributes.*') with nested dictionaries\n",
    "\n",
    "# note: all the nested dictionaries share a similar format as: {'dessert': False, 'latenight': False, 'lunch': False, 'dinner': False, 'breakfast': False, 'brunch': False}\n",
    "# however, this string can not be parsed by json.loads, not even after replacing single quote ' with double quote \". \n",
    "# Therefore, a customized function is written for parsing the string into a dictionary\n",
    "\n",
    "def convert_to_dict(s):\n",
    "    \"\"\"convert a non-null string of special format to a dictionary\n",
    "    \"\"\"\n",
    "    a = [i.strip() for i in s[1:-1].split(',')] # extract content between '{' and '}' and split by comma ','\n",
    "    b = [i.split(':') for i in a]\n",
    "    for i in b: \n",
    "        i[0] = i[0].strip('\\'')\n",
    "        i[1] = bool(i[1].strip())\n",
    "    return dict(b)\n",
    "\n",
    "\n",
    "def attributes_transform_dict(row):\n",
    "    row.attributes=''\n",
    "    \n",
    "    # names of the child columns to be transformed\n",
    "    dict_cols = ['DietaryRestrictions','GoodForMeal','BusinessParking','BestNights','Music','Ambience']\n",
    "    \n",
    "    # transform child columns with nested dictionaries\n",
    "    for attr in dict_cols:\n",
    "        col = 'attributes.{}'.format(attr)\n",
    "        if row[col] is not np.nan:\n",
    "            row[col] = convert_to_dict(row[col])\n",
    "            for k,v in row[col].items():\n",
    "                if v is not np.nan:\n",
    "                    row.attributes += attr + '_' + k + '_' + str(v) + ',' \n",
    "\n",
    "    if len(row.attributes) > 0:\n",
    "        row.attributes = row.attributes[:-1]\n",
    "    \n",
    "    return row\n",
    "\n",
    "# apply the transform and add the transformed column as 'attr_dict' to dataframe 'rest_metadata'\n",
    "rest_metadata['attr_dict'] = business.apply(attributes_transform_dict, axis=1).attributes"
   ]
  },
  {
   "cell_type": "code",
   "execution_count": 10,
   "metadata": {},
   "outputs": [
    {
     "name": "stdout",
     "output_type": "stream",
     "text": [
      "WheelchairAccessible_True,Alcohol_none,HasTV_False,RestaurantsPriceRange2_2.0,RestaurantsReservations_False,WiFi_no,RestaurantsAttire_casual,RestaurantsDelivery_False,RestaurantsTakeOut_True,BusinessAcceptsCreditCards_True,GoodForKids_True,Caters_True,DogsAllowed_True,BikeParking_False,OutdoorSeating_True,RestaurantsGoodForGroups_True,RestaurantsTableService_False,DriveThru_False\n",
      "GoodForMeal_dessert_True,GoodForMeal_latenight_True,GoodForMeal_lunch_True,GoodForMeal_dinner_True,GoodForMeal_breakfast_True,GoodForMeal_brunch_True,BusinessParking_garage_True,BusinessParking_street_True,BusinessParking_validated_True,BusinessParking_lot_True,BusinessParking_valet_True\n"
     ]
    }
   ],
   "source": [
    "print(rest_metadata.attr_cate.iloc[0])\n",
    "print(rest_metadata.attr_dict.iloc[0])"
   ]
  },
  {
   "cell_type": "code",
   "execution_count": 11,
   "metadata": {},
   "outputs": [],
   "source": [
    "# set 'business_id' as the index col\n",
    "rest_metadata = rest_metadata.set_index('business_id')"
   ]
  },
  {
   "cell_type": "code",
   "execution_count": 12,
   "metadata": {},
   "outputs": [
    {
     "name": "stdout",
     "output_type": "stream",
     "text": [
      "<class 'pandas.core.frame.DataFrame'>\n",
      "Index: 47553 entries, AjEbIBw6ZFfln7ePHha9PA to 3_fIsSxN2RBovQ_6EFtLzA\n",
      "Data columns (total 9 columns):\n",
      "postal_code     47553 non-null int64\n",
      "city            47553 non-null object\n",
      "state           47553 non-null object\n",
      "name            47553 non-null object\n",
      "neighborhood    15832 non-null object\n",
      "categories      47137 non-null object\n",
      "hours           47553 non-null object\n",
      "attr_cate       47553 non-null object\n",
      "attr_dict       47553 non-null object\n",
      "dtypes: int64(1), object(8)\n",
      "memory usage: 3.6+ MB\n"
     ]
    }
   ],
   "source": [
    "rest_metadata.info()"
   ]
  },
  {
   "cell_type": "code",
   "execution_count": 13,
   "metadata": {},
   "outputs": [
    {
     "data": {
      "text/plain": [
       "business_id\n",
       "AjEbIBw6ZFfln7ePHha9PA    89002,Henderson,NV,CK'S BBQ & Catering,Chicken...\n",
       "45bWSZtniwPRiqlivpS8Og    85024,Phoenix,AZ,The Coffee Bean & Tea Leaf,Co...\n",
       "Name: metafeature, dtype: object"
      ]
     },
     "execution_count": 13,
     "metadata": {},
     "output_type": "execute_result"
    }
   ],
   "source": [
    "# combine all columns into a single column of all text features\n",
    "rest_metadata['metafeature'] = rest_metadata.apply(lambda row: ','.join([str(i) for i in row if i is not np.nan]), axis=1)\n",
    "rest_metadata.metafeature.head(2)"
   ]
  },
  {
   "cell_type": "markdown",
   "metadata": {},
   "source": [
    "## 4.2 Use CountVectorizer to extract restaurant feature vector from text-based metadata"
   ]
  },
  {
   "cell_type": "code",
   "execution_count": 14,
   "metadata": {},
   "outputs": [
    {
     "name": "stderr",
     "output_type": "stream",
     "text": [
      "/anaconda3/lib/python3.6/importlib/_bootstrap.py:219: RuntimeWarning: numpy.dtype size changed, may indicate binary incompatibility. Expected 96, got 88\n",
      "  return f(*args, **kwds)\n",
      "/anaconda3/lib/python3.6/importlib/_bootstrap.py:219: RuntimeWarning: numpy.dtype size changed, may indicate binary incompatibility. Expected 96, got 88\n",
      "  return f(*args, **kwds)\n",
      "/anaconda3/lib/python3.6/importlib/_bootstrap.py:219: RuntimeWarning: numpy.dtype size changed, may indicate binary incompatibility. Expected 96, got 88\n",
      "  return f(*args, **kwds)\n",
      "/anaconda3/lib/python3.6/importlib/_bootstrap.py:219: RuntimeWarning: numpy.dtype size changed, may indicate binary incompatibility. Expected 96, got 88\n",
      "  return f(*args, **kwds)\n"
     ]
    }
   ],
   "source": [
    "from sklearn.feature_extraction.text import CountVectorizer"
   ]
  },
  {
   "cell_type": "code",
   "execution_count": 15,
   "metadata": {},
   "outputs": [
    {
     "name": "stdout",
     "output_type": "stream",
     "text": [
      "['15222', '28202', '28277', '44113', '53703', '61820', '85004', '85016', '85032', '85251', '85260', '85281', '85308', '89014', '89101', '89102', '89103', '89104', '89109', '89119', '89123', '89146', 'alcohol_beer_and_wine', 'alcohol_full_bar', 'alcohol_none', 'ambience_casual_true', 'ambience_classy_true', 'ambience_divey_true', 'ambience_hipster_true', 'ambience_intimate_true', 'ambience_romantic_true', 'ambience_touristy_true', 'ambience_trendy_true', 'ambience_upscale_true', 'american', 'arts', 'asian', 'az', 'bagels', 'bakeries', 'bakery', 'bar', 'barbeque', 'bars', 'bbq', 'beer', 'bestnights_friday_true', 'bestnights_monday_true', 'bestnights_saturday_true', 'bestnights_sunday_true', 'bestnights_thursday_true', 'bestnights_tuesday_true', 'bestnights_wednesday_true', 'bikeparking_false', 'bikeparking_true', 'bistro', 'breakfast', 'breweries', 'brunch', 'buffet', 'buffets', 'burger', 'burgers', 'businessacceptsbitcoin_false', 'businessacceptscreditcards_false', 'businessacceptscreditcards_true', 'businessparking_garage_true', 'businessparking_lot_true', 'businessparking_street_true', 'businessparking_valet_true', 'businessparking_validated_true', 'byappointmentonly_false', 'cafe', 'cafes', 'capitol', 'casinos', 'caterers', 'caters_false', 'caters_true', 'champaign', 'chandler', 'charlotte', 'chicken', 'china', 'chinatown', 'chinese', 'cleveland', 'clubs', 'coatcheck_false', 'coatcheck_true', 'cocktail', 'coffee', 'comfort', 'company', 'concord', 'convenience', 'cream', 'creek', 'cuisine', 'cupcakes', 'dance', 'deli', 'delis', 'delivery', 'desserts', 'diners', 'district', 'dive', 'dogs', 'dogsallowed_false', 'dogsallowed_true', 'donuts', 'downtown', 'drivethru_false', 'drivethru_true', 'eastern', 'eastside', 'entertainment', 'ethnic', 'event', 'express', 'farmers', 'fast', 'flavor', 'food', 'free', 'friday', 'frozen', 'fusion', 'gilbert', 'glendale', 'gluten', 'goodfordancing_false', 'goodfordancing_true', 'goodforkids_false', 'goodforkids_true', 'goodformeal_breakfast_true', 'goodformeal_brunch_true', 'goodformeal_dessert_true', 'goodformeal_dinner_true', 'goodformeal_latenight_true', 'goodformeal_lunch_true', 'greek', 'grill', 'grille', 'grocery', 'happyhour_false', 'happyhour_true', 'hastv_false', 'hastv_true', 'hawaiian', 'heights', 'henderson', 'hot', 'hotels', 'house', 'ice', 'il', 'indian', 'inn', 'italian', 'japanese', 'john', 'juice', 'king', 'kitchen', 'korean', 'la', 'las', 'latin', 'local', 'lounge', 'lounges', 'madison', 'market', 'markets', 'mcdonald', 'mediterranean', 'mesa', 'mex', 'mexican', 'middle', 'monday', 'music', 'music_background_music_true', 'music_dj_true', 'music_jukebox_true', 'music_karaoke_true', 'music_live_true', 'music_no_music_true', 'music_video_true', 'nc', 'new', 'nightlife', 'noiselevel_average', 'noiselevel_loud', 'noiselevel_quiet', 'noiselevel_very_loud', 'north', 'nv', 'oh', 'outdoorseating_false', 'outdoorseating_true', 'pa', 'park', 'party', 'peoria', 'performing', 'phoenix', 'pittsburgh', 'pizza', 'pizzeria', 'planning', 'pub', 'pubs', 'restaurant', 'restaurants', 'restaurantsattire_casual', 'restaurantsattire_dressy', 'restaurantsdelivery_false', 'restaurantsdelivery_true', 'restaurantsgoodforgroups_false', 'restaurantsgoodforgroups_true', 'restaurantspricerange2_1', 'restaurantspricerange2_2', 'restaurantspricerange2_3', 'restaurantspricerange2_nan', 'restaurantsreservations_false', 'restaurantsreservations_true', 'restaurantstableservice_false', 'restaurantstableservice_true', 'restaurantstakeout_false', 'restaurantstakeout_true', 'salad', 'sandwiches', 'saturday', 'scottsdale', 'seafood', 'services', 'shop', 'shops', 'side', 'smoking_no', 'smoking_outdoor', 'smoking_yes', 'smoothies', 'soup', 'south', 'southeast', 'southern', 'southwest', 'spaces', 'specialty', 'spirits', 'sports', 'spring', 'starbucks', 'steakhouses', 'stores', 'street', 'strip', 'subs', 'subway', 'suites', 'summerlin', 'sunday', 'sushi', 'taco', 'tacos', 'tapas', 'tavern', 'tea', 'tempe', 'tex', 'thai', 'thursday', 'traditional', 'travel', 'trucks', 'tuesday', 'university', 'uptown', 'valley', 'vegan', 'vegas', 'vegetarian', 'venues', 'vietnamese', 'wedding', 'wednesday', 'westside', 'wheelchairaccessible_false', 'wheelchairaccessible_true', 'wi', 'wifi_free', 'wifi_no', 'wifi_paid', 'wine', 'wings', 'yogurt']\n",
      "17254\n",
      "(47553, 300)\n",
      "CPU times: user 1.96 s, sys: 72 ms, total: 2.03 s\n",
      "Wall time: 2.4 s\n"
     ]
    }
   ],
   "source": [
    "%%time\n",
    "\n",
    "vectorizer = CountVectorizer(stop_words=['the','and','in','of','at','by','city','el'],lowercase=True, max_features=300)\n",
    "X = vectorizer.fit_transform(rest_metadata.metafeature)\n",
    "print(vectorizer.get_feature_names())\n",
    "print(len(vectorizer.stop_words_))\n",
    "print(X.shape)"
   ]
  },
  {
   "cell_type": "code",
   "execution_count": 16,
   "metadata": {},
   "outputs": [],
   "source": [
    "rest_metafeature = pd.SparseDataFrame(X)\n",
    "rest_metafeature = rest_metafeature.set_index(rest_metadata.index)\n",
    "rest_metafeature.columns = vectorizer.get_feature_names()\n",
    "rest_metafeature = rest_metafeature.fillna(0) # fill in missing values with 0 to use PCA"
   ]
  },
  {
   "cell_type": "code",
   "execution_count": 17,
   "metadata": {},
   "outputs": [],
   "source": [
    "# rescale rest_metafeature coefficients so all restaurant feature vectors share the same unit length of 1\n",
    "rest_metafeature['root_squared_sum'] = rest_metafeature.apply(lambda row: np.sqrt(sum([i*i for i in row])), axis=1)\n",
    "rest_metafeature = rest_metafeature.drop('root_squared_sum',axis=1).divide(rest_metafeature.root_squared_sum, axis=0)"
   ]
  },
  {
   "cell_type": "code",
   "execution_count": 18,
   "metadata": {},
   "outputs": [
    {
     "data": {
      "text/html": [
       "<div>\n",
       "<style scoped>\n",
       "    .dataframe tbody tr th:only-of-type {\n",
       "        vertical-align: middle;\n",
       "    }\n",
       "\n",
       "    .dataframe tbody tr th {\n",
       "        vertical-align: top;\n",
       "    }\n",
       "\n",
       "    .dataframe thead th {\n",
       "        text-align: right;\n",
       "    }\n",
       "</style>\n",
       "<table border=\"1\" class=\"dataframe\">\n",
       "  <thead>\n",
       "    <tr style=\"text-align: right;\">\n",
       "      <th></th>\n",
       "      <th>15222</th>\n",
       "      <th>28202</th>\n",
       "      <th>28277</th>\n",
       "      <th>44113</th>\n",
       "      <th>53703</th>\n",
       "      <th>61820</th>\n",
       "      <th>85004</th>\n",
       "      <th>85016</th>\n",
       "      <th>85032</th>\n",
       "      <th>85251</th>\n",
       "      <th>...</th>\n",
       "      <th>westside</th>\n",
       "      <th>wheelchairaccessible_false</th>\n",
       "      <th>wheelchairaccessible_true</th>\n",
       "      <th>wi</th>\n",
       "      <th>wifi_free</th>\n",
       "      <th>wifi_no</th>\n",
       "      <th>wifi_paid</th>\n",
       "      <th>wine</th>\n",
       "      <th>wings</th>\n",
       "      <th>yogurt</th>\n",
       "    </tr>\n",
       "    <tr>\n",
       "      <th>business_id</th>\n",
       "      <th></th>\n",
       "      <th></th>\n",
       "      <th></th>\n",
       "      <th></th>\n",
       "      <th></th>\n",
       "      <th></th>\n",
       "      <th></th>\n",
       "      <th></th>\n",
       "      <th></th>\n",
       "      <th></th>\n",
       "      <th></th>\n",
       "      <th></th>\n",
       "      <th></th>\n",
       "      <th></th>\n",
       "      <th></th>\n",
       "      <th></th>\n",
       "      <th></th>\n",
       "      <th></th>\n",
       "      <th></th>\n",
       "      <th></th>\n",
       "      <th></th>\n",
       "    </tr>\n",
       "  </thead>\n",
       "  <tbody>\n",
       "    <tr>\n",
       "      <th>AjEbIBw6ZFfln7ePHha9PA</th>\n",
       "      <td>0.0</td>\n",
       "      <td>0.0</td>\n",
       "      <td>0.0</td>\n",
       "      <td>0.0</td>\n",
       "      <td>0.0</td>\n",
       "      <td>0.0</td>\n",
       "      <td>0.0</td>\n",
       "      <td>0.0</td>\n",
       "      <td>0.0</td>\n",
       "      <td>0.0</td>\n",
       "      <td>...</td>\n",
       "      <td>0.0</td>\n",
       "      <td>0.0</td>\n",
       "      <td>0.141421</td>\n",
       "      <td>0.0</td>\n",
       "      <td>0.000000</td>\n",
       "      <td>0.141421</td>\n",
       "      <td>0.0</td>\n",
       "      <td>0.0</td>\n",
       "      <td>0.141421</td>\n",
       "      <td>0.0</td>\n",
       "    </tr>\n",
       "    <tr>\n",
       "      <th>45bWSZtniwPRiqlivpS8Og</th>\n",
       "      <td>0.0</td>\n",
       "      <td>0.0</td>\n",
       "      <td>0.0</td>\n",
       "      <td>0.0</td>\n",
       "      <td>0.0</td>\n",
       "      <td>0.0</td>\n",
       "      <td>0.0</td>\n",
       "      <td>0.0</td>\n",
       "      <td>0.0</td>\n",
       "      <td>0.0</td>\n",
       "      <td>...</td>\n",
       "      <td>0.0</td>\n",
       "      <td>0.0</td>\n",
       "      <td>0.179605</td>\n",
       "      <td>0.0</td>\n",
       "      <td>0.179605</td>\n",
       "      <td>0.000000</td>\n",
       "      <td>0.0</td>\n",
       "      <td>0.0</td>\n",
       "      <td>0.000000</td>\n",
       "      <td>0.0</td>\n",
       "    </tr>\n",
       "  </tbody>\n",
       "</table>\n",
       "<p>2 rows × 300 columns</p>\n",
       "</div>"
      ],
      "text/plain": [
       "                        15222  28202  28277  44113  53703  61820  85004  \\\n",
       "business_id                                                               \n",
       "AjEbIBw6ZFfln7ePHha9PA    0.0    0.0    0.0    0.0    0.0    0.0    0.0   \n",
       "45bWSZtniwPRiqlivpS8Og    0.0    0.0    0.0    0.0    0.0    0.0    0.0   \n",
       "\n",
       "                        85016  85032  85251   ...    westside  \\\n",
       "business_id                                   ...               \n",
       "AjEbIBw6ZFfln7ePHha9PA    0.0    0.0    0.0   ...         0.0   \n",
       "45bWSZtniwPRiqlivpS8Og    0.0    0.0    0.0   ...         0.0   \n",
       "\n",
       "                        wheelchairaccessible_false  wheelchairaccessible_true  \\\n",
       "business_id                                                                     \n",
       "AjEbIBw6ZFfln7ePHha9PA                         0.0                   0.141421   \n",
       "45bWSZtniwPRiqlivpS8Og                         0.0                   0.179605   \n",
       "\n",
       "                         wi  wifi_free   wifi_no  wifi_paid  wine     wings  \\\n",
       "business_id                                                                   \n",
       "AjEbIBw6ZFfln7ePHha9PA  0.0   0.000000  0.141421        0.0   0.0  0.141421   \n",
       "45bWSZtniwPRiqlivpS8Og  0.0   0.179605  0.000000        0.0   0.0  0.000000   \n",
       "\n",
       "                        yogurt  \n",
       "business_id                     \n",
       "AjEbIBw6ZFfln7ePHha9PA     0.0  \n",
       "45bWSZtniwPRiqlivpS8Og     0.0  \n",
       "\n",
       "[2 rows x 300 columns]"
      ]
     },
     "execution_count": 18,
     "metadata": {},
     "output_type": "execute_result"
    }
   ],
   "source": [
    "rest_metafeature.head(2)"
   ]
  },
  {
   "cell_type": "markdown",
   "metadata": {},
   "source": [
    "## 4.3 Aggregate user feature vector based on user ratings of restaurants"
   ]
  },
  {
   "cell_type": "code",
   "execution_count": 26,
   "metadata": {},
   "outputs": [
    {
     "name": "stdout",
     "output_type": "stream",
     "text": [
      "CPU times: user 28.7 s, sys: 32.1 s, total: 1min\n",
      "Wall time: 1min 11s\n"
     ]
    }
   ],
   "source": [
    "%%time\n",
    "\n",
    "# build user preference profile by compute a weighted sum of the restaurant vectors for all rated items by the user, with weights being the user’s rating\n",
    "user_metafeature = pd.merge(train[['user_id','business_id','stars']], rest_metafeature, how='inner',left_on='business_id',right_index=True).drop('business_id', axis=1)"
   ]
  },
  {
   "cell_type": "code",
   "execution_count": 19,
   "metadata": {},
   "outputs": [
    {
     "name": "stdout",
     "output_type": "stream",
     "text": [
      "CPU times: user 29.8 s, sys: 32.6 s, total: 1min 2s\n",
      "Wall time: 1min 11s\n"
     ]
    }
   ],
   "source": [
    "# %%time\n",
    "# # this is for training on entire 'review_s' dataset\n",
    "# # build user preference profile by compute a weighted sum of the restaurant vectors for all rated items by the user, with weights being the user’s rating\n",
    "# user_metafeature = pd.merge(review_s[['user_id','business_id','stars']], rest_metafeature, how='inner',left_on='business_id',right_index=True).drop('business_id', axis=1)"
   ]
  },
  {
   "cell_type": "code",
   "execution_count": 20,
   "metadata": {},
   "outputs": [
    {
     "name": "stdout",
     "output_type": "stream",
     "text": [
      "CPU times: user 20.6 s, sys: 38.1 s, total: 58.7 s\n",
      "Wall time: 55.6 s\n"
     ]
    }
   ],
   "source": [
    "%%time\n",
    "\n",
    "# rescale component coefficients by the review rating as the correpsonding weight\n",
    "user_metafeature.loc[:, '15222':'yogurt'] = user_metafeature.loc[:,'15222':'yogurt'].multiply(user_metafeature.stars, axis=0)"
   ]
  },
  {
   "cell_type": "code",
   "execution_count": 21,
   "metadata": {},
   "outputs": [
    {
     "name": "stdout",
     "output_type": "stream",
     "text": [
      "CPU times: user 39.3 s, sys: 1min, total: 1min 39s\n",
      "Wall time: 2min 9s\n"
     ]
    }
   ],
   "source": [
    "%%time\n",
    "\n",
    "# sum up all component coefficients by user_id\n",
    "user_metafeature = user_metafeature.drop('stars', axis=1).groupby('user_id').sum()\n",
    "user_metafeature.head(2)"
   ]
  },
  {
   "cell_type": "code",
   "execution_count": 22,
   "metadata": {},
   "outputs": [
    {
     "name": "stdout",
     "output_type": "stream",
     "text": [
      "CPU times: user 45.1 s, sys: 10.6 s, total: 55.7 s\n",
      "Wall time: 56.9 s\n"
     ]
    }
   ],
   "source": [
    "%%time\n",
    "\n",
    "# rescale user_pcafeature coefficients so all user feature vectors share the same unit length of 1\n",
    "user_metafeature['root_squared_sum'] = user_metafeature.apply(lambda row: np.sqrt(sum([i*i for i in row])), axis=1)\n",
    "user_metafeature = user_metafeature.drop('root_squared_sum', axis=1).divide(user_metafeature.root_squared_sum, axis=0)"
   ]
  },
  {
   "cell_type": "code",
   "execution_count": 23,
   "metadata": {},
   "outputs": [
    {
     "data": {
      "text/html": [
       "<div>\n",
       "<style scoped>\n",
       "    .dataframe tbody tr th:only-of-type {\n",
       "        vertical-align: middle;\n",
       "    }\n",
       "\n",
       "    .dataframe tbody tr th {\n",
       "        vertical-align: top;\n",
       "    }\n",
       "\n",
       "    .dataframe thead th {\n",
       "        text-align: right;\n",
       "    }\n",
       "</style>\n",
       "<table border=\"1\" class=\"dataframe\">\n",
       "  <thead>\n",
       "    <tr style=\"text-align: right;\">\n",
       "      <th></th>\n",
       "      <th>15222</th>\n",
       "      <th>28202</th>\n",
       "      <th>28277</th>\n",
       "      <th>44113</th>\n",
       "      <th>53703</th>\n",
       "      <th>61820</th>\n",
       "      <th>85004</th>\n",
       "      <th>85016</th>\n",
       "      <th>85032</th>\n",
       "      <th>85251</th>\n",
       "      <th>...</th>\n",
       "      <th>westside</th>\n",
       "      <th>wheelchairaccessible_false</th>\n",
       "      <th>wheelchairaccessible_true</th>\n",
       "      <th>wi</th>\n",
       "      <th>wifi_free</th>\n",
       "      <th>wifi_no</th>\n",
       "      <th>wifi_paid</th>\n",
       "      <th>wine</th>\n",
       "      <th>wings</th>\n",
       "      <th>yogurt</th>\n",
       "    </tr>\n",
       "    <tr>\n",
       "      <th>user_id</th>\n",
       "      <th></th>\n",
       "      <th></th>\n",
       "      <th></th>\n",
       "      <th></th>\n",
       "      <th></th>\n",
       "      <th></th>\n",
       "      <th></th>\n",
       "      <th></th>\n",
       "      <th></th>\n",
       "      <th></th>\n",
       "      <th></th>\n",
       "      <th></th>\n",
       "      <th></th>\n",
       "      <th></th>\n",
       "      <th></th>\n",
       "      <th></th>\n",
       "      <th></th>\n",
       "      <th></th>\n",
       "      <th></th>\n",
       "      <th></th>\n",
       "      <th></th>\n",
       "    </tr>\n",
       "  </thead>\n",
       "  <tbody>\n",
       "    <tr>\n",
       "      <th>---1lKK3aKOuomHnwAkAow</th>\n",
       "      <td>0.0</td>\n",
       "      <td>0.0</td>\n",
       "      <td>0.0</td>\n",
       "      <td>0.0</td>\n",
       "      <td>0.0</td>\n",
       "      <td>0.0</td>\n",
       "      <td>0.0</td>\n",
       "      <td>0.0</td>\n",
       "      <td>0.0</td>\n",
       "      <td>0.0</td>\n",
       "      <td>...</td>\n",
       "      <td>0.060331</td>\n",
       "      <td>0.002371</td>\n",
       "      <td>0.155</td>\n",
       "      <td>0.0</td>\n",
       "      <td>0.065438</td>\n",
       "      <td>0.074145</td>\n",
       "      <td>0.0</td>\n",
       "      <td>0.02094</td>\n",
       "      <td>0.0</td>\n",
       "      <td>0.029476</td>\n",
       "    </tr>\n",
       "    <tr>\n",
       "      <th>---89pEy_h9PvHwcHNbpyg</th>\n",
       "      <td>0.0</td>\n",
       "      <td>0.0</td>\n",
       "      <td>0.0</td>\n",
       "      <td>0.0</td>\n",
       "      <td>0.0</td>\n",
       "      <td>0.0</td>\n",
       "      <td>0.0</td>\n",
       "      <td>0.0</td>\n",
       "      <td>0.0</td>\n",
       "      <td>0.0</td>\n",
       "      <td>...</td>\n",
       "      <td>0.000000</td>\n",
       "      <td>0.000000</td>\n",
       "      <td>0.000</td>\n",
       "      <td>0.0</td>\n",
       "      <td>0.140028</td>\n",
       "      <td>0.000000</td>\n",
       "      <td>0.0</td>\n",
       "      <td>0.00000</td>\n",
       "      <td>0.0</td>\n",
       "      <td>0.000000</td>\n",
       "    </tr>\n",
       "  </tbody>\n",
       "</table>\n",
       "<p>2 rows × 300 columns</p>\n",
       "</div>"
      ],
      "text/plain": [
       "                        15222  28202  28277  44113  53703  61820  85004  \\\n",
       "user_id                                                                   \n",
       "---1lKK3aKOuomHnwAkAow    0.0    0.0    0.0    0.0    0.0    0.0    0.0   \n",
       "---89pEy_h9PvHwcHNbpyg    0.0    0.0    0.0    0.0    0.0    0.0    0.0   \n",
       "\n",
       "                        85016  85032  85251    ...     westside  \\\n",
       "user_id                                        ...                \n",
       "---1lKK3aKOuomHnwAkAow    0.0    0.0    0.0    ...     0.060331   \n",
       "---89pEy_h9PvHwcHNbpyg    0.0    0.0    0.0    ...     0.000000   \n",
       "\n",
       "                        wheelchairaccessible_false  wheelchairaccessible_true  \\\n",
       "user_id                                                                         \n",
       "---1lKK3aKOuomHnwAkAow                    0.002371                      0.155   \n",
       "---89pEy_h9PvHwcHNbpyg                    0.000000                      0.000   \n",
       "\n",
       "                         wi  wifi_free   wifi_no  wifi_paid     wine  wings  \\\n",
       "user_id                                                                       \n",
       "---1lKK3aKOuomHnwAkAow  0.0   0.065438  0.074145        0.0  0.02094    0.0   \n",
       "---89pEy_h9PvHwcHNbpyg  0.0   0.140028  0.000000        0.0  0.00000    0.0   \n",
       "\n",
       "                          yogurt  \n",
       "user_id                           \n",
       "---1lKK3aKOuomHnwAkAow  0.029476  \n",
       "---89pEy_h9PvHwcHNbpyg  0.000000  \n",
       "\n",
       "[2 rows x 300 columns]"
      ]
     },
     "execution_count": 23,
     "metadata": {},
     "output_type": "execute_result"
    }
   ],
   "source": [
    "user_metafeature.head(2)"
   ]
  },
  {
   "cell_type": "markdown",
   "metadata": {},
   "source": [
    "## 4.4 Save restaurant meta features and user meta features to file"
   ]
  },
  {
   "cell_type": "code",
   "execution_count": 24,
   "metadata": {},
   "outputs": [
    {
     "name": "stdout",
     "output_type": "stream",
     "text": [
      "CPU times: user 4.35 s, sys: 11.5 s, total: 15.8 s\n",
      "Wall time: 21.9 s\n"
     ]
    }
   ],
   "source": [
    "%%time\n",
    "\n",
    "# save rest_metafeature as pickled file\n",
    "with open('rest_metafeature_train.pkl','wb') as f:\n",
    "    pickle.dump(rest_metafeature, f)\n",
    "\n",
    "# save user_metafeature as pickled file, note: need to write in chucks of size smaller than 2GB due to a bug in Python3\n",
    "max_bytes = 2**31 - 1\n",
    "bytes_out = pickle.dumps(user_metafeature)\n",
    "with open('user_metafeature_train.pkl','wb') as f:\n",
    "    for idx in range(0, len(bytes_out), max_bytes):\n",
    "        f.write(bytes_out[idx:idx+max_bytes])"
   ]
  },
  {
   "cell_type": "markdown",
   "metadata": {},
   "source": [
    "# 5. Evaluate recommendation ranking computed from cosine similarity"
   ]
  },
  {
   "cell_type": "markdown",
   "metadata": {},
   "source": [
    "## 5.1 Ranking metrics\n",
    "\n",
    "NDCG (Normalized Discounted Cumulative Gain), which works well in this case with review ratings of 1 to 5, is chosen over MAP (Mean average precision), which only assumes binary relevance (interesting or not, click or not).\n",
    "\n",
    "DCG(Discounted Cumulative Gain) is calculated as the sum of the gain (relevance score) of item at each position in the ranking list, discounted by their position i. \n",
    "$$DCG(Rank)=∑_iu_i * d_i$$\n",
    "where $u_i$ is the gain of item at ranking position $i$, and $d_i$ is the discount of item at ranking position $i$. \n",
    "The discount $d$ is a function that decreases with position further down the list:\n",
    "$$d_i=\\frac{1}{log_2(i+1)}$$\n",
    "\n",
    "NDCG is calculated as the actual DCG normalized by maximum achievable DCG (a perfect ranking in the descreasing order of the relevance score) \n",
    "$$nDCG(Rank)=\\frac{DCG(Rank)}{DCG(Perfect Rank)}$$\n",
    "\n",
    "Note: nDCG is increasingly popular, as it works well with a variety type of relevance scores, binary, integar or float numbers."
   ]
  },
  {
   "cell_type": "code",
   "execution_count": 43,
   "metadata": {},
   "outputs": [],
   "source": [
    "# function for computing normalized Discounted Cumulative Gain as the ranking metric\n",
    "# inspired by https://gist.github.com/bwhite/3726239\n",
    "\n",
    "def dcg_at_k(r, k):\n",
    "    \"\"\"Score is discounted cumulative gain (dcg)\n",
    "    Relevance is positive real values, in this case, the review rating ranging 1-5. \n",
    "    Discount starts to take effect from the second item in the list, with the weights being 1/log2(rank position+1)\n",
    "    (Weights being [1.0, 0.6309, 0.5, 0.4307, 0.3869, ...] for the first items in the rank)\n",
    "    Example from\n",
    "    http://www.stanford.edu/class/cs276/handouts/EvaluationNew-handout-6-per.pdf\n",
    "    ---\n",
    "    Args:\n",
    "        r: a list or numpy 1D array of relevance scores corresponding to the rank order\n",
    "        k: Number of results to consider (consider only top-k)\n",
    "    ---\n",
    "    Returns:\n",
    "        Discounted cumulative gain\n",
    "    \"\"\"\n",
    "    r = np.asfarray(r)[:min(len(r),k)]  # convert to float-type numpy array and extract only top-k\n",
    "    if r.size:\n",
    "        return np.sum(r / np.log2(np.arange(2, r.size + 2)))\n",
    "    return None\n",
    "\n",
    "def ndcg_at_k(r, k):\n",
    "    \"\"\"Score is normalized discounted cumulative gain (ndcg), normalized by the maximum achievable DCG (Discounted Cumulative Gain)\n",
    "    ---\n",
    "    Args:\n",
    "        Same as dcg_at_k(r,k)\n",
    "    ---\n",
    "    Returns:\n",
    "        Normalized discounted cumulative gain\n",
    "    \"\"\"\n",
    "    dcg_max = dcg_at_k(sorted(r, reverse=True), k) # compute the maximum achievable DCG based on the perfect ranking\n",
    "    dcg = dcg_at_k(r, k) # compute the actual DCG based on the actual ranking\n",
    "    if dcg_max == None or dcg == None:\n",
    "        return None\n",
    "    return dcg/dcg_max"
   ]
  },
  {
   "cell_type": "code",
   "execution_count": 44,
   "metadata": {},
   "outputs": [],
   "source": [
    "from sklearn.metrics.pairwise import linear_kernel"
   ]
  },
  {
   "cell_type": "markdown",
   "metadata": {},
   "source": [
    "## 5.2 Recommendation ranking based on cosine similarity from review-based pca features\n",
    "\n",
    "Since the restaurant pcafeature vectors and the user pcafeature vectors all have a unit length of 1, linear_kernel from sklearn.metrics.pairwise is used instead of cosine_similarity to speed up the calculation. "
   ]
  },
  {
   "cell_type": "code",
   "execution_count": 40,
   "metadata": {},
   "outputs": [
    {
     "name": "stdout",
     "output_type": "stream",
     "text": [
      "Ranking by cosine similarity score:\n",
      "                         similarity_score  stars\n",
      "business_id                                    \n",
      "YCEZLECK9IToE8Mysorbhw          0.329092      5\n",
      "AZlnpvILz5cEWJifjr2CSQ          0.324308      5\n",
      "_sh6mIBWZis66mAjkjN8Qg          0.238217      5\n",
      "x-80R4DE6AsYoDtA2H-sKw          0.208107      3\n",
      "2BbFeotL85cIaBjSq1SWiA          0.204794      1\n",
      "TTpgjbrSyxwHHzE5bIF-Rw          0.192319      3\n",
      "UutHMmZx1CQcjiyfmVa_7g          0.130481      5\n",
      "CeqWpwHBoaxwRcv5btnv6g          0.123849      5\n",
      "DV13F0bhe55dV1AhwoO50g          0.115896      5\n",
      "rq5dgoksPHkJwJNQKlGQ7w          0.096958      5\n",
      "RJtgNpUFthlJ5grLr16GxA          0.025944      5\n",
      "\n",
      "Normalized discounted cumulative gain achieved at top-10 based on testset:\n",
      " 0.9098790747203894\n",
      "CPU times: user 765 ms, sys: 648 ms, total: 1.41 s\n",
      "Wall time: 1.89 s\n"
     ]
    }
   ],
   "source": [
    "%%time\n",
    "# look at a particular user_id as an example\n",
    "\n",
    "user_id = '---1lKK3aKOuomHnwAkAow' # 11 review ratings available in the testset\n",
    "\n",
    "# compute user-restaurant similarity\n",
    "sim_matrix = linear_kernel(user_pcafeature.loc[user_id].values.reshape(1, -1), rest_pcafeature)\n",
    "sim_matrix = sim_matrix.flatten()\n",
    "sim_matrix = pd.Series(sim_matrix, index = rest_pcafeature.index).sort_values(ascending=False)\n",
    "sim_matrix.name = 'similarity_score'\n",
    "\n",
    "# look at similarity score for reviews/ratings in the testset by the user of interest\n",
    "rec = pd.concat([sim_matrix, test[test.user_id == user_id].set_index('business_id').stars], axis=1, join='inner')\n",
    "print('Ranking by cosine similarity score:\\n', rec)\n",
    "ndcg = ndcg_at_k(r=rec.stars.values, k=10) # look at the NDCG score@top10\n",
    "print('\\nNormalized discounted cumulative gain achieved at top-10 based on testset:\\n', ndcg)"
   ]
  },
  {
   "cell_type": "code",
   "execution_count": 41,
   "metadata": {},
   "outputs": [
    {
     "name": "stdout",
     "output_type": "stream",
     "text": [
      "Ranking by cosine similarity score for user_id of EgUGBGTJUvFJgHyFwgpD1w is:\n",
      "                         similarity_score  stars\n",
      "business_id                                    \n",
      "0fW77t7I2673JY27JWC-yw          0.542322      2\n",
      "nUfeYJ_YEaDzggPKnYry3g          0.537483      1\n",
      "cTJjTKz2huGZ-ElScC2pSw          0.516030      2\n",
      "UlSvQqRRzrqRy5i5hHlQaA          0.466036      1\n",
      "16d3BlncEyCTzb0GxXrBXQ          0.465888      4\n",
      "BWsCjBVMR289vtojIz-gWw          0.458656      2\n",
      "FkUcjHK7oQJIvZtUGjDxMQ          0.456898      2\n",
      "J3H6VSIgUTlACkb_HPFA8w          0.448973      3\n",
      "qGf1wupj-UwG15fzQ7b-SA          0.304884      1\n",
      "sZq-qUvoLgYxlDmIcxYWDg          0.294629      5\n",
      "Ranking by cosine similarity score for user_id of Wk--RNQokW9Jrj2vJuWBww is:\n",
      "                         similarity_score  stars\n",
      "business_id                                    \n",
      "NoA6bD6W7z_Aztk_cOU5cg          0.565443      1\n",
      "CZhc8YXdFLhAI4ViC2ERTg          0.548116      1\n",
      "riFzCvp77DMKDX-5GoTpqA          0.403824      1\n",
      "BnpuVvPy3sfLlkqKCx6Xnw          0.396119      3\n",
      "TmIucPRTngutrjDpC0nXgQ          0.355902      3\n",
      "_vvK0PUe7KJtntpRVVAj4Q          0.351315      3\n",
      "vSXzr0aiYJZv6eE3IUNAJQ          0.294247      3\n",
      "Nmka2Jw1HrC2IfuEADOwZg          0.274834      2\n",
      "0qOI8lOZvvhrbtxqjaBQMg          0.251492      5\n",
      "0Nb4piKDUVbedlrakwEUuw          0.230046      1\n",
      "Ranking by cosine similarity score for user_id of hilL60vuuh06sMxs6Ckkog is:\n",
      "                         similarity_score  stars\n",
      "business_id                                    \n",
      "gJd1jOcl5FdqY020Q19n6Q          0.642977      1\n",
      "5_MrPFw9E0cMJ1Q0DJFZOQ          0.614130      1\n",
      "TfbHsUq-ZlQVAmb_Y79rIg          0.578217      3\n",
      "g62SlImzhs6_1t-knPjd8w          0.554495      5\n",
      "W-YhRJOSezqESSas-oLArw          0.553032      1\n",
      "ksuxxeP_V73Y4iKPeLq77A          0.501348      1\n",
      "caUPXiOxvLGMsorJBtNlhg          0.491138      4\n",
      "rF183_3e0ybElRKdNSwJqQ          0.459323      5\n",
      "qi6uzJEhA9puZM2io46-_A          0.419355      5\n",
      "DcD4NnR24iiUj7w6Q6hxzA          0.403388      1\n",
      "CPU times: user 8min 43s, sys: 1min 2s, total: 9min 45s\n",
      "Wall time: 5min 21s\n"
     ]
    }
   ],
   "source": [
    "%%time\n",
    "# evaluate NDCG@top10 on the entire testset\n",
    "\n",
    "# only look at NDCG scores for users with at least 10 ratings available in the testset in order to evaluate NDCG@top10\n",
    "rev_count_by_user = test.groupby('user_id').review_id.count()\n",
    "user_id_of_interest = rev_count_by_user[rev_count_by_user >= 10].index\n",
    "\n",
    "ndcg_scores_1 = []\n",
    "# compute NDCG score for each user in the testset\n",
    "for user_id in user_id_of_interest: \n",
    "    \n",
    "    # compute user-restaurant similarity matrix for the user of interest\n",
    "    sim_matrix = linear_kernel(user_pcafeature.loc[user_id].values.reshape(1, -1), rest_pcafeature)\n",
    "    sim_matrix = sim_matrix.flatten() # flatten the similarity matrix for a particular user into 1D array\n",
    "    sim_matrix = pd.Series(sim_matrix, index = rest_pcafeature.index).sort_values(ascending=False)\n",
    "    sim_matrix.name = 'similarity_score'\n",
    "\n",
    "    # look at similarity score for reviews/ratings in the testset by the user of interest\n",
    "    rec = pd.concat([sim_matrix, test[test.user_id == user_id].set_index('business_id').stars], axis=1, join='inner')\n",
    "    assert len(rec) >= 10\n",
    "    ndcg = ndcg_at_k(r=rec.stars.values, k=10) # compute NDCG score@top10\n",
    "    ndcg_scores_1.append(ndcg)\n",
    "    \n",
    "    if ndcg < 0.5: # if low ndcg score below 0.5, print the ranking results\n",
    "        print('Ranking by cosine similarity score for user_id of {} is:\\n {}'.format(user_id, rec.head(10)))"
   ]
  },
  {
   "cell_type": "markdown",
   "metadata": {},
   "source": [
    "As shown, there are three user cases in the testset with poor ranking of a NDCG score below 0.5. "
   ]
  },
  {
   "cell_type": "code",
   "execution_count": 54,
   "metadata": {},
   "outputs": [
    {
     "name": "stdout",
     "output_type": "stream",
     "text": [
      "Number of users of interest in the testset (at least 10 review ratings in the testset): 3432\n",
      "Average NDCG score across all users of interest in the testset: 0.8571811009077678\n",
      "Max and min NDCG scores for users of interest in the testset: 1.0 0.4438264329684102\n",
      "25, 50, 75 and 90 percentiles of all the valid NDCG scores are: [0.80734171 0.86867464 0.92142099 0.95647174]\n"
     ]
    },
    {
     "data": {
      "image/png": "[encoded data removed]",
      "text/plain": [
       "<Figure size 432x288 with 1 Axes>"
      ]
     },
     "metadata": {},
     "output_type": "display_data"
    }
   ],
   "source": [
    "# summary statistics on the NDCG scores of the testset\n",
    "print('Number of users of interest in the testset (at least 10 review ratings in the testset):', len(ndcg_scores_1))\n",
    "print('Average NDCG score across all users of interest in the testset:', sum(ndcg_scores_1)/len(ndcg_scores_1))\n",
    "print('Max and min NDCG scores for users of interest in the testset:', max(ndcg_scores_1), min(ndcg_scores_1))\n",
    "print('25, 50, 75 and 90 percentiles of all the valid NDCG scores are:', np.percentile(ndcg_scores_1, [25, 50,75,90]))\n",
    "plt.hist(ndcg_scores_1); # plot ndcg_score distribution"
   ]
  },
  {
   "cell_type": "markdown",
   "metadata": {},
   "source": [
    "## 5.3 Recommendation ranking based on cosine similarity from restaurant text metadata-based features\n",
    "\n",
    "Since the restaurant metafeature vectors and the user metafeature vectors all have a unit length of 1, linear_kernel from sklearn.metrics.pairwise is used instead of cosine_similarity to speed up the calculation."
   ]
  },
  {
   "cell_type": "code",
   "execution_count": 34,
   "metadata": {},
   "outputs": [
    {
     "name": "stdout",
     "output_type": "stream",
     "text": [
      "Ranking by cosine similarity score:\n",
      "                         similarity_score  stars\n",
      "business_id                                    \n",
      "AZlnpvILz5cEWJifjr2CSQ          0.872664      5\n",
      "rq5dgoksPHkJwJNQKlGQ7w          0.854645      5\n",
      "YCEZLECK9IToE8Mysorbhw          0.842215      5\n",
      "UutHMmZx1CQcjiyfmVa_7g          0.838046      5\n",
      "TTpgjbrSyxwHHzE5bIF-Rw          0.828828      3\n",
      "_sh6mIBWZis66mAjkjN8Qg          0.821676      5\n",
      "RJtgNpUFthlJ5grLr16GxA          0.796986      5\n",
      "2BbFeotL85cIaBjSq1SWiA          0.790918      1\n",
      "CeqWpwHBoaxwRcv5btnv6g          0.700431      5\n",
      "DV13F0bhe55dV1AhwoO50g          0.661702      5\n",
      "x-80R4DE6AsYoDtA2H-sKw          0.523652      3\n",
      "\n",
      "Normalized discounted cumulative gain achieved at top-10 based on testset:\n",
      " 0.9602845629134952\n",
      "CPU times: user 3.38 s, sys: 508 ms, total: 3.89 s\n",
      "Wall time: 4.17 s\n"
     ]
    }
   ],
   "source": [
    "%%time\n",
    "# look at a particular user_id as an example\n",
    "\n",
    "user_id = '---1lKK3aKOuomHnwAkAow' # 11 review ratings available in the testset\n",
    "\n",
    "# compute user-restaurant similarity\n",
    "sim_matrix = linear_kernel(user_metafeature.loc[user_id].values.reshape(1, -1), rest_metafeature)\n",
    "sim_matrix = sim_matrix.flatten()\n",
    "sim_matrix = pd.Series(sim_matrix, index = rest_metafeature.index).sort_values(ascending=False)\n",
    "sim_matrix.name = 'similarity_score'\n",
    "\n",
    "# look at similarity score for reviews/ratings in the testset by the user of interest\n",
    "rec = pd.concat([sim_matrix, test[test.user_id == user_id].set_index('business_id').stars], axis=1, join='inner')\n",
    "print('Ranking by cosine similarity score:\\n', rec)\n",
    "ndcg = ndcg_at_k(r=rec.stars.values, k=10) # look at the NDCG score@top10\n",
    "print('\\nNormalized discounted cumulative gain achieved at top-10 based on testset:\\n', ndcg)"
   ]
  },
  {
   "cell_type": "code",
   "execution_count": 64,
   "metadata": {
    "scrolled": false
   },
   "outputs": [
    {
     "name": "stdout",
     "output_type": "stream",
     "text": [
      "Ranking by cosine similarity score for user_id of hilL60vuuh06sMxs6Ckkog is:\n",
      "                         similarity_score  stars\n",
      "business_id                                    \n",
      "Tf13Wexrt6WmNw-CDW5Gyg          0.897091      2\n",
      "W-YhRJOSezqESSas-oLArw          0.893915      1\n",
      "wWDQDPuuwQ5kFeT2a72b6Q          0.892090      1\n",
      "-AD5PiuJHgdUcAK-Vxao2A          0.888444      2\n",
      "W7DwXa_7LNmETFHSQJZ2Lg          0.887075      2\n",
      "3GEEy7RP6e4bT4LAiWFMFQ          0.883853      3\n",
      "TfbHsUq-ZlQVAmb_Y79rIg          0.879493      3\n",
      "OzcvQqt_copeLRCT2OHrfA          0.875256      4\n",
      "qi6uzJEhA9puZM2io46-_A          0.871841      5\n",
      "sHsjBV5_kuuC2aU2PuSlUg          0.864704      3\n",
      "Ranking by cosine similarity score for user_id of mrpDR4jeLYun7bLMbw5a4w is:\n",
      "                         similarity_score  stars\n",
      "business_id                                    \n",
      "xqbvqZHNyj2qExHdizzd0w          0.911059      2\n",
      "I1gRYCt2exnOMsTr-lEJVA          0.892152      1\n",
      "fxuUGJ6si0QxcRKn_KNkEA          0.886126      5\n",
      "M30I1NPl5JuHthxo1IXPGg          0.881856      1\n",
      "Jur1iiejUFw_YCkfDfy1gQ          0.879798      3\n",
      "zRqi6L1u-YmmVAHjeUbGMQ          0.873616      1\n",
      "DbEszO3wk1xVmN3pCPob2g          0.869643      1\n",
      "qKn9nynsVYIST8rf6tEFRQ          0.868284      1\n",
      "d4qwVw4PcN-_2mK2o1Ro1g          0.867412      4\n",
      "dWJ7fG8Egp3Ips6j0T7Unw          0.865516      5\n",
      "CPU times: user 2h 25min 14s, sys: 1min 41s, total: 2h 26min 55s\n",
      "Wall time: 2h 20min 45s\n"
     ]
    }
   ],
   "source": [
    "%%time\n",
    "# evaluate NDCG@top10 on the entire testset\n",
    "\n",
    "# only look at NDCG scores for users with at least 10 ratings available in the testset in order to evaluate NDCG@top10\n",
    "rev_count_by_user = test.groupby('user_id').review_id.count()\n",
    "user_id_of_interest = rev_count_by_user[rev_count_by_user >= 10].index\n",
    "\n",
    "ndcg_scores_2 = []\n",
    "# compute NDCG score for each user in the testset\n",
    "for user_id in user_id_of_interest: \n",
    "    \n",
    "    # compute user-restaurant similarity matrix for the user of interest\n",
    "    sim_matrix = linear_kernel(user_metafeature.loc[user_id].values.reshape(1, -1), rest_metafeature)\n",
    "    sim_matrix = sim_matrix.flatten() # flatten the similarity matrix for a particular user into 1D array\n",
    "    sim_matrix = pd.Series(sim_matrix, index = rest_metafeature.index).sort_values(ascending=False)\n",
    "    sim_matrix.name = 'similarity_score'\n",
    "\n",
    "    # look at similarity score for reviews/ratings in the testset by the user of interest\n",
    "    rec = pd.concat([sim_matrix, test[test.user_id == user_id].set_index('business_id').stars], axis=1, join='inner')\n",
    "    assert len(rec) >= 10\n",
    "    ndcg = ndcg_at_k(r=rec.stars.values, k=10) # compute NDCG score@top10\n",
    "    ndcg_scores_2.append(ndcg)   \n",
    "    \n",
    "    if ndcg < 0.5: # if low ndcg score below 0.5, print the ranking results\n",
    "        print('Ranking by cosine similarity score for user_id of {} is:\\n {}'.format(user_id, rec.head(10)))"
   ]
  },
  {
   "cell_type": "code",
   "execution_count": 65,
   "metadata": {},
   "outputs": [
    {
     "name": "stdout",
     "output_type": "stream",
     "text": [
      "Number of users of interest in the testset (at least 10 review ratings in the testset): 3432\n",
      "Average NDCG score across all users of interest in the testset: 0.8480980508181838\n",
      "Max and min NDCG scores for users of interest in the testset: 1.0 0.47572444077064374\n",
      "25, 50, 75 and 90 percentiles of all the valid NDCG scores are: [0.79449993 0.86064395 0.91257875 0.95140041]\n"
     ]
    },
    {
     "data": {
      "image/png": "[encoded data removed]",
      "text/plain": [
       "<Figure size 432x288 with 1 Axes>"
      ]
     },
     "metadata": {},
     "output_type": "display_data"
    }
   ],
   "source": [
    "print('Number of users of interest in the testset (at least 10 review ratings in the testset):', len(ndcg_scores_2))\n",
    "print('Average NDCG score across all users of interest in the testset:', sum(ndcg_scores_2)/len(ndcg_scores_2))\n",
    "print('Max and min NDCG scores for users of interest in the testset:', max(ndcg_scores_2), min(ndcg_scores_2))\n",
    "print('25, 50, 75 and 90 percentiles of all the valid NDCG scores are:', np.percentile(ndcg_scores_2, [25, 50,75,90]))\n",
    "plt.hist(ndcg_scores_2); # plot ndcg_score distribution"
   ]
  },
  {
   "cell_type": "markdown",
   "metadata": {},
   "source": [
    "# 6. Rating prediction based on cosine similarity score and restaurant numerical metadata"
   ]
  },
  {
   "cell_type": "markdown",
   "metadata": {},
   "source": [
    "## 6.1 Compute cosine similarity score for all restaurant-related reviews ('review_s' dataframe)"
   ]
  },
  {
   "cell_type": "code",
   "execution_count": 10,
   "metadata": {},
   "outputs": [],
   "source": [
    "# compute cosine similarity score for all reviews based on text-type restaurant metadata extracted from the trainset (90:10 split)\n",
    "# these similarity scores are computed in a separate notebook and saved as a pickle file named 'similarity_meta_train.pkl'\n",
    "with open('similarity_meta_train.pkl','rb') as f:\n",
    "    sim_meta_train = pickle.load(f)\n",
    "\n",
    "sim_meta_train = sim_meta_train.set_index('review_id')"
   ]
  },
  {
   "cell_type": "code",
   "execution_count": null,
   "metadata": {},
   "outputs": [],
   "source": [
    "# # compute cosine similarity score for all reviews based on text-type restaurant metadata extracted from the entire review dataset\n",
    "# # these similarity scores are computed in a separate notebook and saved as a pickle file named 'similarity_meta_all.pkl'\n",
    "# with open('similarity_meta_all.pkl','rb') as f:\n",
    "#     sim_meta_all = pickle.load(f)\n",
    "#\n",
    "# sim_meta_all = sim_meta_all.set_index('review_id')"
   ]
  },
  {
   "cell_type": "code",
   "execution_count": 11,
   "metadata": {},
   "outputs": [],
   "source": [
    "# compute cosine similarity score for all reviews based on restaurant review pcafeatures extracted from the trainset (90:10 split)\n",
    "# these similarity scores are computed in a separate notebook and saved as a pickle file named 'similarity_pca_train.pkl'\n",
    "with open('similarity_pca_train.pkl','rb') as f:\n",
    "    sim_pca_train = pickle.load(f)\n",
    "\n",
    "sim_pca_train = sim_pca_train.set_index('review_id')"
   ]
  },
  {
   "cell_type": "code",
   "execution_count": null,
   "metadata": {},
   "outputs": [],
   "source": [
    "# # compute cosine similarity score for all reviews based on restaurant review pcafeatures extracted from the entire review dataset\n",
    "# # these similarity scores are computed in a separate notebook and saved as a pickle file named 'similarity_pca_all.pkl\n",
    "# with open('similarity_pca_all.pkl','rb') as f:\n",
    "#     sim_pca_all = pickle.load(f)\n",
    "#\n",
    "# sim_pca_all = sim_pca_all.set_index('review_id')"
   ]
  },
  {
   "cell_type": "markdown",
   "metadata": {},
   "source": [
    "## 6.2 Combine similarity score from text-metadata feature with restaurant numerical metadata for the trainset and test"
   ]
  },
  {
   "cell_type": "code",
   "execution_count": 12,
   "metadata": {},
   "outputs": [],
   "source": [
    "# extract numerical columns from business\n",
    "# 'postal_code' is not used because 'latitude' and 'longitude' contain more accurate location information, so 'postal_code' is considered as a duplication\n",
    "busi_num = business[['business_id','latitude','longitude','stars','review_count']]"
   ]
  },
  {
   "cell_type": "code",
   "execution_count": 41,
   "metadata": {},
   "outputs": [],
   "source": [
    "# temp\n",
    "# !!! currently not including 'attributes.RestaurantsPriceRange2' from 'business' for now due to the presence of missing values"
   ]
  },
  {
   "cell_type": "code",
   "execution_count": 13,
   "metadata": {},
   "outputs": [],
   "source": [
    "train_1 = train[['review_id','user_id','business_id','stars']].set_index('review_id')\n",
    "test_1 = test[['review_id','user_id','business_id','stars']].set_index('review_id')"
   ]
  },
  {
   "cell_type": "code",
   "execution_count": 14,
   "metadata": {},
   "outputs": [],
   "source": [
    "train_1 = train_1.join(sim_meta_train) # join 'train' and 'sim_pca_train' on index ('review_id')\n",
    "test_1 = test_1.join(sim_meta_train) # join 'test' and 'sim_pca_train' on index ('review_id')"
   ]
  },
  {
   "cell_type": "code",
   "execution_count": 15,
   "metadata": {},
   "outputs": [],
   "source": [
    "train_1 = train_1.merge(busi_num, how='inner', on='business_id', suffixes=('_review', '_busi')) # join 'train' and 'busi_num' on 'business_id'\n",
    "test_1 = test_1.merge(busi_num, how='inner', on='business_id', suffixes=('_review', '_busi')) # join 'test' and 'busi_num' on 'business_id'"
   ]
  },
  {
   "cell_type": "code",
   "execution_count": 16,
   "metadata": {},
   "outputs": [],
   "source": [
    "X_train, y_train = train_1.drop(['user_id','business_id','stars_review'], axis=1), train_1.stars_review\n",
    "X_test, y_test = test_1.drop(['user_id','business_id','stars_review'], axis=1), test_1.stars_review"
   ]
  },
  {
   "cell_type": "markdown",
   "metadata": {},
   "source": [
    "## 6.3 Regression models with default parameters to predict rating"
   ]
  },
  {
   "cell_type": "code",
   "execution_count": 17,
   "metadata": {},
   "outputs": [
    {
     "name": "stderr",
     "output_type": "stream",
     "text": [
      "/anaconda3/lib/python3.6/importlib/_bootstrap.py:219: RuntimeWarning: numpy.dtype size changed, may indicate binary incompatibility. Expected 96, got 88\n",
      "  return f(*args, **kwds)\n",
      "/anaconda3/lib/python3.6/importlib/_bootstrap.py:219: RuntimeWarning: numpy.dtype size changed, may indicate binary incompatibility. Expected 96, got 88\n",
      "  return f(*args, **kwds)\n",
      "/anaconda3/lib/python3.6/importlib/_bootstrap.py:219: RuntimeWarning: numpy.dtype size changed, may indicate binary incompatibility. Expected 96, got 88\n",
      "  return f(*args, **kwds)\n",
      "/anaconda3/lib/python3.6/importlib/_bootstrap.py:219: RuntimeWarning: numpy.dtype size changed, may indicate binary incompatibility. Expected 96, got 88\n",
      "  return f(*args, **kwds)\n",
      "/anaconda3/lib/python3.6/site-packages/sklearn/ensemble/weight_boosting.py:29: DeprecationWarning: numpy.core.umath_tests is an internal NumPy module and should not be imported. It will be removed in a future NumPy release.\n",
      "  from numpy.core.umath_tests import inner1d\n"
     ]
    }
   ],
   "source": [
    "from sklearn.preprocessing import StandardScaler\n",
    "from sklearn.pipeline import Pipeline\n",
    "from sklearn.model_selection import GridSearchCV\n",
    "\n",
    "# import regression models and metrics\n",
    "from sklearn.linear_model import Lasso\n",
    "from sklearn.linear_model import Ridge\n",
    "from sklearn.svm import SVR\n",
    "from sklearn.ensemble import RandomForestRegressor\n",
    "from sklearn.ensemble import GradientBoostingRegressor \n",
    "from sklearn.metrics import r2_score, mean_squared_error "
   ]
  },
  {
   "cell_type": "code",
   "execution_count": 27,
   "metadata": {},
   "outputs": [],
   "source": [
    "# initiate the score table and define function for logging performance for regression problem\n",
    "index = ['Lasso','Ridge','SVR','RandomForestRegressor','GradientBoostingRegressor']\n",
    "score_table = pd.DataFrame(index = index, columns= ['r2_train','mse_train','rmse_train','r2_test','mse_test','rmse_test'])\n",
    "\n",
    "# define function for logging the results\n",
    "def compute_log_result(algo, pred_train, pred_test):\n",
    "    \"\"\"compute and log the performance into the score_table for both training and test sets\"\"\"\n",
    "    \n",
    "    # compute the performance\n",
    "    r2_train = r2_score(y_train, pred_train)\n",
    "    r2_test = r2_score(y_test, pred_test)\n",
    "    mse_train = mean_squared_error(y_train, pred_train)\n",
    "    mse_test = mean_squared_error(y_test, pred_test)\n",
    "    rmse_train = np.sqrt(mse_train)\n",
    "    rmse_test = np.sqrt(mse_test)\n",
    "    \n",
    "    # log the performance\n",
    "    score_table.loc[algo,:] = r2_train, mse_train, rmse_train, r2_test, mse_test, rmse_test"
   ]
  },
  {
   "cell_type": "code",
   "execution_count": 28,
   "metadata": {},
   "outputs": [
    {
     "name": "stdout",
     "output_type": "stream",
     "text": [
      "                 feature  coefficient\n",
      "0  similarity_meta_train          0.0\n",
      "1               latitude          0.0\n",
      "2              longitude          0.0\n",
      "3             stars_busi          0.0\n",
      "4           review_count          0.0\n"
     ]
    }
   ],
   "source": [
    "# fit Lasso regression model with default parameters\n",
    "lasso = Pipeline([('scaler', StandardScaler()),('lasso',Lasso())])\n",
    "lasso.fit(X_train, y_train)\n",
    "pred_train = lasso.predict(X_train)\n",
    "pred_test = lasso.predict(X_test)\n",
    "# print features and their coefficients based on the fitted logistic regression model\n",
    "feature_coef = pd.DataFrame({'feature':X_train.columns, 'coefficient':lasso.named_steps.lasso.coef_[0]})\n",
    "print(feature_coef.sort_values('coefficient',ascending=False))\n",
    "# logging of model performance\n",
    "compute_log_result(\"Lasso\", pred_train, pred_test)"
   ]
  },
  {
   "cell_type": "code",
   "execution_count": 29,
   "metadata": {},
   "outputs": [
    {
     "name": "stdout",
     "output_type": "stream",
     "text": [
      "r2_train                0\n",
      "mse_train         1.95648\n",
      "rmse_train        1.39874\n",
      "r2_test      -0.000589947\n",
      "mse_test          1.77378\n",
      "rmse_test         1.33183\n",
      "Name: Lasso, dtype: object\n"
     ]
    }
   ],
   "source": [
    "#temp\n",
    "print(score_table.loc['Lasso'])"
   ]
  },
  {
   "cell_type": "code",
   "execution_count": 30,
   "metadata": {},
   "outputs": [
    {
     "name": "stdout",
     "output_type": "stream",
     "text": [
      "                 feature  coefficient\n",
      "0  similarity_meta_train     0.077328\n",
      "1               latitude     0.077328\n",
      "2              longitude     0.077328\n",
      "3             stars_busi     0.077328\n",
      "4           review_count     0.077328\n"
     ]
    }
   ],
   "source": [
    "# temp\n",
    "# fit Lasso regression model with alpha = 0.01\n",
    "lasso = Pipeline([('scaler', StandardScaler()),('lasso',Lasso(alpha=0.01))])\n",
    "lasso.fit(X_train, y_train)\n",
    "pred_train = lasso.predict(X_train)\n",
    "pred_test = lasso.predict(X_test)\n",
    "# print features and their coefficients based on the fitted logistic regression model\n",
    "feature_coef = pd.DataFrame({'feature':X_train.columns, 'coefficient':lasso.named_steps.lasso.coef_[0]})\n",
    "print(feature_coef.sort_values('coefficient',ascending=False))\n",
    "# logging of model performance\n",
    "compute_log_result(\"Lasso\", pred_train, pred_test)"
   ]
  },
  {
   "cell_type": "code",
   "execution_count": 31,
   "metadata": {},
   "outputs": [
    {
     "name": "stdout",
     "output_type": "stream",
     "text": [
      "r2_train      0.190359\n",
      "mse_train      1.58405\n",
      "rmse_train     1.25859\n",
      "r2_test       0.160305\n",
      "mse_test       1.48856\n",
      "rmse_test      1.22006\n",
      "Name: Lasso, dtype: object\n"
     ]
    }
   ],
   "source": [
    "# temp\n",
    "print(score_table.loc['Lasso'])"
   ]
  },
  {
   "cell_type": "code",
   "execution_count": 32,
   "metadata": {},
   "outputs": [
    {
     "name": "stdout",
     "output_type": "stream",
     "text": [
      "                 feature  coefficient\n",
      "0  similarity_meta_train     0.087037\n",
      "1               latitude     0.087037\n",
      "2              longitude     0.087037\n",
      "3             stars_busi     0.087037\n",
      "4           review_count     0.087037\n"
     ]
    }
   ],
   "source": [
    "# fit Ridge regression model with default parameters\n",
    "ridge = Pipeline([('scaler', StandardScaler()),('ridge',Ridge())])\n",
    "ridge.fit(X_train, y_train)\n",
    "pred_train = ridge.predict(X_train)\n",
    "pred_test = ridge.predict(X_test)\n",
    "# print features and their coefficients based on the fitted logistic regression model\n",
    "feature_coef = pd.DataFrame({'feature':X_train.columns, 'coefficient':ridge.named_steps.ridge.coef_[0]})\n",
    "print(feature_coef.sort_values('coefficient',ascending=False))\n",
    "# logging of model performance\n",
    "compute_log_result(\"Ridge\", pred_train, pred_test)"
   ]
  },
  {
   "cell_type": "code",
   "execution_count": null,
   "metadata": {},
   "outputs": [],
   "source": [
    "# # fit support vector machine regression model with default parameters\n",
    "\n",
    "# svr = Pipeline([('scaler', StandardScaler()),('svr', SVR(kernel='poly', degree=2, C=0.1))])\n",
    "# svr.fit(X_train, y_train)\n",
    "# pred_train = svr.predict(X_train)\n",
    "# pred_test = svr.predict(X_test)\n",
    "\n",
    "# # logging of model performance\n",
    "# compute_log_result(\"SVR\", pred_train, pred_test)"
   ]
  },
  {
   "cell_type": "code",
   "execution_count": 33,
   "metadata": {},
   "outputs": [
    {
     "name": "stdout",
     "output_type": "stream",
     "text": [
      "                 feature  importance\n",
      "0  similarity_meta_train    0.450034\n",
      "3             stars_busi    0.227040\n",
      "2              longitude    0.111066\n",
      "1               latitude    0.110418\n",
      "4           review_count    0.101442\n"
     ]
    }
   ],
   "source": [
    "# fit random forest regression model with default parameters\n",
    "rfr = Pipeline([('scaler', StandardScaler()),('rfr', RandomForestRegressor())])\n",
    "rfr.fit(X_train, y_train)\n",
    "pred_train = rfr.predict(X_train)\n",
    "pred_test = rfr.predict(X_test)\n",
    "# print feature importance\n",
    "feature_rank = pd.DataFrame({'feature': X_train.columns, 'importance': rfr.named_steps.rfr.feature_importances_})\n",
    "print(feature_rank.sort_values(by='importance',ascending=False))\n",
    "# logging of model performance\n",
    "compute_log_result(\"RandomForestRegressor\", pred_train, pred_test)"
   ]
  },
  {
   "cell_type": "code",
   "execution_count": 34,
   "metadata": {},
   "outputs": [
    {
     "name": "stdout",
     "output_type": "stream",
     "text": [
      "                 feature  importance\n",
      "0  similarity_meta_train    0.420238\n",
      "3             stars_busi    0.310132\n",
      "4           review_count    0.157655\n",
      "2              longitude    0.074261\n",
      "1               latitude    0.037714\n"
     ]
    }
   ],
   "source": [
    "# fit gradient boosting regression model with default parameters\n",
    "gbr = Pipeline([('scaler', StandardScaler()),('gbr', GradientBoostingRegressor())])\n",
    "gbr.fit(X_train, y_train)\n",
    "pred_train = gbr.predict(X_train)\n",
    "pred_test = gbr.predict(X_test)\n",
    "# print feature importance\n",
    "feature_rank = pd.DataFrame({'feature': X_train.columns, 'importance': gbr.named_steps.gbr.feature_importances_})\n",
    "print(feature_rank.sort_values(by='importance',ascending=False))\n",
    "# logging of model performance\n",
    "compute_log_result(\"GradientBoostingRegressor\", pred_train, pred_test)"
   ]
  },
  {
   "cell_type": "code",
   "execution_count": 35,
   "metadata": {},
   "outputs": [
    {
     "data": {
      "text/html": [
       "<div>\n",
       "<style scoped>\n",
       "    .dataframe tbody tr th:only-of-type {\n",
       "        vertical-align: middle;\n",
       "    }\n",
       "\n",
       "    .dataframe tbody tr th {\n",
       "        vertical-align: top;\n",
       "    }\n",
       "\n",
       "    .dataframe thead th {\n",
       "        text-align: right;\n",
       "    }\n",
       "</style>\n",
       "<table border=\"1\" class=\"dataframe\">\n",
       "  <thead>\n",
       "    <tr style=\"text-align: right;\">\n",
       "      <th></th>\n",
       "      <th>r2_train</th>\n",
       "      <th>mse_train</th>\n",
       "      <th>rmse_train</th>\n",
       "      <th>r2_test</th>\n",
       "      <th>mse_test</th>\n",
       "      <th>rmse_test</th>\n",
       "    </tr>\n",
       "  </thead>\n",
       "  <tbody>\n",
       "    <tr>\n",
       "      <th>Lasso</th>\n",
       "      <td>0.190359</td>\n",
       "      <td>1.58405</td>\n",
       "      <td>1.25859</td>\n",
       "      <td>0.160305</td>\n",
       "      <td>1.48856</td>\n",
       "      <td>1.22006</td>\n",
       "    </tr>\n",
       "    <tr>\n",
       "      <th>Ridge</th>\n",
       "      <td>0.190498</td>\n",
       "      <td>1.58378</td>\n",
       "      <td>1.25848</td>\n",
       "      <td>0.157494</td>\n",
       "      <td>1.49354</td>\n",
       "      <td>1.2221</td>\n",
       "    </tr>\n",
       "    <tr>\n",
       "      <th>SVR</th>\n",
       "      <td>NaN</td>\n",
       "      <td>NaN</td>\n",
       "      <td>NaN</td>\n",
       "      <td>NaN</td>\n",
       "      <td>NaN</td>\n",
       "      <td>NaN</td>\n",
       "    </tr>\n",
       "    <tr>\n",
       "      <th>RandomForestRegressor</th>\n",
       "      <td>0.689577</td>\n",
       "      <td>0.607336</td>\n",
       "      <td>0.779318</td>\n",
       "      <td>-0.246722</td>\n",
       "      <td>2.21011</td>\n",
       "      <td>1.48664</td>\n",
       "    </tr>\n",
       "    <tr>\n",
       "      <th>GradientBoostingRegressor</th>\n",
       "      <td>0.215463</td>\n",
       "      <td>1.53493</td>\n",
       "      <td>1.23892</td>\n",
       "      <td>0.147295</td>\n",
       "      <td>1.51162</td>\n",
       "      <td>1.22948</td>\n",
       "    </tr>\n",
       "  </tbody>\n",
       "</table>\n",
       "</div>"
      ],
      "text/plain": [
       "                           r2_train mse_train rmse_train   r2_test mse_test  \\\n",
       "Lasso                      0.190359   1.58405    1.25859  0.160305  1.48856   \n",
       "Ridge                      0.190498   1.58378    1.25848  0.157494  1.49354   \n",
       "SVR                             NaN       NaN        NaN       NaN      NaN   \n",
       "RandomForestRegressor      0.689577  0.607336   0.779318 -0.246722  2.21011   \n",
       "GradientBoostingRegressor  0.215463   1.53493    1.23892  0.147295  1.51162   \n",
       "\n",
       "                          rmse_test  \n",
       "Lasso                       1.22006  \n",
       "Ridge                        1.2221  \n",
       "SVR                             NaN  \n",
       "RandomForestRegressor       1.48664  \n",
       "GradientBoostingRegressor   1.22948  "
      ]
     },
     "execution_count": 35,
     "metadata": {},
     "output_type": "execute_result"
    }
   ],
   "source": [
    "# print the performance report for all prototyped algorithms\n",
    "score_table"
   ]
  },
  {
   "cell_type": "code",
   "execution_count": null,
   "metadata": {},
   "outputs": [
    {
     "name": "stdout",
     "output_type": "stream",
     "text": [
      "Fitting 3 folds for each of 9 candidates, totalling 27 fits\n",
      "[CV] rfr__max_features=auto, rfr__n_estimators=10 ....................\n",
      "[CV] ..... rfr__max_features=auto, rfr__n_estimators=10, total= 1.5min\n",
      "[CV] rfr__max_features=auto, rfr__n_estimators=10 ....................\n"
     ]
    },
    {
     "name": "stderr",
     "output_type": "stream",
     "text": [
      "[Parallel(n_jobs=1)]: Done   1 out of   1 | elapsed:  1.6min remaining:    0.0s\n"
     ]
    },
    {
     "name": "stdout",
     "output_type": "stream",
     "text": [
      "[CV] ..... rfr__max_features=auto, rfr__n_estimators=10, total= 1.4min\n",
      "[CV] rfr__max_features=auto, rfr__n_estimators=10 ....................\n",
      "[CV] ..... rfr__max_features=auto, rfr__n_estimators=10, total= 1.3min\n",
      "[CV] rfr__max_features=auto, rfr__n_estimators=40 ....................\n",
      "[CV] ..... rfr__max_features=auto, rfr__n_estimators=40, total= 6.1min\n",
      "[CV] rfr__max_features=auto, rfr__n_estimators=40 ....................\n"
     ]
    }
   ],
   "source": [
    "%%time\n",
    "# gridsearch optimization of rfr\n",
    "# Parameter tuning of rfr is desired, as the result from default parameters suggest overfitting to the training set\n",
    "\n",
    "# Grid search of parameters n_estimators and max_features to improve RandomForestRegressor model\n",
    "parameters = {'rfr__n_estimators': np.arange(10,100,30), 'rfr__max_features':['auto','sqrt','log2']}\n",
    "rfr_cv = GridSearchCV(rfr, parameters, scoring='neg_mean_squared_error', cv=3,verbose=2)\n",
    "rfr_cv.fit(X_train, y_train)\n",
    "print('Best parameters:', rfr_cv.best_params_)\n",
    "print('Corresponding rmse score:', np.sqrt(rfr_cv.best_score_))"
   ]
  },
  {
   "cell_type": "code",
   "execution_count": null,
   "metadata": {},
   "outputs": [],
   "source": [
    "%%time\n",
    "# gridsearch optimization of gbr\n",
    "\n",
    "# Grid search of parameters n_estimators and max_features to improve GradientBoostingRegressor model\n",
    "parameters = {'gbr__n_estimators': np.arange(100,1000,300), 'gbr__max_features':['auto','sqrt','log2']}\n",
    "gbr_cv = GridSearchCV(gbr, parameters, scoring='neg_mean_squared_error', cv=3, verbose=2)\n",
    "gbr_cv.fit(X_train, y_train)\n",
    "print('Best parameters:', gbr_cv.best_params_)\n",
    "print('Corresponding rmse score:', np.sqrt(gbr_cv.best_score_))"
   ]
  },
  {
   "cell_type": "markdown",
   "metadata": {},
   "source": [
    "As a comparison, the RMSE obtained on the testset for the collaborative module is:<br>\n",
    "RMSE = 1.2743 for testset with unseen users and unseen businesses <br>\n",
    "RMSE = 0.9270 for testset with no new users and businesses <br>"
   ]
  },
  {
   "cell_type": "markdown",
   "metadata": {},
   "source": [
    "## 6.4 Combine both similarity score from text-metadata feature and similarity score from review pcafeature with restaurant numerical metadata for the trainset and test"
   ]
  },
  {
   "cell_type": "code",
   "execution_count": null,
   "metadata": {},
   "outputs": [],
   "source": [
    "train_2 = train[['review_id','user_id','business_id','stars']].set_index('review_id')\n",
    "test_2 = test[['review_id','user_id','business_id','stars']].set_index('review_id')"
   ]
  },
  {
   "cell_type": "code",
   "execution_count": null,
   "metadata": {},
   "outputs": [],
   "source": [
    "train_2 = train_2.join(sim_meta_train).join(sim_pca_train) # join 'train','sim_meta_train' and 'sim_pca_train' on index ('review_id')\n",
    "test_2 = test_2.join(sim_meta_train).join(sim_pca_train) # join 'test','sim_meta_train' and 'sim_pca_train' on index ('review_id')"
   ]
  },
  {
   "cell_type": "code",
   "execution_count": null,
   "metadata": {},
   "outputs": [],
   "source": [
    "train_2 = train_2.merge(busi_num, how='inner', on='business_id', suffixes=('_review', '_busi')) # join 'train' and 'busi_num' on 'business_id'\n",
    "test_2 = test_2.merge(busi_num, how='inner', on='business_id', suffixes=('_review', '_busi')) # join 'test' and 'busi_num' on 'business_id'"
   ]
  },
  {
   "cell_type": "code",
   "execution_count": 34,
   "metadata": {},
   "outputs": [],
   "source": [
    "X_train, y_train = train_2.drop(['user_id','business_id','stars_review'], axis=1), train_2.stars_review\n",
    "X_test, y_test = test_2.drop(['user_id','business_id','stars_review'], axis=1), test_2.stars_review"
   ]
  },
  {
   "cell_type": "markdown",
   "metadata": {},
   "source": [
    "## 6.5 Regression models with default parameters to predict rating"
   ]
  },
  {
   "cell_type": "code",
   "execution_count": 42,
   "metadata": {},
   "outputs": [
    {
     "name": "stdout",
     "output_type": "stream",
     "text": [
      "                           r2_train mse_train rmse_train   r2_test mse_test  \\\n",
      "Lasso                      0.198088   1.56893    1.25257  0.145508  1.51479   \n",
      "Ridge                       0.19843   1.56826     1.2523  0.141732  1.52148   \n",
      "SVR                             NaN       NaN        NaN       NaN      NaN   \n",
      "RandomForestRegressor      0.701766   0.58349   0.763865  -0.20817  2.14176   \n",
      "GradientBoostingRegressor  0.237128   1.49255     1.2217  0.082031  1.62732   \n",
      "\n",
      "                          rmse_test  \n",
      "Lasso                       1.23077  \n",
      "Ridge                       1.23348  \n",
      "SVR                             NaN  \n",
      "RandomForestRegressor       1.46348  \n",
      "GradientBoostingRegressor   1.27566  \n"
     ]
    }
   ],
   "source": [
    "# refresh the above model fitting in 6.3 and print the resulting score table\n",
    "print(score_table)"
   ]
  },
  {
   "cell_type": "markdown",
   "metadata": {},
   "source": [
    "As a comparison, the RMSE obtained on the testset for the collaborative module is:<br>\n",
    "RMSE = 1.2743 for testset with unseen users and unseen businesses <br>\n",
    "RMSE = 0.9270 for testset with no new users and businesses <br>"
   ]
  },
  {
   "cell_type": "markdown",
   "metadata": {},
   "source": [
    "## 6.6 Evaluate recommendation ranking computed from the predicted ratings"
   ]
  },
  {
   "cell_type": "code",
   "execution_count": 75,
   "metadata": {},
   "outputs": [
    {
     "name": "stdout",
     "output_type": "stream",
     "text": [
      "Ranking by predicted ratings:\n",
      "                         rating_predict  stars\n",
      "business_id                                  \n",
      "rq5dgoksPHkJwJNQKlGQ7w        4.521218      5\n",
      "DV13F0bhe55dV1AhwoO50g        4.507332      5\n",
      "UutHMmZx1CQcjiyfmVa_7g        4.507332      5\n",
      "TTpgjbrSyxwHHzE5bIF-Rw        4.413707      3\n",
      "CeqWpwHBoaxwRcv5btnv6g        4.380109      5\n",
      "_sh6mIBWZis66mAjkjN8Qg        4.374843      5\n",
      "AZlnpvILz5cEWJifjr2CSQ        4.364149      5\n",
      "2BbFeotL85cIaBjSq1SWiA        4.352874      1\n",
      "x-80R4DE6AsYoDtA2H-sKw        4.340214      3\n",
      "YCEZLECK9IToE8Mysorbhw        4.112051      5\n",
      "RJtgNpUFthlJ5grLr16GxA        4.021113      5\n",
      "\n",
      "Normalized discounted cumulative gain achieved at top-10 based on testset:\n",
      " 0.9282611588502081\n",
      "CPU times: user 457 ms, sys: 17.4 ms, total: 474 ms\n",
      "Wall time: 480 ms\n"
     ]
    }
   ],
   "source": [
    "%%time\n",
    "# look at a particular user_id as an example\n",
    "\n",
    "user_id = '---1lKK3aKOuomHnwAkAow' # 11 review ratings available in the testset\n",
    "\n",
    "# concatenate predicted ratings to the testset and rank by the predicted ratings\n",
    "rating_predict = pd.Series(pred_test)\n",
    "rating_predict.name = 'rating_predict'\n",
    "rating_predict = pd.concat([test.reset_index(drop=True),rating_predict], axis=1).sort_values('rating_predict', ascending=False)\n",
    "\n",
    "# filter to the user_id of interest only\n",
    "rec = rating_predict[rating_predict.user_id == user_id].set_index('business_id')[['rating_predict','stars']]\n",
    "print('Ranking by predicted ratings:\\n', rec)\n",
    "ndcg = ndcg_at_k(r=rec.stars.values, k=10) # look at the NDCG score@top10\n",
    "print('\\nNormalized discounted cumulative gain achieved at top-10 based on testset:\\n', ndcg)"
   ]
  },
  {
   "cell_type": "code",
   "execution_count": 80,
   "metadata": {},
   "outputs": [
    {
     "name": "stdout",
     "output_type": "stream",
     "text": [
      "Ranking by predicted ratings for user_id of CrEBVkzIQs7tS-wWfaCjNQ is:\n",
      "                         rating_predict  stars\n",
      "business_id                                  \n",
      "fL2vdjn-ApNcsVntxtg4Dg        4.318359      1\n",
      "yWVNm0o6pj7PVIWBbYsqyw        4.153786      1\n",
      "XXW_OFaYQkkGOGniujZFHg        4.147998      5\n",
      "I0f12eU-xFn6Kd_4H57jrQ        4.117068      3\n",
      "U9nXdynQ2YR5xYx8tM3S7w        4.097378      1\n",
      "GPX3TnZ0-4pAxKPJUESbeA        4.086207      5\n",
      "XvOzizKafffkMuk-tIdNcQ        4.071860      3\n",
      "MBiQo_evqLa3pUDkh9rjWw        4.050083      1\n",
      "fh05S2FxDd_9Q95xf-ouww        3.994386      3\n",
      "ymwUAvCK7Qmf3IX58XqLGw        3.987670      4\n",
      "Ranking by predicted ratings for user_id of FgyvflZtqRF03j5bIrlnlA is:\n",
      "                         rating_predict  stars\n",
      "business_id                                  \n",
      "EfAqol3tWckyNrBMIooJmg        4.174721      1\n",
      "Qor28v4BlhSwtN8DSvah9g        4.067303      1\n",
      "AUl6myFhTAbEqt0GMdKHiw        3.989943      5\n",
      "ZFyJ83LJkkO1dP82kzXKNg        3.980448      1\n",
      "TCWMgOiV0PxQkWE1SyBIWQ        3.969145      1\n",
      "Wp1UkYg5LjeI3rDByzPxlg        3.946537      1\n",
      "-95mbLJsa0CxXhpaNL4LvA        3.899818      2\n",
      "dYZqJ2S1ND9KghLIKJg71g        3.867977      5\n",
      "E67gGK8yOn9kkNzx8FzQKA        3.840821      5\n",
      "0QzCeORfF8EY34UODWRV9A        3.839664      1\n",
      "Ranking by predicted ratings for user_id of V-BbqKqO8anwplGRx9Q5aQ is:\n",
      "                         rating_predict  stars\n",
      "business_id                                  \n",
      "SVmLmDmLBj3FoArpXjB8wA        3.971033      1\n",
      "UUGoM4q4i8rK2CBRS0xDAw        3.912465      2\n",
      "Xfc-B8XUPkvvYoy5eVFO4w        3.879662      4\n",
      "7lNFXLUNzbRKKJR01G1Hdg        3.835245      1\n",
      "Ak08F6RqjHYmVCzweBbTrQ        3.830783      4\n",
      "xpHrwe2X-X9K81TEz_W9Cw        3.815135      1\n",
      "SOYUSUhdKK8jUUJkSQa6lQ        3.784921      1\n",
      "yF9G4dJAm94pfnEWzPtPYQ        3.712822      4\n",
      "Ehy00JWQixgoXzisVKhvag        3.689706      2\n",
      "P2GBKrx7dJg3xeGtuU2K-A        3.683470      3\n",
      "Ranking by predicted ratings for user_id of pWEzY3YY0zEAJLlGSSucrQ is:\n",
      "                         rating_predict  stars\n",
      "business_id                                  \n",
      "4tiFtmGNFcvKRSPXPVT8Hw        3.918964      1\n",
      "PSRZaGGxXmOmabL2si8pKw        3.844282      2\n",
      "Z3ZSar8IVAR2qIupqxMynA        3.838391      1\n",
      "sIr0Wp13Z_MqwgcNvF-5ew        3.816436      5\n",
      "WVsRzlRdnK4rKKWdeLYR1w        3.797526      1\n",
      "65eDIQ8bpMJFtgdyX7ulVA        3.770574      4\n",
      "zuwba6QEBIDZT0tJZmNhdQ        3.749348      2\n",
      "q3dJQtwZQrrurNT-1bNKgQ        3.740647      3\n",
      "DO3FefiMYiPYsEl6O8W2dw        3.729974      4\n",
      "hRZadfm7OEOzk0qjuk8BXg        3.694303      4\n",
      "Ranking by predicted ratings for user_id of v7FPnMzdbl6J7U_8H1BWZA is:\n",
      "                         rating_predict  stars\n",
      "business_id                                  \n",
      "IdyHd4T3rZ1pyPaU5DKWMg        4.617273      1\n",
      "fskIA-YRflPnwHWL7Q8bLg        4.349939      1\n",
      "SWDxTrwU_qlEcJp36IYquw        4.272118      5\n",
      "fOnpoMXToa5Qiyg95E6ENg        4.168935      1\n",
      "u--jf3lS_04kmQNO4liAsQ        3.721864      5\n",
      "_sOni_t0FvAQuUDBEGe3Gg        3.718872      1\n",
      "g0rTFoLeIR9-xj9bOUWQDQ        3.714212      1\n",
      "cvu61K0_g7ZIpaEPCiaNcA        3.714212      5\n",
      "JX7SfuAc3a56g8LT-tlYxQ        3.714212      1\n",
      "Lm61pehc-oyqR6DBAAQNCg        3.714212      1\n",
      "CPU times: user 2min 49s, sys: 738 ms, total: 2min 50s\n",
      "Wall time: 2min 52s\n"
     ]
    }
   ],
   "source": [
    "%%time\n",
    "# evaluate NDCG@top10 on the entire testset\n",
    "\n",
    "# only look at NDCG scores for users with at least 10 ratings available in the testset in order to evaluate NDCG@top10\n",
    "rev_count_by_user = test.groupby('user_id').review_id.count()\n",
    "user_id_of_interest = rev_count_by_user[rev_count_by_user >= 10].index\n",
    "\n",
    "# concatenate predicted ratings to the testset and rank by the predicted ratings\n",
    "rating_predict = pd.Series(pred_test)\n",
    "rating_predict.name = 'rating_predict'\n",
    "rating_predict = pd.concat([test.reset_index(drop=True),rating_predict], axis=1).sort_values('rating_predict', ascending=False)\n",
    "\n",
    "ndcg_scores_3 = []\n",
    "# compute NDCG score for each user in the testset\n",
    "for user_id in user_id_of_interest:\n",
    "    \n",
    "    # filter to the user_id of interest only\n",
    "    rec = rating_predict[rating_predict.user_id == user_id].set_index('business_id')[['rating_predict','stars']]\n",
    "    assert len(rec) >= 10\n",
    "    ndcg = ndcg_at_k(r=rec.stars.values, k=10) # compute NDCG score@top10\n",
    "    ndcg_scores_3.append(ndcg)\n",
    "    \n",
    "    if ndcg < 0.5: # if low ndcg score below 0.5, print the ranking results\n",
    "        print('Ranking by predicted ratings for user_id of {} is:\\n {}'.format(user_id, rec.head(10)))"
   ]
  },
  {
   "cell_type": "code",
   "execution_count": 81,
   "metadata": {},
   "outputs": [
    {
     "name": "stdout",
     "output_type": "stream",
     "text": [
      "Number of users of interest in the testset (at least 10 review ratings in the testset): 3432\n",
      "Average NDCG score across all users of interest in the testset: 0.8526075891427553\n",
      "Max and min NDCG scores for users of interest in the testset: 1.0 0.41169617818195076\n",
      "25, 50, 75 and 90 percentiles of all the valid NDCG scores are: [0.79852569 0.86655577 0.91881536 0.95604697]\n"
     ]
    },
    {
     "data": {
      "image/png": "[encoded data removed]",
      "text/plain": [
       "<Figure size 432x288 with 1 Axes>"
      ]
     },
     "metadata": {},
     "output_type": "display_data"
    }
   ],
   "source": [
    "# summary statistics on the NDCG scores of the testset\n",
    "print('Number of users of interest in the testset (at least 10 review ratings in the testset):', len(ndcg_scores_3))\n",
    "print('Average NDCG score across all users of interest in the testset:', sum(ndcg_scores_3)/len(ndcg_scores_3))\n",
    "print('Max and min NDCG scores for users of interest in the testset:', max(ndcg_scores_3), min(ndcg_scores_3))\n",
    "print('25, 50, 75 and 90 percentiles of all the valid NDCG scores are:', np.percentile(ndcg_scores_3, [25, 50,75,90]))\n",
    "plt.hist(ndcg_scores_3); # plot ndcg_score distribution"
   ]
  },
  {
   "cell_type": "markdown",
   "metadata": {},
   "source": [
    "As shown, this is better than the recommendation ranking based on cosine similarity from restaurant text metadata-based features. "
   ]
  },
  {
   "cell_type": "markdown",
   "metadata": {},
   "source": [
    "# 7. Implement content-based recommender module"
   ]
  },
  {
   "cell_type": "markdown",
   "metadata": {},
   "source": [
    "# !!! current implementation uses the cosine similarity score based on the restaurant features extracted from reviews;\n",
    "# !!![to be decided and added] how to combine the two similarity scores in the actual implementation, one similarity score based on features extracted from reviews, the other similarity score based on features extracted from restaurant metadata. "
   ]
  },
  {
   "cell_type": "code",
   "execution_count": 46,
   "metadata": {},
   "outputs": [],
   "source": [
    "import os.path\n",
    "from sklearn.metrics.pairwise import linear_kernel"
   ]
  },
  {
   "cell_type": "code",
   "execution_count": 47,
   "metadata": {},
   "outputs": [],
   "source": [
    "# extract a subset of reviews related to the restaurant business of our interest\n",
    "review_s = review[review.business_id.isin(business.business_id.unique())]"
   ]
  },
  {
   "cell_type": "code",
   "execution_count": 48,
   "metadata": {},
   "outputs": [],
   "source": [
    "class Recommender:\n",
    "    \n",
    "    def __init__(self, n=5, original_score=False):\n",
    "        \"\"\"initiate a Recommender object by passing the desired number of recommendations to make, the default number is 10.\n",
    "        By default, the adjusted score will be used for ranking; To rank by the original average rating of the restaurant, pass original_score=True\n",
    "        \"\"\"\n",
    "        self.n = n # number of recommendations to make, default is 5\n",
    "        self.original_score = original_score # boolean indicating whether the original average rating or the adjusted score is used\n",
    "        # initiate a list of column names to display in the recommendation results\n",
    "        self.column_to_display = ['state','city','name','address','attributes.RestaurantsPriceRange2','cuisine','style','review_count','stars','adjusted_score']\n",
    "        \n",
    "        # initiate the list of recommendations to be all the open restaurants from the entire catalog of 'business' dataframe sorted by the score of interest\n",
    "        if self.original_score:  # set sorting criteria to the originial star rating\n",
    "            score = 'stars'\n",
    "        else:  # set sorting criteria to the adjusted score\n",
    "            score = 'adjusted_score'\n",
    "        self.recomm = business[business.is_open == 1].sort_values(score, ascending=False) \n",
    "        \n",
    "    def display_recommendation(self):\n",
    "        \"\"\" Display the list of top n recommended restaurants\n",
    "        \"\"\"\n",
    "        if len(self.recomm) == 0:\n",
    "            print(\"Sorry, there is no matching recommendations.\")\n",
    "        elif self.n < len(self.recomm):  # display only the top n from the recommendation list\n",
    "            print(\"Below is a list of the top {} recommended restaurants for you: \".format(self.n))\n",
    "            print(self.recomm.iloc[:self.n][self.column_to_display])\n",
    "        else:  # display all if # of recommendations is less than self.n\n",
    "            print(\"Below is a list of the top {} recommended restaurants for you: \".format(len(self.recomm)))\n",
    "            print(self.recomm[self.column_to_display])\n",
    " \n",
    "    #------------------------------------------------------------\n",
    "    # personalized content-based filtering recommender module\n",
    "    def content(self, user_id=None):\n",
    "        \"\"\"Passing of user_id is required if personalized recommendation is desired.\n",
    "        \"\"\"\n",
    "        \n",
    "        self.user_id = user_id # user_id for personalized recommendation using collaborative filtering \n",
    "        if self.user_id is None:\n",
    "            print(\"no user_id is provided!\")\n",
    "            return None\n",
    "        if len(self.user_id) != 22:\n",
    "            print(\"invalid user id!\")\n",
    "            return None\n",
    "        if self.user_id not in review_s.user_id.unique(): # check if previous restaurant rating/review history is available for the user_id of interest\n",
    "            print(\"sorry, no personal data available for this user_id yet!\")\n",
    "            return []\n",
    "        \n",
    "        # initiate every time the module is called\n",
    "        self.recomm = business[business.is_open ==1] # start with all open restaurants from the entire 'business' catalog\n",
    "        self.column_to_display = ['state','city','name','address','attributes.RestaurantsPriceRange2',\\\n",
    "                                  'cuisine','style','review_count','stars','adjusted_score'] # reset the columns to display\n",
    "        if 'similarity_score' in self.recomm.columns:\n",
    "            self.recomm.drop('similarity_score', axis=1, inplace=True) # delete the column of 'cosine_similarity' if already present\n",
    "        \n",
    "        # load the saved restaurant pca feature vectors\n",
    "        with open('rest_pcafeature_allset.pkl', 'rb') as f:\n",
    "            rest_pcafeature = pickle.load(f)\n",
    "            \n",
    "        # load the saved user pca feature vectors\n",
    "        max_bytes = 2**31 - 1\n",
    "        bytes_in = bytearray(0)\n",
    "        input_size = os.path.getsize('user_pcafeature_all.pkl')\n",
    "        with open('user_pcafeature_all.pkl','rb') as f: \n",
    "            for _ in range(0, input_size, max_bytes):\n",
    "                bytes_in += f.read(max_bytes)\n",
    "            user_pcafeature = pickle.loads(bytes_in)\n",
    "        \n",
    "        # predict personalized cosine similarity scores for the user_id of interest\n",
    "        sim_matrix = linear_kernel(user_pcafeature.loc[user_id].values.reshape(1, -1), rest_pcafeature)\n",
    "        sim_matrix = sim_matrix.flatten()\n",
    "        sim_matrix = pd.Series(sim_matrix, index = rest_pcafeature.index)\n",
    "        sim_matrix.name = 'similarity_score'\n",
    "        \n",
    "        # pairing the computed cosine similarity score with the business_id by matching the corresponding matrix indices of the business_id\n",
    "        self.recomm = pd.concat([sim_matrix, self.recomm.set_index('business_id')], axis=1, join='inner').reset_index()\n",
    "        \n",
    "        # filter to unrated business_id only by the user_id of interest if a personal history is available      \n",
    "        busi_rated = review_s[review_s.user_id == self.user_id].business_id.unique()\n",
    "        self.recomm = self.recomm[~self.recomm.business_id.isin(busi_rated)]\n",
    "               \n",
    "        # sort the recommendation by the cosine similarity score in descending order\n",
    "        self.recomm = self.recomm.sort_values('similarity_score', ascending=False).reset_index(drop=True)\n",
    "           \n",
    "        # add 'similarity_score' to the list of columns to display\n",
    "        self.column_to_display.insert(0, 'similarity_score') \n",
    "        \n",
    "        # display the list of top n recommendations\n",
    "        self.display_recommendation()\n",
    "        \n",
    "        return self.recomm"
   ]
  },
  {
   "cell_type": "code",
   "execution_count": 173,
   "metadata": {},
   "outputs": [
    {
     "name": "stdout",
     "output_type": "stream",
     "text": [
      "CPU times: user 3 s, sys: 11.7 s, total: 14.7 s\n",
      "Wall time: 27.4 s\n"
     ]
    }
   ],
   "source": [
    "%%time\n",
    "\n",
    "# load the saved restaurant pca feature vectors\n",
    "with open('rest_pcafeature_allset.pkl', 'rb') as f:\n",
    "    rest_pcafeature = pickle.load(f)\n",
    "            \n",
    "# load the saved user pca feature vectors\n",
    "max_bytes = 2**31 - 1\n",
    "bytes_in = bytearray(0)\n",
    "input_size = os.path.getsize('user_pcafeature_allset.pkl')\n",
    "with open('user_pcafeature_allset.pkl','rb') as f: \n",
    "    for _ in range(0, input_size, max_bytes):\n",
    "        bytes_in += f.read(max_bytes)\n",
    "    user_pcafeature = pickle.loads(bytes_in)"
   ]
  },
  {
   "cell_type": "markdown",
   "metadata": {},
   "source": [
    "Note: the time needed to load the restaurant and user feature vectors is around 20 seconds."
   ]
  },
  {
   "cell_type": "markdown",
   "metadata": {},
   "source": [
    "### testing of the personalized content-based recommender module"
   ]
  },
  {
   "cell_type": "code",
   "execution_count": 174,
   "metadata": {},
   "outputs": [
    {
     "name": "stdout",
     "output_type": "stream",
     "text": [
      "------\n",
      "result from test0 (display only): \n",
      "Below is a list of the top 10 recommended restaurants for you: \n",
      "      state             city                                  name  \\\n",
      "7464     AZ          Phoenix                       Little Miss BBQ   \n",
      "31910    NV        Las Vegas                          Brew Tea Bar   \n",
      "45401    NV        Las Vegas                            Gelatology   \n",
      "7784     NV  North Las Vegas                          Poke Express   \n",
      "28162    NV        Las Vegas                    Meráki Greek Grill   \n",
      "2684     AZ             Mesa                        Worth Takeaway   \n",
      "14567    NV        Las Vegas                Free Vegas Club Passes   \n",
      "11521    NV        Las Vegas  Paranormal - Mind Reading Magic Show   \n",
      "30972    NV        Las Vegas           Desert Wind Coffee Roasters   \n",
      "46284    NV        Henderson                                HUMMUS   \n",
      "\n",
      "                            address  attributes.RestaurantsPriceRange2  \\\n",
      "7464           4301 E University Dr                                2.0   \n",
      "31910  7380 S Rainbow Blvd, Ste 101                                1.0   \n",
      "45401  7910 S Rainbow Blvd, Ste 110                                1.0   \n",
      "7784        655 W Craig Rd, Ste 118                                2.0   \n",
      "28162  4950 S Rainbow Blvd, Ste 160                                2.0   \n",
      "2684                  218 W Main St                                2.0   \n",
      "14567                           NaN                                NaN   \n",
      "11521         3645 Las Vegas Blvd S                                NaN   \n",
      "30972             7772 W Sahara Ave                                1.0   \n",
      "46284  10895 S Eastern Ave, Ste 100                                1.0   \n",
      "\n",
      "                                                 cuisine  \\\n",
      "7464                                            barbeque   \n",
      "31910                               desserts, bubble tea   \n",
      "45401                ice cream & frozen yogurt, desserts   \n",
      "7784                                            hawaiian   \n",
      "28162                               greek, mediterranean   \n",
      "2684   sandwiches, american (new), american (traditio...   \n",
      "14567                                                NaN   \n",
      "11521                                                NaN   \n",
      "30972                                       coffee & tea   \n",
      "46284  gluten-free, vegan, mediterranean, middle eastern   \n",
      "\n",
      "                                                   style  review_count  stars  \\\n",
      "7464                                         restaurants          1746    5.0   \n",
      "31910                                 cafes, restaurants          1380    5.0   \n",
      "45401                                                NaN           547    5.0   \n",
      "7784                                         restaurants           520    5.0   \n",
      "28162                                        restaurants           472    5.0   \n",
      "2684                     breakfast & brunch, restaurants           450    5.0   \n",
      "14567                             dance clubs, nightlife           417    5.0   \n",
      "11521                           casinos, performing arts           408    5.0   \n",
      "30972                                                NaN           408    5.0   \n",
      "46284  fast food, caterers, juice bars & smoothies, r...           372    5.0   \n",
      "\n",
      "       adjusted_score  \n",
      "7464         4.984169  \n",
      "31910        4.980037  \n",
      "45401        4.950811  \n",
      "7784         4.948360  \n",
      "28162        4.943342  \n",
      "2684         4.940702  \n",
      "14567        4.936244  \n",
      "11521        4.934910  \n",
      "30972        4.934910  \n",
      "46284        4.928962  \n",
      "------\n",
      "result from test1 (no user id input): \n",
      "no user_id is provided!\n",
      "------\n",
      "result from test2 (invalid user id input): \n",
      "invalid user id!\n",
      "CPU times: user 95 ms, sys: 246 ms, total: 341 ms\n",
      "Wall time: 566 ms\n"
     ]
    }
   ],
   "source": [
    "%%time\n",
    "\n",
    "# initiate a Recommender object\n",
    "con = Recommender(n=10)\n",
    "\n",
    "# test0: display only (same as no keywords)\n",
    "print(\"------\\nresult from test0 (display only): \")\n",
    "con.display_recommendation()\n",
    "\n",
    "# test1: no user id input\n",
    "print(\"------\\nresult from test1 (no user id input): \")\n",
    "con.content();\n",
    "\n",
    "# test 2: invalid user id input\n",
    "print(\"------\\nresult from test2 (invalid user id input): \")\n",
    "con.content(user_id='928402');"
   ]
  },
  {
   "cell_type": "code",
   "execution_count": 176,
   "metadata": {},
   "outputs": [
    {
     "name": "stdout",
     "output_type": "stream",
     "text": [
      "------\n",
      "result from test3 (valid user id --- no user review data): \n",
      "sorry, no personal data available for this user_id yet!\n",
      "CPU times: user 314 ms, sys: 36.3 ms, total: 350 ms\n",
      "Wall time: 349 ms\n"
     ]
    }
   ],
   "source": [
    "%%time\n",
    "\n",
    "# test 3: valid user id (no user data)\n",
    "print(\"------\\nresult from test3 (valid user id --- no user review data): \")\n",
    "con.content(user_id='-NzChtoNOw706kps82x0Kg');"
   ]
  },
  {
   "cell_type": "code",
   "execution_count": 177,
   "metadata": {
    "scrolled": false
   },
   "outputs": [
    {
     "name": "stdout",
     "output_type": "stream",
     "text": [
      "------\n",
      "result from test4 (valid user id --- user has only one review): \n",
      "Below is a list of the top 10 recommended restaurants for you: \n",
      "   similarity_score state       city                               name  \\\n",
      "0          0.920511    NV  Henderson      The Bar At Bermuda & St. Rose   \n",
      "1          0.913473    NV  Las Vegas  The Bar @ Las Vegas Blvd & Wigwam   \n",
      "2          0.912803    NV  Las Vegas      The Bar @ Tropicana & Durango   \n",
      "3          0.859365    NV  Las Vegas            The Bar @Trails Village   \n",
      "4          0.848265    NV  Las Vegas              Distill - A Local Bar   \n",
      "5          0.847307    NV  Las Vegas              Distill - A Local Bar   \n",
      "6          0.841570    NV  Henderson                    Remedy's Tavern   \n",
      "7          0.814201    NV  Las Vegas                 Sunrise Casablanca   \n",
      "8          0.813073    NV  Las Vegas                   Aces Bar & Grill   \n",
      "9          0.803431    NV  Las Vegas                Cactus Jacks Saloon   \n",
      "\n",
      "                          address  attributes.RestaurantsPriceRange2  \\\n",
      "0                11624 Bermuda Rd                                2.0   \n",
      "1           8560 S Las Vegas Blvd                                2.0   \n",
      "2         4705 S Durango, Ste 140                                2.0   \n",
      "3  1916 Village Center Cir, Ste 6                                2.0   \n",
      "4      6430 N Durango Dr, Ste 110                                2.0   \n",
      "5                 4830 W Pyle Ave                                2.0   \n",
      "6               3265 St Rose Pkwy                                2.0   \n",
      "7          6320 E Charleston Blvd                                1.0   \n",
      "8    7272 S El Capitan Way, Ste 2                                2.0   \n",
      "9           10648 S Maryland Pkwy                                1.0   \n",
      "\n",
      "                                             cuisine  \\\n",
      "0               beer, wine & spirits, american (new)   \n",
      "1                             american (traditional)   \n",
      "2                             american (traditional)   \n",
      "3                                              salad   \n",
      "4                           american (new), desserts   \n",
      "5               beer, wine & spirits, american (new)   \n",
      "6                                burgers, sandwiches   \n",
      "7                             american (traditional)   \n",
      "8                                     specialty food   \n",
      "9  chicken wings, pizza, american (traditional), ...   \n",
      "\n",
      "                                               style  review_count  stars  \\\n",
      "0                       restaurants, nightlife, bars           125    4.0   \n",
      "1    pubs, sports bars, bars, restaurants, nightlife           147    4.0   \n",
      "2                       nightlife, restaurants, bars            82    4.0   \n",
      "3  restaurants, breakfast & brunch, bars, nightli...            62    4.5   \n",
      "4  breakfast & brunch, bars, nightlife, cocktail ...           203    4.0   \n",
      "5                       restaurants, nightlife, bars           300    4.0   \n",
      "6                 pubs, nightlife, bars, restaurants           246    4.0   \n",
      "7                       bars, nightlife, restaurants            27    4.0   \n",
      "8                       bars, sports bars, nightlife            81    4.0   \n",
      "9          sports bars, restaurants, bars, nightlife            49    3.5   \n",
      "\n",
      "   adjusted_score  \n",
      "0        3.959260  \n",
      "1        3.964563  \n",
      "2        3.942415  \n",
      "3        4.297752  \n",
      "4        3.973383  \n",
      "5        3.981401  \n",
      "6        3.977654  \n",
      "7        3.877779  \n",
      "8        3.941856  \n",
      "9        3.570580  \n",
      "CPU times: user 4.69 s, sys: 12.2 s, total: 16.9 s\n",
      "Wall time: 29.4 s\n"
     ]
    }
   ],
   "source": [
    "%%time\n",
    "\n",
    "# test 4: valid user id (user has only one review)\n",
    "print(\"------\\nresult from test4 (valid user id --- user has only one review): \")\n",
    "con.content(user_id='---89pEy_h9PvHwcHNbpyg');"
   ]
  },
  {
   "cell_type": "markdown",
   "metadata": {},
   "source": [
    "As shown, the total time to return the recommendation is around 25 seconds, but the time needed to load the feature vectors is 20 seconds by itself. Therefore, to speed up the recommender's response time, an alternative way is to load in the restaurant and user feature vectors when initializing the recommender object (under the \\__init\\__ method). \n",
    "\n",
    "As shown, the personalized recommendation features mid-price range bars of high ratings near Las Vegas, these are very personalized recommendations based on the user's only review of a 4-star nightlife bars in the mid-price range located in Las Vegas, and the user gives the bar a 5-star review with strong positive words, a clear indication of his/her preference."
   ]
  },
  {
   "cell_type": "code",
   "execution_count": 178,
   "metadata": {
    "scrolled": false
   },
   "outputs": [
    {
     "name": "stdout",
     "output_type": "stream",
     "text": [
      "------\n",
      "result from test5 (valid user id --- user has over 100 reviews): \n",
      "Below is a list of the top 10 recommended restaurants for you: \n",
      "   similarity_score state       city                          name  \\\n",
      "0          0.662795    AZ       Mesa                  Modern Grove   \n",
      "1          0.656317    AZ    Gilbert              Joe's Farm Grill   \n",
      "2          0.624906    AZ    Phoenix                           FEZ   \n",
      "3          0.621353    AZ    Phoenix        Maizie's Cafe & Bistro   \n",
      "4          0.613937    AZ       Mesa                  Orchard Eats   \n",
      "5          0.606274    AZ   Surprise               New York Flavor   \n",
      "6          0.598196    AZ    Phoenix                 Modern  Grove   \n",
      "7          0.589970    NV  Las Vegas            Hunt & Gather Cafe   \n",
      "8          0.583544    AZ    Phoenix                 Welcome Diner   \n",
      "9          0.575226    AZ    Phoenix  Wally's American Pub N Grill   \n",
      "\n",
      "                       address  attributes.RestaurantsPriceRange2  \\\n",
      "0     1958 E Brown Rd, Ste 103                                2.0   \n",
      "1        3000 E Ray Rd, Bldg 1                                2.0   \n",
      "2           3815 N Central Ave                                2.0   \n",
      "3           4750 N Central Ave                                2.0   \n",
      "4     2036 N Gilbert Rd, Ste 6                                1.0   \n",
      "5   15170 W Bell Rd, Ste 2-103                                1.0   \n",
      "6  15530 N Tatum Blvd, Ste 160                                2.0   \n",
      "7     7240 W Azure Dr, Ste 145                                2.0   \n",
      "8              929 E Pierce St                                2.0   \n",
      "9               5029 N 44th St                                2.0   \n",
      "\n",
      "                                             cuisine  \\\n",
      "0  american (new), beer, wine & spirits, burgers,...   \n",
      "1  pizza, italian, american (traditional), salad,...   \n",
      "2                      american (new), mediterranean   \n",
      "3                                     american (new)   \n",
      "4             american (traditional), american (new)   \n",
      "5                                burgers, sandwiches   \n",
      "6  american (new), burgers, beer, wine & spirits,...   \n",
      "7                                pizza, coffee & tea   \n",
      "8                    burgers, american (traditional)   \n",
      "9                 american (traditional), sandwiches   \n",
      "\n",
      "                                    style  review_count  stars  adjusted_score  \n",
      "0         breakfast & brunch, restaurants           110    3.5        3.537964  \n",
      "1                             restaurants          1884    4.0        3.996858  \n",
      "2   bars, restaurants, lounges, nightlife          1036    4.0        3.994340  \n",
      "3                      cafes, restaurants           382    4.0        3.985176  \n",
      "4         restaurants, breakfast & brunch           185    4.0        3.971069  \n",
      "5  restaurants, breakfast & brunch, delis           269    4.5        4.441619  \n",
      "6         breakfast & brunch, restaurants           327    3.0        3.045877  \n",
      "7                      restaurants, cafes           126    4.0        3.959535  \n",
      "8    restaurants, diners, nightlife, bars           848    4.5        4.480473  \n",
      "9                             restaurants           172    4.5        4.412429  \n",
      "CPU times: user 4.4 s, sys: 10.5 s, total: 14.9 s\n",
      "Wall time: 29.5 s\n"
     ]
    }
   ],
   "source": [
    "%%time\n",
    "\n",
    "# test 5: valid user id (user has over 100 reviews)\n",
    "print(\"------\\nresult from test5 (valid user id --- user has over 100 reviews): \")\n",
    "con.content(user_id='Ox89nMY8HpT0vxfKGqDPdA');"
   ]
  },
  {
   "cell_type": "markdown",
   "metadata": {},
   "source": [
    "As shown, the personalized recommendation list features popular restaurants (over 100 reviews) in the low-to-mid price range, featuring american style cuisines (pizza, burger, sandwiches), located in Arizona. These are very personalized recommendations based on the user's history of 120 restaurant reviews."
   ]
  },
  {
   "cell_type": "code",
   "execution_count": null,
   "metadata": {},
   "outputs": [],
   "source": []
  }
 ],
 "metadata": {
  "kernelspec": {
   "display_name": "Python 3",
   "language": "python",
   "name": "python3"
  },
  "language_info": {
   "codemirror_mode": {
    "name": "ipython",
    "version": 3
   },
   "file_extension": ".py",
   "mimetype": "text/x-python",
   "name": "python",
   "nbconvert_exporter": "python",
   "pygments_lexer": "ipython3",
   "version": "3.6.5"
  }
 },
 "nbformat": 4,
 "nbformat_minor": 2
}
